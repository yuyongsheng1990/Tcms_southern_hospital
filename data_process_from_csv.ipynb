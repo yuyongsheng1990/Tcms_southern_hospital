{
 "cells": [
  {
   "cell_type": "code",
   "execution_count": 1,
   "metadata": {},
   "outputs": [],
   "source": [
    "# _*_ coding: utf-8 _*_\n",
    "# @Time: 2022/01/21 14:10 \n",
    "# @Author: yuyongsheng\n",
    "# @Software: PyCharm\n",
    "# @Description: 南方医院他克莫司：1. 数据处理"
   ]
  },
  {
   "cell_type": "markdown",
   "metadata": {},
   "source": [
    "# 原始数据预处理"
   ]
  },
  {
   "cell_type": "markdown",
   "metadata": {},
   "source": [
    "## 导入程序包"
   ]
  },
  {
   "cell_type": "code",
   "execution_count": 2,
   "metadata": {},
   "outputs": [
    {
     "name": "stdout",
     "output_type": "stream",
     "text": [
      "D:\\PycharmProjects\\Tcms_southern_hospital\n"
     ]
    }
   ],
   "source": [
    "# 导入程序包\n",
    "import pymysql as MySQLDB\n",
    "import pandas as pd\n",
    "import numpy as np\n",
    "\n",
    "import re\n",
    "import sys\n",
    "import os\n",
    "project_path = os.getcwd()\n",
    "print(project_path)"
   ]
  },
  {
   "cell_type": "markdown",
   "metadata": {},
   "source": [
    "## 导入预定义函数"
   ]
  },
  {
   "cell_type": "code",
   "execution_count": 3,
   "metadata": {},
   "outputs": [],
   "source": [
    "# 字符串转换为时间格式\n",
    "import datetime\n",
    "def str_to_datetime(x):\n",
    "    try:\n",
    "        a = datetime.datetime.strptime(x, \"%d-%m-%Y %H:%M:%S\")\n",
    "        return a\n",
    "    except:\n",
    "        return np.NaN"
   ]
  },
  {
   "cell_type": "code",
   "execution_count": 4,
   "metadata": {},
   "outputs": [],
   "source": [
    "# 过滤文字\n",
    "import numpy as np\n",
    "def filter_string(df,feature):\n",
    "    # 过滤文字!!!!!!!!!!!!!!!!!!!!!!!!!!!\n",
    "    df=df[df[feature].str.contains('\\d')]\n",
    "    return df"
   ]
  },
  {
   "cell_type": "code",
   "execution_count": 5,
   "metadata": {},
   "outputs": [],
   "source": [
    "# 过滤特殊字符\n",
    "def filter_spec_character(df,feature):\n",
    "    df[feature]=df[feature].apply(lambda x: re.sub('<|>|\\+|\\/|-|cm|kg','',str(x)))\n",
    "    return df"
   ]
  },
  {
   "cell_type": "code",
   "execution_count": 6,
   "metadata": {},
   "outputs": [],
   "source": [
    "# 过滤异常大值\n",
    "def filter_huge_value(df,feature,median_value=1):\n",
    "    # 过滤异常大值!!!!!!!!!!!!!!!!!!!!!!!!!!\n",
    "    if not median_value:\n",
    "        median_value=df[feature].median()\n",
    "    df[feature]=df[feature].apply(lambda x: np.nan if x<0 else x if float(x) <= 100 * median_value else 100*median_value)\n",
    "    df=df[df[feature].notnull()]\n",
    "    return df"
   ]
  },
  {
   "cell_type": "markdown",
   "metadata": {},
   "source": [
    "## 读取doctor_order数据库表"
   ]
  },
  {
   "cell_type": "code",
   "execution_count": 7,
   "metadata": {},
   "outputs": [],
   "source": [
    "# 从df_doctor_order读入数据\n",
    "df_doctor_order =pd.read_csv(project_path +'/data/raw_data/df_doctor_order.csv')\n",
    "if 'Unnamed: 0' in df_doctor_order.columns:\n",
    "    df_doctor_order = df_doctor_order.drop(['Unnamed: 0'], axis=1)"
   ]
  },
  {
   "cell_type": "code",
   "execution_count": 8,
   "metadata": {},
   "outputs": [
    {
     "name": "stdout",
     "output_type": "stream",
     "text": [
      "(1130347, 30)\n",
      "1079\n"
     ]
    }
   ],
   "source": [
    "print(df_doctor_order.shape)\n",
    "print(df_doctor_order['patient_id'].nunique())"
   ]
  },
  {
   "cell_type": "code",
   "execution_count": 9,
   "metadata": {},
   "outputs": [],
   "source": [
    "# 提取有效字段\n",
    "df_doctor_order=df_doctor_order[['patient_id','case_no','long_d_order','drug_name','drug_spec','dosage','frequency',\n",
    "                                 'start_datetime','end_datetime','statusdesc']]"
   ]
  },
  {
   "cell_type": "code",
   "execution_count": 10,
   "metadata": {},
   "outputs": [
    {
     "data": {
      "text/html": [
       "<div>\n",
       "<style scoped>\n",
       "    .dataframe tbody tr th:only-of-type {\n",
       "        vertical-align: middle;\n",
       "    }\n",
       "\n",
       "    .dataframe tbody tr th {\n",
       "        vertical-align: top;\n",
       "    }\n",
       "\n",
       "    .dataframe thead th {\n",
       "        text-align: right;\n",
       "    }\n",
       "</style>\n",
       "<table border=\"1\" class=\"dataframe\">\n",
       "  <thead>\n",
       "    <tr style=\"text-align: right;\">\n",
       "      <th></th>\n",
       "      <th>patient_id</th>\n",
       "      <th>case_no</th>\n",
       "      <th>long_d_order</th>\n",
       "      <th>drug_name</th>\n",
       "      <th>drug_spec</th>\n",
       "      <th>dosage</th>\n",
       "      <th>frequency</th>\n",
       "      <th>start_datetime</th>\n",
       "      <th>end_datetime</th>\n",
       "      <th>statusdesc</th>\n",
       "    </tr>\n",
       "  </thead>\n",
       "  <tbody>\n",
       "    <tr>\n",
       "      <th>0</th>\n",
       "      <td>7365906</td>\n",
       "      <td>3721037</td>\n",
       "      <td>0</td>\n",
       "      <td>肾功五项（UREA,CR,UA,TCO2,CysC）</td>\n",
       "      <td>NaN</td>\n",
       "      <td>NaN</td>\n",
       "      <td>ONCE</td>\n",
       "      <td>2018-06-07 17:37:52</td>\n",
       "      <td>NaN</td>\n",
       "      <td>执行</td>\n",
       "    </tr>\n",
       "    <tr>\n",
       "      <th>1</th>\n",
       "      <td>7365906</td>\n",
       "      <td>3721037</td>\n",
       "      <td>0</td>\n",
       "      <td>血型鉴定(ABO+RhD)</td>\n",
       "      <td>NaN</td>\n",
       "      <td>NaN</td>\n",
       "      <td>ONCE</td>\n",
       "      <td>2018-06-07 17:37:53</td>\n",
       "      <td>NaN</td>\n",
       "      <td>执行</td>\n",
       "    </tr>\n",
       "    <tr>\n",
       "      <th>2</th>\n",
       "      <td>7365906</td>\n",
       "      <td>3721037</td>\n",
       "      <td>0</td>\n",
       "      <td>5%葡萄糖注射液[250ml*1袋]</td>\n",
       "      <td>250ml*1袋</td>\n",
       "      <td>250ml</td>\n",
       "      <td>ONCE</td>\n",
       "      <td>2018-06-08 09:41:02</td>\n",
       "      <td>NaN</td>\n",
       "      <td>核实</td>\n",
       "    </tr>\n",
       "    <tr>\n",
       "      <th>3</th>\n",
       "      <td>7365906</td>\n",
       "      <td>3721037</td>\n",
       "      <td>0</td>\n",
       "      <td>脂溶性维生素(Ⅱ)/水溶性维生素组合包装[co*1盒]</td>\n",
       "      <td>co*1盒</td>\n",
       "      <td>1co</td>\n",
       "      <td>ONCE</td>\n",
       "      <td>2018-06-08 09:41:02</td>\n",
       "      <td>NaN</td>\n",
       "      <td>核实</td>\n",
       "    </tr>\n",
       "    <tr>\n",
       "      <th>4</th>\n",
       "      <td>7365906</td>\n",
       "      <td>3721037</td>\n",
       "      <td>0</td>\n",
       "      <td>静脉输液第二组起每组</td>\n",
       "      <td>NaN</td>\n",
       "      <td>NaN</td>\n",
       "      <td>ONCE</td>\n",
       "      <td>2018-06-08 09:41:02</td>\n",
       "      <td>NaN</td>\n",
       "      <td>核实</td>\n",
       "    </tr>\n",
       "  </tbody>\n",
       "</table>\n",
       "</div>"
      ],
      "text/plain": [
       "   patient_id  case_no  long_d_order                    drug_name drug_spec  \\\n",
       "0     7365906  3721037             0   肾功五项（UREA,CR,UA,TCO2,CysC）       NaN   \n",
       "1     7365906  3721037             0                血型鉴定(ABO+RhD)       NaN   \n",
       "2     7365906  3721037             0           5%葡萄糖注射液[250ml*1袋]  250ml*1袋   \n",
       "3     7365906  3721037             0  脂溶性维生素(Ⅱ)/水溶性维生素组合包装[co*1盒]     co*1盒   \n",
       "4     7365906  3721037             0                   静脉输液第二组起每组       NaN   \n",
       "\n",
       "  dosage frequency       start_datetime end_datetime statusdesc  \n",
       "0    NaN      ONCE  2018-06-07 17:37:52          NaN         执行  \n",
       "1    NaN      ONCE  2018-06-07 17:37:53          NaN         执行  \n",
       "2  250ml      ONCE  2018-06-08 09:41:02          NaN         核实  \n",
       "3    1co      ONCE  2018-06-08 09:41:02          NaN         核实  \n",
       "4    NaN      ONCE  2018-06-08 09:41:02          NaN         核实  "
      ]
     },
     "execution_count": 10,
     "metadata": {},
     "output_type": "execute_result"
    }
   ],
   "source": [
    "df_doctor_order.head()"
   ]
  },
  {
   "cell_type": "code",
   "execution_count": 11,
   "metadata": {},
   "outputs": [],
   "source": [
    "# 删除重复数据\n",
    "df_doctor_order=df_doctor_order.drop_duplicates(['case_no','long_d_order','drug_name','dosage','frequency','start_datetime','end_datetime','statusdesc']\n",
    "                                                ,keep='first')"
   ]
  },
  {
   "cell_type": "code",
   "execution_count": 12,
   "metadata": {},
   "outputs": [
    {
     "name": "stdout",
     "output_type": "stream",
     "text": [
      "(977887, 10)\n",
      "1079\n"
     ]
    }
   ],
   "source": [
    "print(df_doctor_order.shape)\n",
    "print(df_doctor_order['patient_id'].nunique())"
   ]
  },
  {
   "cell_type": "markdown",
   "metadata": {},
   "source": [
    "## 读取diagnostic_record"
   ]
  },
  {
   "cell_type": "code",
   "execution_count": 13,
   "metadata": {},
   "outputs": [],
   "source": [
    "# 从diagnose_content读入数据\n",
    "df_diagnostic_record =pd.read_csv(project_path +'/data/raw_data/df_diagnostic.csv')\n",
    "if 'Unnamed: 0' in df_diagnostic_record.columns:\n",
    "    df_diagnostic_record = df_diagnostic_record.drop(['Unnamed: 0'], axis=1)"
   ]
  },
  {
   "cell_type": "code",
   "execution_count": 14,
   "metadata": {},
   "outputs": [
    {
     "name": "stdout",
     "output_type": "stream",
     "text": [
      "(88774, 17)\n",
      "8508\n"
     ]
    }
   ],
   "source": [
    "print(df_diagnostic_record.shape)\n",
    "print(df_diagnostic_record['patient_id'].nunique())"
   ]
  },
  {
   "cell_type": "code",
   "execution_count": 15,
   "metadata": {},
   "outputs": [
    {
     "data": {
      "text/plain": [
       "diagnostic_record_id    False\n",
       "patient_id              False\n",
       "inp_record_id            True\n",
       "outp_record_id           True\n",
       "record_date             False\n",
       "diagnostic_type         False\n",
       "diagnostic_content      False\n",
       "treatment_days           True\n",
       "treatment_result         True\n",
       "IsPrimary                True\n",
       "case_no                  True\n",
       "diagnosis_code           True\n",
       "outp_no                  True\n",
       "create_time             False\n",
       "update_time             False\n",
       "migrate_time            False\n",
       "diagnostic_name          True\n",
       "dtype: bool"
      ]
     },
     "execution_count": 15,
     "metadata": {},
     "output_type": "execute_result"
    }
   ],
   "source": [
    "#用来判断某列是否有缺失值\n",
    "df_diagnostic_record.isnull().any() "
   ]
  },
  {
   "cell_type": "code",
   "execution_count": 16,
   "metadata": {},
   "outputs": [
    {
     "data": {
      "text/html": [
       "<div>\n",
       "<style scoped>\n",
       "    .dataframe tbody tr th:only-of-type {\n",
       "        vertical-align: middle;\n",
       "    }\n",
       "\n",
       "    .dataframe tbody tr th {\n",
       "        vertical-align: top;\n",
       "    }\n",
       "\n",
       "    .dataframe thead th {\n",
       "        text-align: right;\n",
       "    }\n",
       "</style>\n",
       "<table border=\"1\" class=\"dataframe\">\n",
       "  <thead>\n",
       "    <tr style=\"text-align: right;\">\n",
       "      <th></th>\n",
       "      <th>patient_id</th>\n",
       "      <th>case_no</th>\n",
       "      <th>record_date</th>\n",
       "      <th>diagnostic_content</th>\n",
       "    </tr>\n",
       "  </thead>\n",
       "  <tbody>\n",
       "    <tr>\n",
       "      <th>816</th>\n",
       "      <td>6554943</td>\n",
       "      <td>NaN</td>\n",
       "      <td>2016-12-25 20:33:28</td>\n",
       "      <td>测试</td>\n",
       "    </tr>\n",
       "    <tr>\n",
       "      <th>819</th>\n",
       "      <td>6554943</td>\n",
       "      <td>NaN</td>\n",
       "      <td>2016-12-25 20:33:35</td>\n",
       "      <td>测试</td>\n",
       "    </tr>\n",
       "    <tr>\n",
       "      <th>822</th>\n",
       "      <td>6554943</td>\n",
       "      <td>NaN</td>\n",
       "      <td>2016-12-25 20:33:38</td>\n",
       "      <td>测试</td>\n",
       "    </tr>\n",
       "    <tr>\n",
       "      <th>827</th>\n",
       "      <td>6554943</td>\n",
       "      <td>NaN</td>\n",
       "      <td>2016-12-25 20:33:43</td>\n",
       "      <td>测试</td>\n",
       "    </tr>\n",
       "    <tr>\n",
       "      <th>874</th>\n",
       "      <td>6554943</td>\n",
       "      <td>NaN</td>\n",
       "      <td>2016-12-25 20:55:00</td>\n",
       "      <td>测试</td>\n",
       "    </tr>\n",
       "    <tr>\n",
       "      <th>...</th>\n",
       "      <td>...</td>\n",
       "      <td>...</td>\n",
       "      <td>...</td>\n",
       "      <td>...</td>\n",
       "    </tr>\n",
       "    <tr>\n",
       "      <th>84635</th>\n",
       "      <td>8283895</td>\n",
       "      <td>NaN</td>\n",
       "      <td>2020-06-19 11:06:36</td>\n",
       "      <td>膜增生性肾小球肾炎</td>\n",
       "    </tr>\n",
       "    <tr>\n",
       "      <th>87034</th>\n",
       "      <td>5836499</td>\n",
       "      <td>NaN</td>\n",
       "      <td>2020-07-14 08:10:33</td>\n",
       "      <td>肾移植状态</td>\n",
       "    </tr>\n",
       "    <tr>\n",
       "      <th>87035</th>\n",
       "      <td>5836499</td>\n",
       "      <td>NaN</td>\n",
       "      <td>2020-07-14 08:10:33</td>\n",
       "      <td>肾移植状态</td>\n",
       "    </tr>\n",
       "    <tr>\n",
       "      <th>87659</th>\n",
       "      <td>7503824</td>\n",
       "      <td>NaN</td>\n",
       "      <td>2020-07-20 09:22:10</td>\n",
       "      <td>肾移植状态</td>\n",
       "    </tr>\n",
       "    <tr>\n",
       "      <th>87886</th>\n",
       "      <td>8006327</td>\n",
       "      <td>NaN</td>\n",
       "      <td>2020-07-29 16:37:47</td>\n",
       "      <td>骨髓移植状态</td>\n",
       "    </tr>\n",
       "  </tbody>\n",
       "</table>\n",
       "<p>153 rows × 4 columns</p>\n",
       "</div>"
      ],
      "text/plain": [
       "       patient_id  case_no          record_date diagnostic_content\n",
       "816       6554943      NaN  2016-12-25 20:33:28                 测试\n",
       "819       6554943      NaN  2016-12-25 20:33:35                 测试\n",
       "822       6554943      NaN  2016-12-25 20:33:38                 测试\n",
       "827       6554943      NaN  2016-12-25 20:33:43                 测试\n",
       "874       6554943      NaN  2016-12-25 20:55:00                 测试\n",
       "...           ...      ...                  ...                ...\n",
       "84635     8283895      NaN  2020-06-19 11:06:36          膜增生性肾小球肾炎\n",
       "87034     5836499      NaN  2020-07-14 08:10:33              肾移植状态\n",
       "87035     5836499      NaN  2020-07-14 08:10:33              肾移植状态\n",
       "87659     7503824      NaN  2020-07-20 09:22:10              肾移植状态\n",
       "87886     8006327      NaN  2020-07-29 16:37:47             骨髓移植状态\n",
       "\n",
       "[153 rows x 4 columns]"
      ]
     },
     "execution_count": 16,
     "metadata": {},
     "output_type": "execute_result"
    }
   ],
   "source": [
    "# 提取诊断有效字段\n",
    "df_diagnostic_record=df_diagnostic_record[['patient_id','case_no','record_date','diagnostic_content']]\n",
    "# 查看重复数据\n",
    "df_diagnostic_record[df_diagnostic_record.duplicated(subset=['patient_id','case_no','record_date','diagnostic_content'],keep='first')]"
   ]
  },
  {
   "cell_type": "code",
   "execution_count": 17,
   "metadata": {},
   "outputs": [],
   "source": [
    "writer=pd.ExcelWriter(project_path+'/data/pre_processed_raw_data/df_diagnostic_record.xlsx')\n",
    "df_diagnostic_record.to_excel(writer)\n",
    "writer.save()"
   ]
  },
  {
   "cell_type": "markdown",
   "metadata": {},
   "source": [
    "## 读取test_result数据表"
   ]
  },
  {
   "cell_type": "markdown",
   "metadata": {},
   "source": [
    "### test_record"
   ]
  },
  {
   "cell_type": "code",
   "execution_count": 18,
   "metadata": {},
   "outputs": [],
   "source": [
    "# 从df_test_record读入数据\n",
    "df_test_record =pd.read_csv(project_path +'/data/raw_data/df_test_record.csv')\n",
    "if 'Unnamed: 0' in df_test_record.columns:\n",
    "    df_test_record = df_test_record.drop(['Unnamed: 0'], axis=1)"
   ]
  },
  {
   "cell_type": "code",
   "execution_count": 19,
   "metadata": {},
   "outputs": [
    {
     "name": "stdout",
     "output_type": "stream",
     "text": [
      "(361590, 29)\n",
      "3193\n"
     ]
    }
   ],
   "source": [
    "print(df_test_record.shape)\n",
    "print(df_test_record['patient_id'].nunique())"
   ]
  },
  {
   "cell_type": "code",
   "execution_count": 20,
   "metadata": {},
   "outputs": [],
   "source": [
    "# 提取test_record有效字段\n",
    "df_test_record=df_test_record[['test_record_id','patient_id','case_no','test_date']]"
   ]
  },
  {
   "cell_type": "code",
   "execution_count": 21,
   "metadata": {},
   "outputs": [
    {
     "data": {
      "text/html": [
       "<div>\n",
       "<style scoped>\n",
       "    .dataframe tbody tr th:only-of-type {\n",
       "        vertical-align: middle;\n",
       "    }\n",
       "\n",
       "    .dataframe tbody tr th {\n",
       "        vertical-align: top;\n",
       "    }\n",
       "\n",
       "    .dataframe thead th {\n",
       "        text-align: right;\n",
       "    }\n",
       "</style>\n",
       "<table border=\"1\" class=\"dataframe\">\n",
       "  <thead>\n",
       "    <tr style=\"text-align: right;\">\n",
       "      <th></th>\n",
       "      <th>test_record_id</th>\n",
       "      <th>patient_id</th>\n",
       "      <th>case_no</th>\n",
       "      <th>test_date</th>\n",
       "    </tr>\n",
       "  </thead>\n",
       "  <tbody>\n",
       "    <tr>\n",
       "      <th>0</th>\n",
       "      <td>1000009730||B005||1</td>\n",
       "      <td>4980556</td>\n",
       "      <td>NaN</td>\n",
       "      <td>2016-11-28 09:18:00</td>\n",
       "    </tr>\n",
       "    <tr>\n",
       "      <th>1</th>\n",
       "      <td>1000009730||B006||1</td>\n",
       "      <td>4980556</td>\n",
       "      <td>NaN</td>\n",
       "      <td>2016-11-28 09:18:00</td>\n",
       "    </tr>\n",
       "    <tr>\n",
       "      <th>2</th>\n",
       "      <td>1000009730||B008||1</td>\n",
       "      <td>4980556</td>\n",
       "      <td>NaN</td>\n",
       "      <td>2016-11-28 09:18:00</td>\n",
       "    </tr>\n",
       "    <tr>\n",
       "      <th>3</th>\n",
       "      <td>1000009730||B010||1</td>\n",
       "      <td>4980556</td>\n",
       "      <td>NaN</td>\n",
       "      <td>2016-11-28 09:18:00</td>\n",
       "    </tr>\n",
       "    <tr>\n",
       "      <th>4</th>\n",
       "      <td>1000009730||B034||1</td>\n",
       "      <td>4980556</td>\n",
       "      <td>NaN</td>\n",
       "      <td>2016-11-28 09:18:00</td>\n",
       "    </tr>\n",
       "  </tbody>\n",
       "</table>\n",
       "</div>"
      ],
      "text/plain": [
       "        test_record_id  patient_id  case_no            test_date\n",
       "0  1000009730||B005||1     4980556      NaN  2016-11-28 09:18:00\n",
       "1  1000009730||B006||1     4980556      NaN  2016-11-28 09:18:00\n",
       "2  1000009730||B008||1     4980556      NaN  2016-11-28 09:18:00\n",
       "3  1000009730||B010||1     4980556      NaN  2016-11-28 09:18:00\n",
       "4  1000009730||B034||1     4980556      NaN  2016-11-28 09:18:00"
      ]
     },
     "execution_count": 21,
     "metadata": {},
     "output_type": "execute_result"
    }
   ],
   "source": [
    "df_test_record.head()"
   ]
  },
  {
   "cell_type": "code",
   "execution_count": 22,
   "metadata": {},
   "outputs": [
    {
     "data": {
      "text/plain": [
       "test_record_id    False\n",
       "patient_id        False\n",
       "case_no            True\n",
       "test_date         False\n",
       "dtype: bool"
      ]
     },
     "execution_count": 22,
     "metadata": {},
     "output_type": "execute_result"
    }
   ],
   "source": [
    "#用来判断某列是否有缺失值\n",
    "df_test_record.isnull().any() "
   ]
  },
  {
   "cell_type": "markdown",
   "metadata": {},
   "source": [
    "### test_result"
   ]
  },
  {
   "cell_type": "code",
   "execution_count": 23,
   "metadata": {},
   "outputs": [],
   "source": [
    "# 从df_test_result读入数据\n",
    "df_test_result =pd.read_csv(project_path +'/data/raw_data/df_result.csv')\n",
    "if 'Unnamed: 0' in df_test_result.columns:\n",
    "    df_test_result = df_test_result.drop(['Unnamed: 0'], axis=1)"
   ]
  },
  {
   "cell_type": "code",
   "execution_count": 24,
   "metadata": {},
   "outputs": [
    {
     "name": "stdout",
     "output_type": "stream",
     "text": [
      "(2741436, 15)\n"
     ]
    }
   ],
   "source": [
    "print(df_test_result.shape)"
   ]
  },
  {
   "cell_type": "code",
   "execution_count": 25,
   "metadata": {},
   "outputs": [],
   "source": [
    "df_test_result=df_test_result[['test_record_id','project_name','test_result','result_unit','is_normal','refer_scope','synonym']]"
   ]
  },
  {
   "cell_type": "code",
   "execution_count": 26,
   "metadata": {},
   "outputs": [
    {
     "data": {
      "text/plain": [
       "test_record_id    False\n",
       "project_name      False\n",
       "test_result        True\n",
       "result_unit        True\n",
       "is_normal          True\n",
       "refer_scope        True\n",
       "synonym            True\n",
       "dtype: bool"
      ]
     },
     "execution_count": 26,
     "metadata": {},
     "output_type": "execute_result"
    }
   ],
   "source": [
    "#用来判断某列是否有缺失值\n",
    "df_test_result.isnull().any() "
   ]
  },
  {
   "cell_type": "code",
   "execution_count": 27,
   "metadata": {},
   "outputs": [],
   "source": [
    "# 删除检测项为空的数据\n",
    "df_test_result=df_test_result[df_test_result['test_result'].notnull()]"
   ]
  },
  {
   "cell_type": "code",
   "execution_count": 28,
   "metadata": {},
   "outputs": [
    {
     "data": {
      "text/html": [
       "<div>\n",
       "<style scoped>\n",
       "    .dataframe tbody tr th:only-of-type {\n",
       "        vertical-align: middle;\n",
       "    }\n",
       "\n",
       "    .dataframe tbody tr th {\n",
       "        vertical-align: top;\n",
       "    }\n",
       "\n",
       "    .dataframe thead th {\n",
       "        text-align: right;\n",
       "    }\n",
       "</style>\n",
       "<table border=\"1\" class=\"dataframe\">\n",
       "  <thead>\n",
       "    <tr style=\"text-align: right;\">\n",
       "      <th></th>\n",
       "      <th>test_record_id</th>\n",
       "      <th>project_name</th>\n",
       "      <th>test_result</th>\n",
       "      <th>result_unit</th>\n",
       "      <th>is_normal</th>\n",
       "      <th>refer_scope</th>\n",
       "      <th>synonym</th>\n",
       "    </tr>\n",
       "  </thead>\n",
       "  <tbody>\n",
       "    <tr>\n",
       "      <th>59755</th>\n",
       "      <td>800000127238||K206||1</td>\n",
       "      <td>ABO血型鉴定</td>\n",
       "      <td>A</td>\n",
       "      <td>NaN</td>\n",
       "      <td>NaN</td>\n",
       "      <td>NaN</td>\n",
       "      <td>NaN</td>\n",
       "    </tr>\n",
       "    <tr>\n",
       "      <th>205243</th>\n",
       "      <td>800000487995||K206||1</td>\n",
       "      <td>ABO血型鉴定</td>\n",
       "      <td>B</td>\n",
       "      <td>NaN</td>\n",
       "      <td>NaN</td>\n",
       "      <td>NaN</td>\n",
       "      <td>NaN</td>\n",
       "    </tr>\n",
       "    <tr>\n",
       "      <th>578049</th>\n",
       "      <td>800001349716||K206||1</td>\n",
       "      <td>ABO血型鉴定</td>\n",
       "      <td>正定A型，反定O型</td>\n",
       "      <td>NaN</td>\n",
       "      <td>N</td>\n",
       "      <td>NaN</td>\n",
       "      <td>NaN</td>\n",
       "    </tr>\n",
       "    <tr>\n",
       "      <th>583858</th>\n",
       "      <td>800001370023||K206||1</td>\n",
       "      <td>ABO血型鉴定</td>\n",
       "      <td>A</td>\n",
       "      <td>NaN</td>\n",
       "      <td>NaN</td>\n",
       "      <td>NaN</td>\n",
       "      <td>NaN</td>\n",
       "    </tr>\n",
       "    <tr>\n",
       "      <th>672691</th>\n",
       "      <td>800001580097||K206||1</td>\n",
       "      <td>ABO血型鉴定</td>\n",
       "      <td>A</td>\n",
       "      <td>NaN</td>\n",
       "      <td>NaN</td>\n",
       "      <td>NaN</td>\n",
       "      <td>NaN</td>\n",
       "    </tr>\n",
       "    <tr>\n",
       "      <th>821461</th>\n",
       "      <td>800002061283||K206||1</td>\n",
       "      <td>ABO血型鉴定</td>\n",
       "      <td>正定O型，反定B型</td>\n",
       "      <td>NaN</td>\n",
       "      <td>N</td>\n",
       "      <td>NaN</td>\n",
       "      <td>NaN</td>\n",
       "    </tr>\n",
       "    <tr>\n",
       "      <th>873427</th>\n",
       "      <td>800002247110||K206||1</td>\n",
       "      <td>ABO血型鉴定</td>\n",
       "      <td>O</td>\n",
       "      <td>NaN</td>\n",
       "      <td>NaN</td>\n",
       "      <td>NaN</td>\n",
       "      <td>NaN</td>\n",
       "    </tr>\n",
       "    <tr>\n",
       "      <th>900629</th>\n",
       "      <td>800002346396||K206||1</td>\n",
       "      <td>ABO血型鉴定</td>\n",
       "      <td>A</td>\n",
       "      <td>NaN</td>\n",
       "      <td>NaN</td>\n",
       "      <td>NaN</td>\n",
       "      <td>NaN</td>\n",
       "    </tr>\n",
       "    <tr>\n",
       "      <th>936592</th>\n",
       "      <td>800002477327||K206||1</td>\n",
       "      <td>ABO血型鉴定</td>\n",
       "      <td>A</td>\n",
       "      <td>NaN</td>\n",
       "      <td>NaN</td>\n",
       "      <td>NaN</td>\n",
       "      <td>NaN</td>\n",
       "    </tr>\n",
       "    <tr>\n",
       "      <th>937809</th>\n",
       "      <td>800002480042||K206||1</td>\n",
       "      <td>ABO血型鉴定</td>\n",
       "      <td>正定B型，反定AB型</td>\n",
       "      <td>NaN</td>\n",
       "      <td>N</td>\n",
       "      <td>NaN</td>\n",
       "      <td>NaN</td>\n",
       "    </tr>\n",
       "    <tr>\n",
       "      <th>944382</th>\n",
       "      <td>800002499530||K206||1</td>\n",
       "      <td>ABO血型鉴定</td>\n",
       "      <td>正定B型，反定AB型</td>\n",
       "      <td>NaN</td>\n",
       "      <td>N</td>\n",
       "      <td>NaN</td>\n",
       "      <td>NaN</td>\n",
       "    </tr>\n",
       "    <tr>\n",
       "      <th>947841</th>\n",
       "      <td>800002514724||K206||1</td>\n",
       "      <td>ABO血型鉴定</td>\n",
       "      <td>B</td>\n",
       "      <td>NaN</td>\n",
       "      <td>NaN</td>\n",
       "      <td>NaN</td>\n",
       "      <td>NaN</td>\n",
       "    </tr>\n",
       "    <tr>\n",
       "      <th>990847</th>\n",
       "      <td>800002650463||K206||1</td>\n",
       "      <td>ABO血型鉴定</td>\n",
       "      <td>正定A型，反定AB型</td>\n",
       "      <td>NaN</td>\n",
       "      <td>N</td>\n",
       "      <td>NaN</td>\n",
       "      <td>NaN</td>\n",
       "    </tr>\n",
       "    <tr>\n",
       "      <th>991570</th>\n",
       "      <td>800002650895||K206||1</td>\n",
       "      <td>ABO血型鉴定</td>\n",
       "      <td>B</td>\n",
       "      <td>NaN</td>\n",
       "      <td>NaN</td>\n",
       "      <td>NaN</td>\n",
       "      <td>NaN</td>\n",
       "    </tr>\n",
       "    <tr>\n",
       "      <th>1027267</th>\n",
       "      <td>800002786156||K206||1</td>\n",
       "      <td>ABO血型鉴定</td>\n",
       "      <td>B</td>\n",
       "      <td>NaN</td>\n",
       "      <td>NaN</td>\n",
       "      <td>NaN</td>\n",
       "      <td>NaN</td>\n",
       "    </tr>\n",
       "    <tr>\n",
       "      <th>1057433</th>\n",
       "      <td>800002909095||K206||1</td>\n",
       "      <td>ABO血型鉴定</td>\n",
       "      <td>O</td>\n",
       "      <td>NaN</td>\n",
       "      <td>NaN</td>\n",
       "      <td>NaN</td>\n",
       "      <td>NaN</td>\n",
       "    </tr>\n",
       "    <tr>\n",
       "      <th>1120540</th>\n",
       "      <td>800003149745||K206||1</td>\n",
       "      <td>ABO血型鉴定</td>\n",
       "      <td>B</td>\n",
       "      <td>NaN</td>\n",
       "      <td>NaN</td>\n",
       "      <td>NaN</td>\n",
       "      <td>NaN</td>\n",
       "    </tr>\n",
       "    <tr>\n",
       "      <th>1204943</th>\n",
       "      <td>800003443661||K206||1</td>\n",
       "      <td>ABO血型鉴定</td>\n",
       "      <td>O</td>\n",
       "      <td>NaN</td>\n",
       "      <td>NaN</td>\n",
       "      <td>NaN</td>\n",
       "      <td>NaN</td>\n",
       "    </tr>\n",
       "    <tr>\n",
       "      <th>1249575</th>\n",
       "      <td>800003584981||K206||1</td>\n",
       "      <td>ABO血型鉴定</td>\n",
       "      <td>A</td>\n",
       "      <td>NaN</td>\n",
       "      <td>NaN</td>\n",
       "      <td>NaN</td>\n",
       "      <td>NaN</td>\n",
       "    </tr>\n",
       "    <tr>\n",
       "      <th>1288226</th>\n",
       "      <td>800003744944||K206||1</td>\n",
       "      <td>ABO血型鉴定</td>\n",
       "      <td>正定型：O型，反定型：A型</td>\n",
       "      <td>NaN</td>\n",
       "      <td>N</td>\n",
       "      <td>NaN</td>\n",
       "      <td>NaN</td>\n",
       "    </tr>\n",
       "    <tr>\n",
       "      <th>1580974</th>\n",
       "      <td>800004743814||K206||1</td>\n",
       "      <td>ABO血型鉴定</td>\n",
       "      <td>B</td>\n",
       "      <td>NaN</td>\n",
       "      <td>NaN</td>\n",
       "      <td>NaN</td>\n",
       "      <td>NaN</td>\n",
       "    </tr>\n",
       "    <tr>\n",
       "      <th>1859316</th>\n",
       "      <td>800005729242||K206||1</td>\n",
       "      <td>ABO血型鉴定</td>\n",
       "      <td>B</td>\n",
       "      <td>NaN</td>\n",
       "      <td>NaN</td>\n",
       "      <td>NaN</td>\n",
       "      <td>NaN</td>\n",
       "    </tr>\n",
       "    <tr>\n",
       "      <th>1941897</th>\n",
       "      <td>800005971427||K206||1</td>\n",
       "      <td>ABO血型鉴定</td>\n",
       "      <td>正定型：B（双群）反定型：A</td>\n",
       "      <td>NaN</td>\n",
       "      <td>N</td>\n",
       "      <td>NaN</td>\n",
       "      <td>NaN</td>\n",
       "    </tr>\n",
       "    <tr>\n",
       "      <th>1976015</th>\n",
       "      <td>800006076336||K206||1</td>\n",
       "      <td>ABO血型鉴定</td>\n",
       "      <td>B</td>\n",
       "      <td>NaN</td>\n",
       "      <td>NaN</td>\n",
       "      <td>NaN</td>\n",
       "      <td>NaN</td>\n",
       "    </tr>\n",
       "    <tr>\n",
       "      <th>1987115</th>\n",
       "      <td>800006106996||K206||1</td>\n",
       "      <td>ABO血型鉴定</td>\n",
       "      <td>A</td>\n",
       "      <td>NaN</td>\n",
       "      <td>NaN</td>\n",
       "      <td>NaN</td>\n",
       "      <td>NaN</td>\n",
       "    </tr>\n",
       "    <tr>\n",
       "      <th>1997268</th>\n",
       "      <td>800006138975||K206||1</td>\n",
       "      <td>ABO血型鉴定</td>\n",
       "      <td>正定型：B（双群）反定型：A</td>\n",
       "      <td>NaN</td>\n",
       "      <td>N</td>\n",
       "      <td>NaN</td>\n",
       "      <td>NaN</td>\n",
       "    </tr>\n",
       "    <tr>\n",
       "      <th>2021321</th>\n",
       "      <td>800006218522||K206||1</td>\n",
       "      <td>ABO血型鉴定</td>\n",
       "      <td>B</td>\n",
       "      <td>NaN</td>\n",
       "      <td>NaN</td>\n",
       "      <td>NaN</td>\n",
       "      <td>NaN</td>\n",
       "    </tr>\n",
       "    <tr>\n",
       "      <th>2027355</th>\n",
       "      <td>800006241644||K206||1</td>\n",
       "      <td>ABO血型鉴定</td>\n",
       "      <td>AB</td>\n",
       "      <td>NaN</td>\n",
       "      <td>NaN</td>\n",
       "      <td>NaN</td>\n",
       "      <td>NaN</td>\n",
       "    </tr>\n",
       "    <tr>\n",
       "      <th>2057291</th>\n",
       "      <td>800006337859||K206||1</td>\n",
       "      <td>ABO血型鉴定</td>\n",
       "      <td>O</td>\n",
       "      <td>NaN</td>\n",
       "      <td>NaN</td>\n",
       "      <td>NaN</td>\n",
       "      <td>NaN</td>\n",
       "    </tr>\n",
       "    <tr>\n",
       "      <th>2137797</th>\n",
       "      <td>800006592446||K206||1</td>\n",
       "      <td>ABO血型鉴定</td>\n",
       "      <td>A</td>\n",
       "      <td>NaN</td>\n",
       "      <td>NaN</td>\n",
       "      <td>NaN</td>\n",
       "      <td>NaN</td>\n",
       "    </tr>\n",
       "    <tr>\n",
       "      <th>2396202</th>\n",
       "      <td>800007300960||K206||1</td>\n",
       "      <td>ABO血型鉴定</td>\n",
       "      <td>O</td>\n",
       "      <td>NaN</td>\n",
       "      <td>NaN</td>\n",
       "      <td>NaN</td>\n",
       "      <td>NaN</td>\n",
       "    </tr>\n",
       "    <tr>\n",
       "      <th>2464827</th>\n",
       "      <td>800007568460||K206||1</td>\n",
       "      <td>ABO血型鉴定</td>\n",
       "      <td>A</td>\n",
       "      <td>NaN</td>\n",
       "      <td>NaN</td>\n",
       "      <td>NaN</td>\n",
       "      <td>NaN</td>\n",
       "    </tr>\n",
       "    <tr>\n",
       "      <th>2584664</th>\n",
       "      <td>800007956165||K206||1</td>\n",
       "      <td>ABO血型鉴定</td>\n",
       "      <td>A</td>\n",
       "      <td>NaN</td>\n",
       "      <td>NaN</td>\n",
       "      <td>NaN</td>\n",
       "      <td>NaN</td>\n",
       "    </tr>\n",
       "    <tr>\n",
       "      <th>2585567</th>\n",
       "      <td>800007958648||K206||1</td>\n",
       "      <td>ABO血型鉴定</td>\n",
       "      <td>B</td>\n",
       "      <td>NaN</td>\n",
       "      <td>NaN</td>\n",
       "      <td>NaN</td>\n",
       "      <td>NaN</td>\n",
       "    </tr>\n",
       "    <tr>\n",
       "      <th>2696758</th>\n",
       "      <td>800008306330||K206||1</td>\n",
       "      <td>ABO血型鉴定</td>\n",
       "      <td>A</td>\n",
       "      <td>NaN</td>\n",
       "      <td>NaN</td>\n",
       "      <td>NaN</td>\n",
       "      <td>NaN</td>\n",
       "    </tr>\n",
       "    <tr>\n",
       "      <th>2708274</th>\n",
       "      <td>800008351865||K206||1</td>\n",
       "      <td>ABO血型鉴定</td>\n",
       "      <td>O</td>\n",
       "      <td>NaN</td>\n",
       "      <td>NaN</td>\n",
       "      <td>NaN</td>\n",
       "      <td>NaN</td>\n",
       "    </tr>\n",
       "    <tr>\n",
       "      <th>2719923</th>\n",
       "      <td>800008403590||K206||1</td>\n",
       "      <td>ABO血型鉴定</td>\n",
       "      <td>O</td>\n",
       "      <td>NaN</td>\n",
       "      <td>NaN</td>\n",
       "      <td>NaN</td>\n",
       "      <td>NaN</td>\n",
       "    </tr>\n",
       "    <tr>\n",
       "      <th>2734394</th>\n",
       "      <td>800008479519||K206||1</td>\n",
       "      <td>ABO血型鉴定</td>\n",
       "      <td>AB</td>\n",
       "      <td>NaN</td>\n",
       "      <td>NaN</td>\n",
       "      <td>NaN</td>\n",
       "      <td>NaN</td>\n",
       "    </tr>\n",
       "    <tr>\n",
       "      <th>2740282</th>\n",
       "      <td>800008536318||K206||1</td>\n",
       "      <td>ABO血型鉴定</td>\n",
       "      <td>O</td>\n",
       "      <td>NaN</td>\n",
       "      <td>NaN</td>\n",
       "      <td>NaN</td>\n",
       "      <td>NaN</td>\n",
       "    </tr>\n",
       "    <tr>\n",
       "      <th>2740550</th>\n",
       "      <td>800008540048||K206||1</td>\n",
       "      <td>ABO血型鉴定</td>\n",
       "      <td>O</td>\n",
       "      <td>NaN</td>\n",
       "      <td>NaN</td>\n",
       "      <td>NaN</td>\n",
       "      <td>NaN</td>\n",
       "    </tr>\n",
       "  </tbody>\n",
       "</table>\n",
       "</div>"
      ],
      "text/plain": [
       "                test_record_id project_name     test_result result_unit  \\\n",
       "59755    800000127238||K206||1      ABO血型鉴定               A         NaN   \n",
       "205243   800000487995||K206||1      ABO血型鉴定               B         NaN   \n",
       "578049   800001349716||K206||1      ABO血型鉴定       正定A型，反定O型         NaN   \n",
       "583858   800001370023||K206||1      ABO血型鉴定               A         NaN   \n",
       "672691   800001580097||K206||1      ABO血型鉴定               A         NaN   \n",
       "821461   800002061283||K206||1      ABO血型鉴定       正定O型，反定B型         NaN   \n",
       "873427   800002247110||K206||1      ABO血型鉴定               O         NaN   \n",
       "900629   800002346396||K206||1      ABO血型鉴定               A         NaN   \n",
       "936592   800002477327||K206||1      ABO血型鉴定               A         NaN   \n",
       "937809   800002480042||K206||1      ABO血型鉴定      正定B型，反定AB型         NaN   \n",
       "944382   800002499530||K206||1      ABO血型鉴定      正定B型，反定AB型         NaN   \n",
       "947841   800002514724||K206||1      ABO血型鉴定               B         NaN   \n",
       "990847   800002650463||K206||1      ABO血型鉴定      正定A型，反定AB型         NaN   \n",
       "991570   800002650895||K206||1      ABO血型鉴定               B         NaN   \n",
       "1027267  800002786156||K206||1      ABO血型鉴定               B         NaN   \n",
       "1057433  800002909095||K206||1      ABO血型鉴定               O         NaN   \n",
       "1120540  800003149745||K206||1      ABO血型鉴定               B         NaN   \n",
       "1204943  800003443661||K206||1      ABO血型鉴定               O         NaN   \n",
       "1249575  800003584981||K206||1      ABO血型鉴定               A         NaN   \n",
       "1288226  800003744944||K206||1      ABO血型鉴定   正定型：O型，反定型：A型         NaN   \n",
       "1580974  800004743814||K206||1      ABO血型鉴定               B         NaN   \n",
       "1859316  800005729242||K206||1      ABO血型鉴定               B         NaN   \n",
       "1941897  800005971427||K206||1      ABO血型鉴定  正定型：B（双群）反定型：A         NaN   \n",
       "1976015  800006076336||K206||1      ABO血型鉴定               B         NaN   \n",
       "1987115  800006106996||K206||1      ABO血型鉴定               A         NaN   \n",
       "1997268  800006138975||K206||1      ABO血型鉴定  正定型：B（双群）反定型：A         NaN   \n",
       "2021321  800006218522||K206||1      ABO血型鉴定               B         NaN   \n",
       "2027355  800006241644||K206||1      ABO血型鉴定              AB         NaN   \n",
       "2057291  800006337859||K206||1      ABO血型鉴定               O         NaN   \n",
       "2137797  800006592446||K206||1      ABO血型鉴定               A         NaN   \n",
       "2396202  800007300960||K206||1      ABO血型鉴定               O         NaN   \n",
       "2464827  800007568460||K206||1      ABO血型鉴定               A         NaN   \n",
       "2584664  800007956165||K206||1      ABO血型鉴定               A         NaN   \n",
       "2585567  800007958648||K206||1      ABO血型鉴定               B         NaN   \n",
       "2696758  800008306330||K206||1      ABO血型鉴定               A         NaN   \n",
       "2708274  800008351865||K206||1      ABO血型鉴定               O         NaN   \n",
       "2719923  800008403590||K206||1      ABO血型鉴定               O         NaN   \n",
       "2734394  800008479519||K206||1      ABO血型鉴定              AB         NaN   \n",
       "2740282  800008536318||K206||1      ABO血型鉴定               O         NaN   \n",
       "2740550  800008540048||K206||1      ABO血型鉴定               O         NaN   \n",
       "\n",
       "        is_normal refer_scope synonym  \n",
       "59755         NaN         NaN     NaN  \n",
       "205243        NaN         NaN     NaN  \n",
       "578049          N         NaN     NaN  \n",
       "583858        NaN         NaN     NaN  \n",
       "672691        NaN         NaN     NaN  \n",
       "821461          N         NaN     NaN  \n",
       "873427        NaN         NaN     NaN  \n",
       "900629        NaN         NaN     NaN  \n",
       "936592        NaN         NaN     NaN  \n",
       "937809          N         NaN     NaN  \n",
       "944382          N         NaN     NaN  \n",
       "947841        NaN         NaN     NaN  \n",
       "990847          N         NaN     NaN  \n",
       "991570        NaN         NaN     NaN  \n",
       "1027267       NaN         NaN     NaN  \n",
       "1057433       NaN         NaN     NaN  \n",
       "1120540       NaN         NaN     NaN  \n",
       "1204943       NaN         NaN     NaN  \n",
       "1249575       NaN         NaN     NaN  \n",
       "1288226         N         NaN     NaN  \n",
       "1580974       NaN         NaN     NaN  \n",
       "1859316       NaN         NaN     NaN  \n",
       "1941897         N         NaN     NaN  \n",
       "1976015       NaN         NaN     NaN  \n",
       "1987115       NaN         NaN     NaN  \n",
       "1997268         N         NaN     NaN  \n",
       "2021321       NaN         NaN     NaN  \n",
       "2027355       NaN         NaN     NaN  \n",
       "2057291       NaN         NaN     NaN  \n",
       "2137797       NaN         NaN     NaN  \n",
       "2396202       NaN         NaN     NaN  \n",
       "2464827       NaN         NaN     NaN  \n",
       "2584664       NaN         NaN     NaN  \n",
       "2585567       NaN         NaN     NaN  \n",
       "2696758       NaN         NaN     NaN  \n",
       "2708274       NaN         NaN     NaN  \n",
       "2719923       NaN         NaN     NaN  \n",
       "2734394       NaN         NaN     NaN  \n",
       "2740282       NaN         NaN     NaN  \n",
       "2740550       NaN         NaN     NaN  "
      ]
     },
     "execution_count": 28,
     "metadata": {},
     "output_type": "execute_result"
    }
   ],
   "source": [
    "# 查看重复数据\n",
    "df_test_result[df_test_result.duplicated(subset=['test_record_id','project_name','test_result','synonym'],keep='first')]"
   ]
  },
  {
   "cell_type": "code",
   "execution_count": 29,
   "metadata": {},
   "outputs": [],
   "source": [
    "# 删除test_result数据\n",
    "df_test_result=df_test_result.drop_duplicates(subset=['test_record_id','project_name','test_result'],keep='first')\n",
    "df_test_result=df_test_result.reset_index(drop=True)"
   ]
  },
  {
   "cell_type": "code",
   "execution_count": 30,
   "metadata": {},
   "outputs": [
    {
     "name": "stdout",
     "output_type": "stream",
     "text": [
      "(2741009, 7)\n"
     ]
    }
   ],
   "source": [
    "print(df_test_result.shape)"
   ]
  },
  {
   "cell_type": "code",
   "execution_count": 31,
   "metadata": {},
   "outputs": [],
   "source": [
    "# 删除<>号\n",
    "df_test_result=filter_spec_character(df_test_result,'test_result')"
   ]
  },
  {
   "cell_type": "code",
   "execution_count": 32,
   "metadata": {},
   "outputs": [
    {
     "name": "stdout",
     "output_type": "stream",
     "text": [
      "(2741009, 7)\n"
     ]
    }
   ],
   "source": [
    "print(df_test_result.shape)"
   ]
  },
  {
   "cell_type": "markdown",
   "metadata": {},
   "source": [
    "### test_record+test_result"
   ]
  },
  {
   "cell_type": "code",
   "execution_count": 33,
   "metadata": {},
   "outputs": [],
   "source": [
    "df_test=pd.merge(df_test_record,df_test_result,on=['test_record_id'],how='inner')"
   ]
  },
  {
   "cell_type": "code",
   "execution_count": 34,
   "metadata": {},
   "outputs": [
    {
     "data": {
      "text/html": [
       "<div>\n",
       "<style scoped>\n",
       "    .dataframe tbody tr th:only-of-type {\n",
       "        vertical-align: middle;\n",
       "    }\n",
       "\n",
       "    .dataframe tbody tr th {\n",
       "        vertical-align: top;\n",
       "    }\n",
       "\n",
       "    .dataframe thead th {\n",
       "        text-align: right;\n",
       "    }\n",
       "</style>\n",
       "<table border=\"1\" class=\"dataframe\">\n",
       "  <thead>\n",
       "    <tr style=\"text-align: right;\">\n",
       "      <th></th>\n",
       "      <th>test_record_id</th>\n",
       "      <th>patient_id</th>\n",
       "      <th>case_no</th>\n",
       "      <th>test_date</th>\n",
       "      <th>project_name</th>\n",
       "      <th>test_result</th>\n",
       "      <th>result_unit</th>\n",
       "      <th>is_normal</th>\n",
       "      <th>refer_scope</th>\n",
       "      <th>synonym</th>\n",
       "    </tr>\n",
       "  </thead>\n",
       "  <tbody>\n",
       "    <tr>\n",
       "      <th>0</th>\n",
       "      <td>1000009730||B005||1</td>\n",
       "      <td>4980556</td>\n",
       "      <td>NaN</td>\n",
       "      <td>2016-11-28 09:18:00</td>\n",
       "      <td>丙氨酸氨基转移酶</td>\n",
       "      <td>10</td>\n",
       "      <td>U/L</td>\n",
       "      <td>N</td>\n",
       "      <td>7-40</td>\n",
       "      <td>ALT</td>\n",
       "    </tr>\n",
       "    <tr>\n",
       "      <th>1</th>\n",
       "      <td>1000009730||B005||1</td>\n",
       "      <td>4980556</td>\n",
       "      <td>NaN</td>\n",
       "      <td>2016-11-28 09:18:00</td>\n",
       "      <td>天门冬氨酸氨基转移酶</td>\n",
       "      <td>13</td>\n",
       "      <td>U/L</td>\n",
       "      <td>N</td>\n",
       "      <td>13-35</td>\n",
       "      <td>AST</td>\n",
       "    </tr>\n",
       "    <tr>\n",
       "      <th>2</th>\n",
       "      <td>1000009730||B005||1</td>\n",
       "      <td>4980556</td>\n",
       "      <td>NaN</td>\n",
       "      <td>2016-11-28 09:18:00</td>\n",
       "      <td>转氨酶比值</td>\n",
       "      <td>1.3</td>\n",
       "      <td>NaN</td>\n",
       "      <td>N</td>\n",
       "      <td>1.0-1.5</td>\n",
       "      <td>AST/ALT</td>\n",
       "    </tr>\n",
       "    <tr>\n",
       "      <th>3</th>\n",
       "      <td>1000009730||B005||1</td>\n",
       "      <td>4980556</td>\n",
       "      <td>NaN</td>\n",
       "      <td>2016-11-28 09:18:00</td>\n",
       "      <td>总蛋白</td>\n",
       "      <td>72.3</td>\n",
       "      <td>g/L</td>\n",
       "      <td>N</td>\n",
       "      <td>65.0-85.0</td>\n",
       "      <td>TP</td>\n",
       "    </tr>\n",
       "    <tr>\n",
       "      <th>4</th>\n",
       "      <td>1000009730||B005||1</td>\n",
       "      <td>4980556</td>\n",
       "      <td>NaN</td>\n",
       "      <td>2016-11-28 09:18:00</td>\n",
       "      <td>白蛋白</td>\n",
       "      <td>43.7</td>\n",
       "      <td>g/L</td>\n",
       "      <td>N</td>\n",
       "      <td>40.0-55.0</td>\n",
       "      <td>ALB</td>\n",
       "    </tr>\n",
       "  </tbody>\n",
       "</table>\n",
       "</div>"
      ],
      "text/plain": [
       "        test_record_id  patient_id  case_no            test_date project_name  \\\n",
       "0  1000009730||B005||1     4980556      NaN  2016-11-28 09:18:00     丙氨酸氨基转移酶   \n",
       "1  1000009730||B005||1     4980556      NaN  2016-11-28 09:18:00   天门冬氨酸氨基转移酶   \n",
       "2  1000009730||B005||1     4980556      NaN  2016-11-28 09:18:00        转氨酶比值   \n",
       "3  1000009730||B005||1     4980556      NaN  2016-11-28 09:18:00          总蛋白   \n",
       "4  1000009730||B005||1     4980556      NaN  2016-11-28 09:18:00          白蛋白   \n",
       "\n",
       "  test_result result_unit is_normal refer_scope  synonym  \n",
       "0          10         U/L         N        7-40      ALT  \n",
       "1          13         U/L         N       13-35      AST  \n",
       "2         1.3         NaN         N     1.0-1.5  AST/ALT  \n",
       "3        72.3         g/L         N   65.0-85.0       TP  \n",
       "4        43.7         g/L         N   40.0-55.0      ALB  "
      ]
     },
     "execution_count": 34,
     "metadata": {},
     "output_type": "execute_result"
    }
   ],
   "source": [
    "df_test.head()"
   ]
  },
  {
   "cell_type": "code",
   "execution_count": 35,
   "metadata": {},
   "outputs": [
    {
     "name": "stdout",
     "output_type": "stream",
     "text": [
      "(2741009, 10)\n",
      "3193\n"
     ]
    }
   ],
   "source": [
    "print(df_test.shape)\n",
    "print(df_test['patient_id'].nunique())"
   ]
  },
  {
   "cell_type": "markdown",
   "metadata": {},
   "source": [
    "## 提取人口学特征"
   ]
  },
  {
   "cell_type": "markdown",
   "metadata": {},
   "source": [
    "### gender"
   ]
  },
  {
   "cell_type": "code",
   "execution_count": 36,
   "metadata": {},
   "outputs": [],
   "source": [
    "# 从patient_info提取gender,race,birth_year\n",
    "df_patient_info =pd.read_csv(project_path +'/data/raw_data/df_patient_info.csv')\n",
    "if 'Unnamed: 0' in df_patient_info.columns:\n",
    "    df_patient_info = df_patient_info.drop(['Unnamed: 0'], axis=1)\n"
   ]
  },
  {
   "cell_type": "code",
   "execution_count": 37,
   "metadata": {},
   "outputs": [
    {
     "name": "stdout",
     "output_type": "stream",
     "text": [
      "(8510, 24)\n",
      "8510\n"
     ]
    }
   ],
   "source": [
    "print(df_patient_info.shape)\n",
    "print(df_patient_info['patient_id'].nunique())"
   ]
  },
  {
   "cell_type": "code",
   "execution_count": 38,
   "metadata": {},
   "outputs": [
    {
     "name": "stderr",
     "output_type": "stream",
     "text": [
      "D:\\Anaconda3\\lib\\site-packages\\ipykernel_launcher.py:2: SettingWithCopyWarning: \n",
      "A value is trying to be set on a copy of a slice from a DataFrame.\n",
      "Try using .loc[row_indexer,col_indexer] = value instead\n",
      "\n",
      "See the caveats in the documentation: https://pandas.pydata.org/pandas-docs/stable/user_guide/indexing.html#returning-a-view-versus-a-copy\n",
      "  \n"
     ]
    }
   ],
   "source": [
    "df_gender=df_patient_info[['patient_id','gender']]\n",
    "df_gender['gender']=df_gender['gender'].apply(lambda x: 1 if re.match('男',x) else 0)"
   ]
  },
  {
   "cell_type": "code",
   "execution_count": 39,
   "metadata": {},
   "outputs": [
    {
     "data": {
      "text/plain": [
       "patient_id    False\n",
       "gender        False\n",
       "dtype: bool"
      ]
     },
     "execution_count": 39,
     "metadata": {},
     "output_type": "execute_result"
    }
   ],
   "source": [
    "#用来判断某列是否有缺失值\n",
    "df_gender.isnull().any() "
   ]
  },
  {
   "cell_type": "code",
   "execution_count": 40,
   "metadata": {},
   "outputs": [
    {
     "data": {
      "text/html": [
       "<div>\n",
       "<style scoped>\n",
       "    .dataframe tbody tr th:only-of-type {\n",
       "        vertical-align: middle;\n",
       "    }\n",
       "\n",
       "    .dataframe tbody tr th {\n",
       "        vertical-align: top;\n",
       "    }\n",
       "\n",
       "    .dataframe thead th {\n",
       "        text-align: right;\n",
       "    }\n",
       "</style>\n",
       "<table border=\"1\" class=\"dataframe\">\n",
       "  <thead>\n",
       "    <tr style=\"text-align: right;\">\n",
       "      <th></th>\n",
       "      <th>patient_id</th>\n",
       "      <th>gender</th>\n",
       "    </tr>\n",
       "  </thead>\n",
       "  <tbody>\n",
       "  </tbody>\n",
       "</table>\n",
       "</div>"
      ],
      "text/plain": [
       "Empty DataFrame\n",
       "Columns: [patient_id, gender]\n",
       "Index: []"
      ]
     },
     "execution_count": 40,
     "metadata": {},
     "output_type": "execute_result"
    }
   ],
   "source": [
    "# 查看重复数据\n",
    "df_gender[df_gender.duplicated(subset=['patient_id','gender'],keep='first')]"
   ]
  },
  {
   "cell_type": "code",
   "execution_count": 41,
   "metadata": {},
   "outputs": [],
   "source": [
    "df_gender.to_excel(project_path+'/data/pre_processed_raw_data/人口学特征/df_gender.xlsx')"
   ]
  },
  {
   "cell_type": "markdown",
   "metadata": {},
   "source": [
    "### age"
   ]
  },
  {
   "cell_type": "code",
   "execution_count": 42,
   "metadata": {},
   "outputs": [],
   "source": [
    "# 从patient_info提取gender,race,birth_year\n",
    "df_inp_record =pd.read_csv(project_path +'/data/raw_data/inp_record.csv')\n",
    "if 'Unnamed: 0' in df_inp_record.columns:\n",
    "    df_inp_record = df_inp_record.drop(['Unnamed: 0'], axis=1)"
   ]
  },
  {
   "cell_type": "code",
   "execution_count": 43,
   "metadata": {},
   "outputs": [],
   "source": [
    "df_age=df_inp_record[['patient_id','case_no','age']]"
   ]
  },
  {
   "cell_type": "code",
   "execution_count": 44,
   "metadata": {},
   "outputs": [
    {
     "name": "stdout",
     "output_type": "stream",
     "text": [
      "(1759, 3)\n",
      "1079\n"
     ]
    }
   ],
   "source": [
    "print(df_age.shape)\n",
    "print(df_age['patient_id'].nunique())"
   ]
  },
  {
   "cell_type": "code",
   "execution_count": 45,
   "metadata": {},
   "outputs": [
    {
     "data": {
      "text/html": [
       "<div>\n",
       "<style scoped>\n",
       "    .dataframe tbody tr th:only-of-type {\n",
       "        vertical-align: middle;\n",
       "    }\n",
       "\n",
       "    .dataframe tbody tr th {\n",
       "        vertical-align: top;\n",
       "    }\n",
       "\n",
       "    .dataframe thead th {\n",
       "        text-align: right;\n",
       "    }\n",
       "</style>\n",
       "<table border=\"1\" class=\"dataframe\">\n",
       "  <thead>\n",
       "    <tr style=\"text-align: right;\">\n",
       "      <th></th>\n",
       "      <th>patient_id</th>\n",
       "      <th>case_no</th>\n",
       "      <th>age</th>\n",
       "    </tr>\n",
       "  </thead>\n",
       "  <tbody>\n",
       "    <tr>\n",
       "      <th>0</th>\n",
       "      <td>7365906</td>\n",
       "      <td>3721037</td>\n",
       "      <td>39</td>\n",
       "    </tr>\n",
       "    <tr>\n",
       "      <th>1</th>\n",
       "      <td>539401</td>\n",
       "      <td>3811092</td>\n",
       "      <td>11</td>\n",
       "    </tr>\n",
       "    <tr>\n",
       "      <th>2</th>\n",
       "      <td>76038</td>\n",
       "      <td>3818984</td>\n",
       "      <td>17</td>\n",
       "    </tr>\n",
       "    <tr>\n",
       "      <th>3</th>\n",
       "      <td>307084</td>\n",
       "      <td>3826880</td>\n",
       "      <td>7</td>\n",
       "    </tr>\n",
       "    <tr>\n",
       "      <th>4</th>\n",
       "      <td>6051695</td>\n",
       "      <td>3828457</td>\n",
       "      <td>45</td>\n",
       "    </tr>\n",
       "    <tr>\n",
       "      <th>...</th>\n",
       "      <td>...</td>\n",
       "      <td>...</td>\n",
       "      <td>...</td>\n",
       "    </tr>\n",
       "    <tr>\n",
       "      <th>1754</th>\n",
       "      <td>8262445</td>\n",
       "      <td>9842063</td>\n",
       "      <td>32</td>\n",
       "    </tr>\n",
       "    <tr>\n",
       "      <th>1755</th>\n",
       "      <td>7891340</td>\n",
       "      <td>9845643</td>\n",
       "      <td>3</td>\n",
       "    </tr>\n",
       "    <tr>\n",
       "      <th>1756</th>\n",
       "      <td>8165400</td>\n",
       "      <td>9846289</td>\n",
       "      <td>57</td>\n",
       "    </tr>\n",
       "    <tr>\n",
       "      <th>1757</th>\n",
       "      <td>7762810</td>\n",
       "      <td>9847836</td>\n",
       "      <td>33</td>\n",
       "    </tr>\n",
       "    <tr>\n",
       "      <th>1758</th>\n",
       "      <td>6707481</td>\n",
       "      <td>9847995</td>\n",
       "      <td>49</td>\n",
       "    </tr>\n",
       "  </tbody>\n",
       "</table>\n",
       "<p>1759 rows × 3 columns</p>\n",
       "</div>"
      ],
      "text/plain": [
       "      patient_id  case_no  age\n",
       "0        7365906  3721037   39\n",
       "1         539401  3811092   11\n",
       "2          76038  3818984   17\n",
       "3         307084  3826880    7\n",
       "4        6051695  3828457   45\n",
       "...          ...      ...  ...\n",
       "1754     8262445  9842063   32\n",
       "1755     7891340  9845643    3\n",
       "1756     8165400  9846289   57\n",
       "1757     7762810  9847836   33\n",
       "1758     6707481  9847995   49\n",
       "\n",
       "[1759 rows x 3 columns]"
      ]
     },
     "execution_count": 45,
     "metadata": {},
     "output_type": "execute_result"
    }
   ],
   "source": [
    "df_age"
   ]
  },
  {
   "cell_type": "code",
   "execution_count": 46,
   "metadata": {},
   "outputs": [],
   "source": [
    "df_age.to_excel(project_path+'/data/pre_processed_raw_data/人口学特征/df_age.xlsx')"
   ]
  },
  {
   "cell_type": "markdown",
   "metadata": {},
   "source": [
    "### height"
   ]
  },
  {
   "cell_type": "code",
   "execution_count": 47,
   "metadata": {},
   "outputs": [],
   "source": [
    "# 从patient_sign_record提取height、weight\n",
    "df_patient_sign_record=pd.read_csv(project_path +'/data/raw_data/patient_vital.csv')\n",
    "if 'Unnamed: 0' in df_patient_sign_record.columns:\n",
    "    df_patient_sign_record = df_patient_sign_record.drop(['Unnamed: 0'], axis=1)\n",
    "df_patient_sign_record=df_patient_sign_record[['patient_id','case_no','record_date','sign_type','record_content','record_unit']]"
   ]
  },
  {
   "cell_type": "code",
   "execution_count": 48,
   "metadata": {},
   "outputs": [],
   "source": [
    "df_patient_sign_record.to_excel(project_path+'/data/pre_processed_raw_data/人口学特征/df_patient_sign_record.xlsx')"
   ]
  },
  {
   "cell_type": "code",
   "execution_count": 49,
   "metadata": {},
   "outputs": [],
   "source": [
    "# 提取身高信息\n",
    "df_height=df_patient_sign_record[df_patient_sign_record['sign_type'].str.contains('身高')]"
   ]
  },
  {
   "cell_type": "code",
   "execution_count": 50,
   "metadata": {},
   "outputs": [
    {
     "name": "stdout",
     "output_type": "stream",
     "text": [
      "(1964, 6)\n",
      "1079\n"
     ]
    }
   ],
   "source": [
    "print(df_height.shape)\n",
    "print(df_height['patient_id'].nunique())"
   ]
  },
  {
   "cell_type": "code",
   "execution_count": 51,
   "metadata": {},
   "outputs": [
    {
     "data": {
      "text/html": [
       "<div>\n",
       "<style scoped>\n",
       "    .dataframe tbody tr th:only-of-type {\n",
       "        vertical-align: middle;\n",
       "    }\n",
       "\n",
       "    .dataframe tbody tr th {\n",
       "        vertical-align: top;\n",
       "    }\n",
       "\n",
       "    .dataframe thead th {\n",
       "        text-align: right;\n",
       "    }\n",
       "</style>\n",
       "<table border=\"1\" class=\"dataframe\">\n",
       "  <thead>\n",
       "    <tr style=\"text-align: right;\">\n",
       "      <th></th>\n",
       "      <th>patient_id</th>\n",
       "      <th>case_no</th>\n",
       "      <th>record_date</th>\n",
       "      <th>sign_type</th>\n",
       "      <th>record_content</th>\n",
       "      <th>record_unit</th>\n",
       "    </tr>\n",
       "  </thead>\n",
       "  <tbody>\n",
       "    <tr>\n",
       "      <th>0</th>\n",
       "      <td>7365906</td>\n",
       "      <td>3721037</td>\n",
       "      <td>2018-06-07 14:00:00</td>\n",
       "      <td>身高(cm)</td>\n",
       "      <td>169</td>\n",
       "      <td>cm</td>\n",
       "    </tr>\n",
       "    <tr>\n",
       "      <th>152</th>\n",
       "      <td>539401</td>\n",
       "      <td>3811092</td>\n",
       "      <td>2018-06-20 14:00:00</td>\n",
       "      <td>身高(cm)</td>\n",
       "      <td>130</td>\n",
       "      <td>cm</td>\n",
       "    </tr>\n",
       "    <tr>\n",
       "      <th>274</th>\n",
       "      <td>76038</td>\n",
       "      <td>3818984</td>\n",
       "      <td>2018-06-21 14:00:00</td>\n",
       "      <td>身高(cm)</td>\n",
       "      <td>147</td>\n",
       "      <td>cm</td>\n",
       "    </tr>\n",
       "    <tr>\n",
       "      <th>860</th>\n",
       "      <td>76038</td>\n",
       "      <td>3818984</td>\n",
       "      <td>2018-07-30 14:00:00</td>\n",
       "      <td>身高(cm)</td>\n",
       "      <td>147</td>\n",
       "      <td>cm</td>\n",
       "    </tr>\n",
       "    <tr>\n",
       "      <th>1326</th>\n",
       "      <td>307084</td>\n",
       "      <td>3826880</td>\n",
       "      <td>2018-06-22 14:00:00</td>\n",
       "      <td>身高(cm)</td>\n",
       "      <td>120</td>\n",
       "      <td>cm</td>\n",
       "    </tr>\n",
       "    <tr>\n",
       "      <th>...</th>\n",
       "      <td>...</td>\n",
       "      <td>...</td>\n",
       "      <td>...</td>\n",
       "      <td>...</td>\n",
       "      <td>...</td>\n",
       "      <td>...</td>\n",
       "    </tr>\n",
       "    <tr>\n",
       "      <th>342227</th>\n",
       "      <td>8262445</td>\n",
       "      <td>9842063</td>\n",
       "      <td>2020-07-30 10:00:00</td>\n",
       "      <td>身高(cm)</td>\n",
       "      <td>164</td>\n",
       "      <td>cm</td>\n",
       "    </tr>\n",
       "    <tr>\n",
       "      <th>342230</th>\n",
       "      <td>7891340</td>\n",
       "      <td>9845643</td>\n",
       "      <td>2020-07-30 14:00:00</td>\n",
       "      <td>身高(cm)</td>\n",
       "      <td>92</td>\n",
       "      <td>cm</td>\n",
       "    </tr>\n",
       "    <tr>\n",
       "      <th>342275</th>\n",
       "      <td>8165400</td>\n",
       "      <td>9846289</td>\n",
       "      <td>2020-07-30 14:00:00</td>\n",
       "      <td>身高(cm)</td>\n",
       "      <td>162</td>\n",
       "      <td>cm</td>\n",
       "    </tr>\n",
       "    <tr>\n",
       "      <th>342297</th>\n",
       "      <td>7762810</td>\n",
       "      <td>9847836</td>\n",
       "      <td>2020-07-30 14:00:00</td>\n",
       "      <td>身高(cm)</td>\n",
       "      <td>174</td>\n",
       "      <td>cm</td>\n",
       "    </tr>\n",
       "    <tr>\n",
       "      <th>342319</th>\n",
       "      <td>6707481</td>\n",
       "      <td>9847995</td>\n",
       "      <td>2020-07-30 14:00:00</td>\n",
       "      <td>身高(cm)</td>\n",
       "      <td>170</td>\n",
       "      <td>cm</td>\n",
       "    </tr>\n",
       "  </tbody>\n",
       "</table>\n",
       "<p>1964 rows × 6 columns</p>\n",
       "</div>"
      ],
      "text/plain": [
       "        patient_id  case_no          record_date sign_type record_content  \\\n",
       "0          7365906  3721037  2018-06-07 14:00:00    身高(cm)            169   \n",
       "152         539401  3811092  2018-06-20 14:00:00    身高(cm)            130   \n",
       "274          76038  3818984  2018-06-21 14:00:00    身高(cm)            147   \n",
       "860          76038  3818984  2018-07-30 14:00:00    身高(cm)            147   \n",
       "1326        307084  3826880  2018-06-22 14:00:00    身高(cm)            120   \n",
       "...            ...      ...                  ...       ...            ...   \n",
       "342227     8262445  9842063  2020-07-30 10:00:00    身高(cm)            164   \n",
       "342230     7891340  9845643  2020-07-30 14:00:00    身高(cm)             92   \n",
       "342275     8165400  9846289  2020-07-30 14:00:00    身高(cm)            162   \n",
       "342297     7762810  9847836  2020-07-30 14:00:00    身高(cm)            174   \n",
       "342319     6707481  9847995  2020-07-30 14:00:00    身高(cm)            170   \n",
       "\n",
       "       record_unit  \n",
       "0               cm  \n",
       "152             cm  \n",
       "274             cm  \n",
       "860             cm  \n",
       "1326            cm  \n",
       "...            ...  \n",
       "342227          cm  \n",
       "342230          cm  \n",
       "342275          cm  \n",
       "342297          cm  \n",
       "342319          cm  \n",
       "\n",
       "[1964 rows x 6 columns]"
      ]
     },
     "execution_count": 51,
     "metadata": {},
     "output_type": "execute_result"
    }
   ],
   "source": [
    "df_height"
   ]
  },
  {
   "cell_type": "code",
   "execution_count": 52,
   "metadata": {},
   "outputs": [
    {
     "name": "stderr",
     "output_type": "stream",
     "text": [
      "D:\\Anaconda3\\lib\\site-packages\\ipykernel_launcher.py:3: SettingWithCopyWarning: \n",
      "A value is trying to be set on a copy of a slice from a DataFrame.\n",
      "Try using .loc[row_indexer,col_indexer] = value instead\n",
      "\n",
      "See the caveats in the documentation: https://pandas.pydata.org/pandas-docs/stable/user_guide/indexing.html#returning-a-view-versus-a-copy\n",
      "  This is separate from the ipykernel package so we can avoid doing imports until\n"
     ]
    }
   ],
   "source": [
    "# 过滤文字\n",
    "df_height=filter_string(df_height,'record_content')\n",
    "# 过滤特殊字符\n",
    "df_height=filter_spec_character(df_height,'record_content')"
   ]
  },
  {
   "cell_type": "code",
   "execution_count": 53,
   "metadata": {},
   "outputs": [
    {
     "name": "stdout",
     "output_type": "stream",
     "text": [
      "(1834, 6)\n",
      "1072\n"
     ]
    }
   ],
   "source": [
    "print(df_height.shape)\n",
    "print(df_height['patient_id'].nunique())"
   ]
  },
  {
   "cell_type": "code",
   "execution_count": 54,
   "metadata": {},
   "outputs": [
    {
     "data": {
      "text/html": [
       "<div>\n",
       "<style scoped>\n",
       "    .dataframe tbody tr th:only-of-type {\n",
       "        vertical-align: middle;\n",
       "    }\n",
       "\n",
       "    .dataframe tbody tr th {\n",
       "        vertical-align: top;\n",
       "    }\n",
       "\n",
       "    .dataframe thead th {\n",
       "        text-align: right;\n",
       "    }\n",
       "</style>\n",
       "<table border=\"1\" class=\"dataframe\">\n",
       "  <thead>\n",
       "    <tr style=\"text-align: right;\">\n",
       "      <th></th>\n",
       "      <th>patient_id</th>\n",
       "      <th>case_no</th>\n",
       "      <th>record_date</th>\n",
       "      <th>sign_type</th>\n",
       "      <th>record_content</th>\n",
       "      <th>record_unit</th>\n",
       "    </tr>\n",
       "  </thead>\n",
       "  <tbody>\n",
       "    <tr>\n",
       "      <th>860</th>\n",
       "      <td>76038</td>\n",
       "      <td>3818984</td>\n",
       "      <td>2018-07-30 14:00:00</td>\n",
       "      <td>身高(cm)</td>\n",
       "      <td>147</td>\n",
       "      <td>cm</td>\n",
       "    </tr>\n",
       "    <tr>\n",
       "      <th>3459</th>\n",
       "      <td>6681563</td>\n",
       "      <td>3947252</td>\n",
       "      <td>2018-07-15 14:00:00</td>\n",
       "      <td>身高(cm)</td>\n",
       "      <td>165</td>\n",
       "      <td>cm</td>\n",
       "    </tr>\n",
       "    <tr>\n",
       "      <th>5882</th>\n",
       "      <td>1148109</td>\n",
       "      <td>3975434</td>\n",
       "      <td>2018-09-11 14:00:00</td>\n",
       "      <td>身高(cm)</td>\n",
       "      <td>109</td>\n",
       "      <td>cm</td>\n",
       "    </tr>\n",
       "    <tr>\n",
       "      <th>6418</th>\n",
       "      <td>1148109</td>\n",
       "      <td>3975434</td>\n",
       "      <td>2018-10-02 14:00:00</td>\n",
       "      <td>身高(cm)</td>\n",
       "      <td>109</td>\n",
       "      <td>cm</td>\n",
       "    </tr>\n",
       "    <tr>\n",
       "      <th>7602</th>\n",
       "      <td>7441638</td>\n",
       "      <td>3987166</td>\n",
       "      <td>2018-07-19 14:00:00</td>\n",
       "      <td>身高(cm)</td>\n",
       "      <td>178</td>\n",
       "      <td>cm</td>\n",
       "    </tr>\n",
       "    <tr>\n",
       "      <th>...</th>\n",
       "      <td>...</td>\n",
       "      <td>...</td>\n",
       "      <td>...</td>\n",
       "      <td>...</td>\n",
       "      <td>...</td>\n",
       "      <td>...</td>\n",
       "    </tr>\n",
       "    <tr>\n",
       "      <th>336533</th>\n",
       "      <td>8037660</td>\n",
       "      <td>9585336</td>\n",
       "      <td>2020-07-06 14:00:00</td>\n",
       "      <td>身高(cm)</td>\n",
       "      <td>92</td>\n",
       "      <td>cm</td>\n",
       "    </tr>\n",
       "    <tr>\n",
       "      <th>338579</th>\n",
       "      <td>6329653</td>\n",
       "      <td>9671334</td>\n",
       "      <td>2020-07-13 14:00:00</td>\n",
       "      <td>身高(cm)</td>\n",
       "      <td>120</td>\n",
       "      <td>cm</td>\n",
       "    </tr>\n",
       "    <tr>\n",
       "      <th>339899</th>\n",
       "      <td>6973480</td>\n",
       "      <td>9714809</td>\n",
       "      <td>2020-07-23 14:00:00</td>\n",
       "      <td>身高(cm)</td>\n",
       "      <td>165</td>\n",
       "      <td>cm</td>\n",
       "    </tr>\n",
       "    <tr>\n",
       "      <th>341585</th>\n",
       "      <td>5990104</td>\n",
       "      <td>9808390</td>\n",
       "      <td>2020-07-27 10:00:00</td>\n",
       "      <td>身高(cm)</td>\n",
       "      <td>159</td>\n",
       "      <td>cm</td>\n",
       "    </tr>\n",
       "    <tr>\n",
       "      <th>342227</th>\n",
       "      <td>8262445</td>\n",
       "      <td>9842063</td>\n",
       "      <td>2020-07-30 10:00:00</td>\n",
       "      <td>身高(cm)</td>\n",
       "      <td>164</td>\n",
       "      <td>cm</td>\n",
       "    </tr>\n",
       "  </tbody>\n",
       "</table>\n",
       "<p>99 rows × 6 columns</p>\n",
       "</div>"
      ],
      "text/plain": [
       "        patient_id  case_no          record_date sign_type record_content  \\\n",
       "860          76038  3818984  2018-07-30 14:00:00    身高(cm)            147   \n",
       "3459       6681563  3947252  2018-07-15 14:00:00    身高(cm)            165   \n",
       "5882       1148109  3975434  2018-09-11 14:00:00    身高(cm)            109   \n",
       "6418       1148109  3975434  2018-10-02 14:00:00    身高(cm)            109   \n",
       "7602       7441638  3987166  2018-07-19 14:00:00    身高(cm)            178   \n",
       "...            ...      ...                  ...       ...            ...   \n",
       "336533     8037660  9585336  2020-07-06 14:00:00    身高(cm)             92   \n",
       "338579     6329653  9671334  2020-07-13 14:00:00    身高(cm)            120   \n",
       "339899     6973480  9714809  2020-07-23 14:00:00    身高(cm)            165   \n",
       "341585     5990104  9808390  2020-07-27 10:00:00    身高(cm)            159   \n",
       "342227     8262445  9842063  2020-07-30 10:00:00    身高(cm)            164   \n",
       "\n",
       "       record_unit  \n",
       "860             cm  \n",
       "3459            cm  \n",
       "5882            cm  \n",
       "6418            cm  \n",
       "7602            cm  \n",
       "...            ...  \n",
       "336533          cm  \n",
       "338579          cm  \n",
       "339899          cm  \n",
       "341585          cm  \n",
       "342227          cm  \n",
       "\n",
       "[99 rows x 6 columns]"
      ]
     },
     "execution_count": 54,
     "metadata": {},
     "output_type": "execute_result"
    }
   ],
   "source": [
    "# 查看重复数据\n",
    "df_height[df_height.duplicated(subset=['patient_id','case_no','record_content'])]"
   ]
  },
  {
   "cell_type": "code",
   "execution_count": 55,
   "metadata": {},
   "outputs": [],
   "source": [
    "# 排序\n",
    "df_height=df_height.sort_values(by=['case_no','record_date'],ascending=[True,True])\n",
    "# 删除重复数据\n",
    "df_height=df_height.drop_duplicates(subset=['case_no','record_content'],keep='last')"
   ]
  },
  {
   "cell_type": "code",
   "execution_count": 56,
   "metadata": {},
   "outputs": [
    {
     "name": "stdout",
     "output_type": "stream",
     "text": [
      "(1735, 6)\n",
      "1072\n"
     ]
    }
   ],
   "source": [
    "print(df_height.shape)\n",
    "print(df_height['patient_id'].nunique())"
   ]
  },
  {
   "cell_type": "code",
   "execution_count": 57,
   "metadata": {},
   "outputs": [],
   "source": [
    "df_height.to_excel(project_path+'/data/pre_processed_raw_data/人口学特征/df_height.xlsx')"
   ]
  },
  {
   "cell_type": "markdown",
   "metadata": {},
   "source": [
    "### weight"
   ]
  },
  {
   "cell_type": "code",
   "execution_count": 58,
   "metadata": {},
   "outputs": [],
   "source": [
    "# 提取体重信息\n",
    "df_weight=df_patient_sign_record[df_patient_sign_record['sign_type'].str.contains('体重')]"
   ]
  },
  {
   "cell_type": "code",
   "execution_count": 59,
   "metadata": {},
   "outputs": [
    {
     "name": "stdout",
     "output_type": "stream",
     "text": [
      "(11106, 6)\n",
      "1079\n"
     ]
    }
   ],
   "source": [
    "print(df_weight.shape)\n",
    "print(df_weight['patient_id'].nunique())"
   ]
  },
  {
   "cell_type": "code",
   "execution_count": 60,
   "metadata": {},
   "outputs": [
    {
     "data": {
      "text/html": [
       "<div>\n",
       "<style scoped>\n",
       "    .dataframe tbody tr th:only-of-type {\n",
       "        vertical-align: middle;\n",
       "    }\n",
       "\n",
       "    .dataframe tbody tr th {\n",
       "        vertical-align: top;\n",
       "    }\n",
       "\n",
       "    .dataframe thead th {\n",
       "        text-align: right;\n",
       "    }\n",
       "</style>\n",
       "<table border=\"1\" class=\"dataframe\">\n",
       "  <thead>\n",
       "    <tr style=\"text-align: right;\">\n",
       "      <th></th>\n",
       "      <th>patient_id</th>\n",
       "      <th>case_no</th>\n",
       "      <th>record_date</th>\n",
       "      <th>sign_type</th>\n",
       "      <th>record_content</th>\n",
       "      <th>record_unit</th>\n",
       "    </tr>\n",
       "  </thead>\n",
       "  <tbody>\n",
       "    <tr>\n",
       "      <th>60</th>\n",
       "      <td>7365906</td>\n",
       "      <td>3721037</td>\n",
       "      <td>2018-06-14 14:00:00</td>\n",
       "      <td>体重(kg)</td>\n",
       "      <td>39</td>\n",
       "      <td>kg</td>\n",
       "    </tr>\n",
       "    <tr>\n",
       "      <th>63</th>\n",
       "      <td>7365906</td>\n",
       "      <td>3721037</td>\n",
       "      <td>2018-06-21 14:00:00</td>\n",
       "      <td>体重(kg)</td>\n",
       "      <td>39</td>\n",
       "      <td>kg</td>\n",
       "    </tr>\n",
       "    <tr>\n",
       "      <th>69</th>\n",
       "      <td>7365906</td>\n",
       "      <td>3721037</td>\n",
       "      <td>2018-06-07 14:00:00</td>\n",
       "      <td>体重(kg)</td>\n",
       "      <td>39.5</td>\n",
       "      <td>kg</td>\n",
       "    </tr>\n",
       "    <tr>\n",
       "      <th>184</th>\n",
       "      <td>539401</td>\n",
       "      <td>3811092</td>\n",
       "      <td>2018-07-09 14:00:00</td>\n",
       "      <td>体重(kg)</td>\n",
       "      <td>25</td>\n",
       "      <td>kg</td>\n",
       "    </tr>\n",
       "    <tr>\n",
       "      <th>191</th>\n",
       "      <td>539401</td>\n",
       "      <td>3811092</td>\n",
       "      <td>2018-07-02 14:00:00</td>\n",
       "      <td>体重(kg)</td>\n",
       "      <td>25</td>\n",
       "      <td>kg</td>\n",
       "    </tr>\n",
       "  </tbody>\n",
       "</table>\n",
       "</div>"
      ],
      "text/plain": [
       "     patient_id  case_no          record_date sign_type record_content  \\\n",
       "60      7365906  3721037  2018-06-14 14:00:00    体重(kg)             39   \n",
       "63      7365906  3721037  2018-06-21 14:00:00    体重(kg)             39   \n",
       "69      7365906  3721037  2018-06-07 14:00:00    体重(kg)           39.5   \n",
       "184      539401  3811092  2018-07-09 14:00:00    体重(kg)             25   \n",
       "191      539401  3811092  2018-07-02 14:00:00    体重(kg)             25   \n",
       "\n",
       "    record_unit  \n",
       "60           kg  \n",
       "63           kg  \n",
       "69           kg  \n",
       "184          kg  \n",
       "191          kg  "
      ]
     },
     "execution_count": 60,
     "metadata": {},
     "output_type": "execute_result"
    }
   ],
   "source": [
    "df_weight.head()"
   ]
  },
  {
   "cell_type": "code",
   "execution_count": 61,
   "metadata": {},
   "outputs": [],
   "source": [
    "# 过滤文字\n",
    "df_weight=filter_string(df_weight,'record_content')"
   ]
  },
  {
   "cell_type": "code",
   "execution_count": 62,
   "metadata": {},
   "outputs": [
    {
     "name": "stdout",
     "output_type": "stream",
     "text": [
      "(10292, 6)\n",
      "1075\n"
     ]
    }
   ],
   "source": [
    "print(df_weight.shape)\n",
    "print(df_weight['patient_id'].nunique())"
   ]
  },
  {
   "cell_type": "code",
   "execution_count": 63,
   "metadata": {},
   "outputs": [
    {
     "data": {
      "text/plain": [
       "'224'"
      ]
     },
     "execution_count": 63,
     "metadata": {},
     "output_type": "execute_result"
    }
   ],
   "source": [
    "'224'.replace('..','.')"
   ]
  },
  {
   "cell_type": "code",
   "execution_count": 64,
   "metadata": {},
   "outputs": [],
   "source": [
    "# 过滤异常值\n",
    "df_weight=df_weight[~ df_weight['record_content'].str.contains('0')]\n",
    "# 过滤特殊字符\n",
    "df_weight=filter_spec_character(df_weight,'record_content')\n",
    "df_weight['record_content']=df_weight['record_content'].apply(lambda x: str(x).replace('..','.'))"
   ]
  },
  {
   "cell_type": "code",
   "execution_count": 65,
   "metadata": {},
   "outputs": [
    {
     "name": "stdout",
     "output_type": "stream",
     "text": [
      "(8794, 6)\n",
      "996\n"
     ]
    }
   ],
   "source": [
    "print(df_weight.shape)\n",
    "print(df_weight['patient_id'].nunique())"
   ]
  },
  {
   "cell_type": "code",
   "execution_count": 66,
   "metadata": {},
   "outputs": [
    {
     "data": {
      "text/html": [
       "<div>\n",
       "<style scoped>\n",
       "    .dataframe tbody tr th:only-of-type {\n",
       "        vertical-align: middle;\n",
       "    }\n",
       "\n",
       "    .dataframe tbody tr th {\n",
       "        vertical-align: top;\n",
       "    }\n",
       "\n",
       "    .dataframe thead th {\n",
       "        text-align: right;\n",
       "    }\n",
       "</style>\n",
       "<table border=\"1\" class=\"dataframe\">\n",
       "  <thead>\n",
       "    <tr style=\"text-align: right;\">\n",
       "      <th></th>\n",
       "      <th>patient_id</th>\n",
       "      <th>case_no</th>\n",
       "      <th>record_date</th>\n",
       "      <th>sign_type</th>\n",
       "      <th>record_content</th>\n",
       "      <th>record_unit</th>\n",
       "    </tr>\n",
       "  </thead>\n",
       "  <tbody>\n",
       "    <tr>\n",
       "      <th>63</th>\n",
       "      <td>7365906</td>\n",
       "      <td>3721037</td>\n",
       "      <td>2018-06-21 14:00:00</td>\n",
       "      <td>体重(kg)</td>\n",
       "      <td>39</td>\n",
       "      <td>kg</td>\n",
       "    </tr>\n",
       "    <tr>\n",
       "      <th>191</th>\n",
       "      <td>539401</td>\n",
       "      <td>3811092</td>\n",
       "      <td>2018-07-02 14:00:00</td>\n",
       "      <td>体重(kg)</td>\n",
       "      <td>25</td>\n",
       "      <td>kg</td>\n",
       "    </tr>\n",
       "    <tr>\n",
       "      <th>202</th>\n",
       "      <td>539401</td>\n",
       "      <td>3811092</td>\n",
       "      <td>2018-06-20 14:00:00</td>\n",
       "      <td>体重(kg)</td>\n",
       "      <td>25</td>\n",
       "      <td>kg</td>\n",
       "    </tr>\n",
       "    <tr>\n",
       "      <th>233</th>\n",
       "      <td>539401</td>\n",
       "      <td>3811092</td>\n",
       "      <td>2018-06-25 10:00:00</td>\n",
       "      <td>体重(kg)</td>\n",
       "      <td>25</td>\n",
       "      <td>kg</td>\n",
       "    </tr>\n",
       "    <tr>\n",
       "      <th>864</th>\n",
       "      <td>76038</td>\n",
       "      <td>3818984</td>\n",
       "      <td>2018-07-30 14:00:00</td>\n",
       "      <td>体重(kg)</td>\n",
       "      <td>31</td>\n",
       "      <td>kg</td>\n",
       "    </tr>\n",
       "    <tr>\n",
       "      <th>...</th>\n",
       "      <td>...</td>\n",
       "      <td>...</td>\n",
       "      <td>...</td>\n",
       "      <td>...</td>\n",
       "      <td>...</td>\n",
       "      <td>...</td>\n",
       "    </tr>\n",
       "    <tr>\n",
       "      <th>340394</th>\n",
       "      <td>8166984</td>\n",
       "      <td>9741221</td>\n",
       "      <td>2020-07-19 14:00:00</td>\n",
       "      <td>体重(kg)</td>\n",
       "      <td>56</td>\n",
       "      <td>kg</td>\n",
       "    </tr>\n",
       "    <tr>\n",
       "      <th>341323</th>\n",
       "      <td>6277929</td>\n",
       "      <td>9782516</td>\n",
       "      <td>2020-07-27 10:00:00</td>\n",
       "      <td>体重(kg)</td>\n",
       "      <td>57</td>\n",
       "      <td>kg</td>\n",
       "    </tr>\n",
       "    <tr>\n",
       "      <th>341385</th>\n",
       "      <td>6277929</td>\n",
       "      <td>9782516</td>\n",
       "      <td>2020-07-30 14:00:00</td>\n",
       "      <td>体重(kg)</td>\n",
       "      <td>57</td>\n",
       "      <td>kg</td>\n",
       "    </tr>\n",
       "    <tr>\n",
       "      <th>341586</th>\n",
       "      <td>5990104</td>\n",
       "      <td>9808390</td>\n",
       "      <td>2020-07-27 10:00:00</td>\n",
       "      <td>体重(kg)</td>\n",
       "      <td>45</td>\n",
       "      <td>kg</td>\n",
       "    </tr>\n",
       "    <tr>\n",
       "      <th>342228</th>\n",
       "      <td>8262445</td>\n",
       "      <td>9842063</td>\n",
       "      <td>2020-07-30 10:00:00</td>\n",
       "      <td>体重(kg)</td>\n",
       "      <td>62</td>\n",
       "      <td>kg</td>\n",
       "    </tr>\n",
       "  </tbody>\n",
       "</table>\n",
       "<p>3778 rows × 6 columns</p>\n",
       "</div>"
      ],
      "text/plain": [
       "        patient_id  case_no          record_date sign_type record_content  \\\n",
       "63         7365906  3721037  2018-06-21 14:00:00    体重(kg)             39   \n",
       "191         539401  3811092  2018-07-02 14:00:00    体重(kg)             25   \n",
       "202         539401  3811092  2018-06-20 14:00:00    体重(kg)             25   \n",
       "233         539401  3811092  2018-06-25 10:00:00    体重(kg)             25   \n",
       "864          76038  3818984  2018-07-30 14:00:00    体重(kg)             31   \n",
       "...            ...      ...                  ...       ...            ...   \n",
       "340394     8166984  9741221  2020-07-19 14:00:00    体重(kg)             56   \n",
       "341323     6277929  9782516  2020-07-27 10:00:00    体重(kg)             57   \n",
       "341385     6277929  9782516  2020-07-30 14:00:00    体重(kg)             57   \n",
       "341586     5990104  9808390  2020-07-27 10:00:00    体重(kg)             45   \n",
       "342228     8262445  9842063  2020-07-30 10:00:00    体重(kg)             62   \n",
       "\n",
       "       record_unit  \n",
       "63              kg  \n",
       "191             kg  \n",
       "202             kg  \n",
       "233             kg  \n",
       "864             kg  \n",
       "...            ...  \n",
       "340394          kg  \n",
       "341323          kg  \n",
       "341385          kg  \n",
       "341586          kg  \n",
       "342228          kg  \n",
       "\n",
       "[3778 rows x 6 columns]"
      ]
     },
     "execution_count": 66,
     "metadata": {},
     "output_type": "execute_result"
    }
   ],
   "source": [
    "# 查看重复数据\n",
    "df_weight[df_weight.duplicated(subset=['patient_id','case_no','record_content'])]"
   ]
  },
  {
   "cell_type": "code",
   "execution_count": 67,
   "metadata": {},
   "outputs": [],
   "source": [
    "# 排序\n",
    "df_weight=df_weight.sort_values(by=['case_no','record_date'],ascending=[True,True])\n",
    "# 删除重复数据\n",
    "df_weight=df_weight.drop_duplicates(subset=['case_no','record_content'],keep='last')"
   ]
  },
  {
   "cell_type": "code",
   "execution_count": 68,
   "metadata": {},
   "outputs": [
    {
     "name": "stdout",
     "output_type": "stream",
     "text": [
      "(5016, 6)\n",
      "996\n"
     ]
    }
   ],
   "source": [
    "print(df_weight.shape)\n",
    "print(df_weight['patient_id'].nunique())"
   ]
  },
  {
   "cell_type": "code",
   "execution_count": 69,
   "metadata": {},
   "outputs": [],
   "source": [
    "df_weight.to_excel(project_path+'/data/pre_processed_raw_data/人口学特征/df_weight.xlsx')"
   ]
  },
  {
   "cell_type": "code",
   "execution_count": 70,
   "metadata": {},
   "outputs": [
    {
     "data": {
      "text/html": [
       "<div>\n",
       "<style scoped>\n",
       "    .dataframe tbody tr th:only-of-type {\n",
       "        vertical-align: middle;\n",
       "    }\n",
       "\n",
       "    .dataframe tbody tr th {\n",
       "        vertical-align: top;\n",
       "    }\n",
       "\n",
       "    .dataframe thead th {\n",
       "        text-align: right;\n",
       "    }\n",
       "</style>\n",
       "<table border=\"1\" class=\"dataframe\">\n",
       "  <thead>\n",
       "    <tr style=\"text-align: right;\">\n",
       "      <th></th>\n",
       "      <th>patient_id</th>\n",
       "      <th>case_no</th>\n",
       "      <th>record_date</th>\n",
       "      <th>sign_type</th>\n",
       "      <th>record_content</th>\n",
       "      <th>record_unit</th>\n",
       "    </tr>\n",
       "  </thead>\n",
       "  <tbody>\n",
       "    <tr>\n",
       "      <th>69</th>\n",
       "      <td>7365906</td>\n",
       "      <td>3721037</td>\n",
       "      <td>2018-06-07 14:00:00</td>\n",
       "      <td>体重(kg)</td>\n",
       "      <td>39.5</td>\n",
       "      <td>kg</td>\n",
       "    </tr>\n",
       "    <tr>\n",
       "      <th>63</th>\n",
       "      <td>7365906</td>\n",
       "      <td>3721037</td>\n",
       "      <td>2018-06-21 14:00:00</td>\n",
       "      <td>体重(kg)</td>\n",
       "      <td>39</td>\n",
       "      <td>kg</td>\n",
       "    </tr>\n",
       "    <tr>\n",
       "      <th>184</th>\n",
       "      <td>539401</td>\n",
       "      <td>3811092</td>\n",
       "      <td>2018-07-09 14:00:00</td>\n",
       "      <td>体重(kg)</td>\n",
       "      <td>25</td>\n",
       "      <td>kg</td>\n",
       "    </tr>\n",
       "    <tr>\n",
       "      <th>864</th>\n",
       "      <td>76038</td>\n",
       "      <td>3818984</td>\n",
       "      <td>2018-07-30 14:00:00</td>\n",
       "      <td>体重(kg)</td>\n",
       "      <td>31</td>\n",
       "      <td>kg</td>\n",
       "    </tr>\n",
       "    <tr>\n",
       "      <th>1325</th>\n",
       "      <td>76038</td>\n",
       "      <td>3818984</td>\n",
       "      <td>2018-08-20 14:00:00</td>\n",
       "      <td>体重(kg)</td>\n",
       "      <td>28.5</td>\n",
       "      <td>kg</td>\n",
       "    </tr>\n",
       "  </tbody>\n",
       "</table>\n",
       "</div>"
      ],
      "text/plain": [
       "      patient_id  case_no          record_date sign_type record_content  \\\n",
       "69       7365906  3721037  2018-06-07 14:00:00    体重(kg)           39.5   \n",
       "63       7365906  3721037  2018-06-21 14:00:00    体重(kg)             39   \n",
       "184       539401  3811092  2018-07-09 14:00:00    体重(kg)             25   \n",
       "864        76038  3818984  2018-07-30 14:00:00    体重(kg)             31   \n",
       "1325       76038  3818984  2018-08-20 14:00:00    体重(kg)           28.5   \n",
       "\n",
       "     record_unit  \n",
       "69            kg  \n",
       "63            kg  \n",
       "184           kg  \n",
       "864           kg  \n",
       "1325          kg  "
      ]
     },
     "execution_count": 70,
     "metadata": {},
     "output_type": "execute_result"
    }
   ],
   "source": [
    "df_weight.head()"
   ]
  },
  {
   "cell_type": "markdown",
   "metadata": {},
   "source": [
    "# 纳排"
   ]
  },
  {
   "cell_type": "markdown",
   "metadata": {},
   "source": [
    "## 纳入标准"
   ]
  },
  {
   "cell_type": "markdown",
   "metadata": {},
   "source": [
    "### 提取他克莫司用药"
   ]
  },
  {
   "cell_type": "code",
   "execution_count": 71,
   "metadata": {},
   "outputs": [],
   "source": [
    "# 提取他克莫司用药\n",
    "df_Tcms = df_doctor_order[df_doctor_order['drug_name'].str.contains('他克莫司') & (df_doctor_order['drug_name'].str.contains('胶囊'))]"
   ]
  },
  {
   "cell_type": "code",
   "execution_count": 72,
   "metadata": {
    "scrolled": true
   },
   "outputs": [],
   "source": [
    "# 排序\n",
    "df_Tcms=df_Tcms.sort_values(['patient_id','case_no','start_datetime'])"
   ]
  },
  {
   "cell_type": "code",
   "execution_count": 73,
   "metadata": {},
   "outputs": [
    {
     "name": "stdout",
     "output_type": "stream",
     "text": [
      "(5670, 10)\n",
      "821\n"
     ]
    }
   ],
   "source": [
    "print(df_Tcms.shape)\n",
    "print(df_Tcms['patient_id'].nunique())"
   ]
  },
  {
   "cell_type": "code",
   "execution_count": 75,
   "metadata": {
    "scrolled": true
   },
   "outputs": [],
   "source": [
    "# 保存丙戊酸用药数据\n",
    "df_Tcms.to_excel(project_path+'/data/processed_data/df_2.1.1_他克莫司用药.xlsx')"
   ]
  },
  {
   "cell_type": "markdown",
   "metadata": {},
   "source": [
    "### 系统性红斑狼疮等"
   ]
  },
  {
   "cell_type": "code",
   "execution_count": 76,
   "metadata": {},
   "outputs": [],
   "source": [
    "# 从diagnostic_record中提取狼疮性肾炎、系统性红斑狼疮、肾病综合征\n",
    "df_SLE=df_diagnostic_record[df_diagnostic_record['diagnostic_content'].str.contains('狼疮性肾炎|狼疮肾炎|系统性红斑狼疮|肾病综合')]"
   ]
  },
  {
   "cell_type": "code",
   "execution_count": 77,
   "metadata": {},
   "outputs": [
    {
     "data": {
      "text/plain": [
       "array(['系统性红斑狼疮', '狼疮性肾炎', '肾病综合征', '肾病综合征，膜性肾病', '肾病综合征，肾小球轻微病变',\n",
       "       '肾病综合征，局灶性节段性肾小球肾炎', '系统性红斑狼疮，累及器官或系统', '肾病综合征，特指病理', '系统性红斑狼疮?',\n",
       "       '难治性肾病综合征', '肾病综合征激素依赖型', 'SLE，狼疮肾炎性，肾病综合征，急性肾损伤，低蛋白血症，高尿酸血症，',\n",
       "       '肾病综合征复发', '肾病综合征伴节段硬化性肾小球肾炎', '肾病综合征，膜增殖性肾小球肾炎Ⅰ型',\n",
       "       '肾病综合征伴有局灶性和节段性肾小球损害', '肾病综合症伴局灶硬化性肾小球肾', '肾病综合征,其他的',\n",
       "       '肾病综合征，膜增殖性肾小球肾炎Ⅲ型', '难治性肾病综合征，激素耐药型', '肾病综合征伴有轻微的肾小球异常',\n",
       "       '肾病综合征，难治性', '肾病综合征伴微小病变性肾小球肾炎', '系统性红斑狼疮，其他形式的',\n",
       "       '难治性肾病综合征，局灶节段性肾小球硬化症', '妊娠合并系统性红斑狼疮', '肾病综合征伴微小病变性', '狼疮肾炎',\n",
       "       '1.发热、皮疹查因：过敏反应？感染？系统性红斑狼疮相关？', '肾病综合征,局灶节段性肾小球硬化症',\n",
       "       '系统性红斑狼疮血液系统损害', '继发性肾病综合征', '原发性肾病综合征', '局灶节段性肾小球硬化症,肾病综合征',\n",
       "       '狼疮性肾炎IV+V型', '先天性肾病综合征', '系统性红斑狼疮伴妊娠'], dtype=object)"
      ]
     },
     "execution_count": 77,
     "metadata": {},
     "output_type": "execute_result"
    }
   ],
   "source": [
    "df_SLE['diagnostic_content'].unique()"
   ]
  },
  {
   "cell_type": "code",
   "execution_count": 78,
   "metadata": {},
   "outputs": [
    {
     "name": "stdout",
     "output_type": "stream",
     "text": [
      "(5028, 4)\n",
      "548\n"
     ]
    }
   ],
   "source": [
    "print(df_SLE.shape)\n",
    "print(df_SLE['patient_id'].nunique())"
   ]
  },
  {
   "cell_type": "code",
   "execution_count": 79,
   "metadata": {},
   "outputs": [],
   "source": [
    "# 纳入双相情感障碍\n",
    "df_Tcms_SLE=df_Tcms[df_Tcms['patient_id'].isin(df_SLE['patient_id'].unique())]\n",
    "df_Tcms_SLE=df_Tcms_SLE.sort_values(['case_no','start_datetime']).reset_index(drop=True)"
   ]
  },
  {
   "cell_type": "code",
   "execution_count": 80,
   "metadata": {},
   "outputs": [
    {
     "name": "stdout",
     "output_type": "stream",
     "text": [
      "(746, 10)\n",
      "185\n"
     ]
    }
   ],
   "source": [
    "print(df_Tcms_SLE.shape)\n",
    "print(df_Tcms_SLE['patient_id'].nunique())"
   ]
  },
  {
   "cell_type": "code",
   "execution_count": 81,
   "metadata": {},
   "outputs": [],
   "source": [
    "df_Tcms_SLE.to_excel(project_path+'/data/processed_data/df_2.1.2_性红斑狼疮过滤的tcms用药.xlsx')"
   ]
  },
  {
   "cell_type": "code",
   "execution_count": 82,
   "metadata": {},
   "outputs": [],
   "source": [
    "# ### 年龄筛选：18-65岁\n",
    "\n",
    "# df_age_adult=df_age[(df_age['age']>=18) & (df_age['age']<=65)]\n",
    "\n",
    "# df_age_adult\n",
    "\n",
    "# print(df_age_adult.shape)\n",
    "# print(df_age_adult['patient_id'].nunique())\n",
    "\n",
    "# # 纳入年龄限制\n",
    "# df_Tcms_age=df_Tcms_BD[df_Tcms_BD['patient_id'].isin(df_age_adult['patient_id'].unique())]\n",
    "\n",
    "# print(df_Tcms_age.shape)\n",
    "# print(df_Tcms_age['patient_id'].nunique())\n",
    "\n",
    "# df_Tcms_age.to_excel(project_path+'/data/processed_data/df_temp_Tcms_age.xlsx')"
   ]
  },
  {
   "cell_type": "markdown",
   "metadata": {},
   "source": [
    "### tdm筛选"
   ]
  },
  {
   "cell_type": "markdown",
   "metadata": {},
   "source": [
    "#### 提取他克莫司tdm检测"
   ]
  },
  {
   "cell_type": "code",
   "execution_count": 83,
   "metadata": {},
   "outputs": [],
   "source": [
    "# 提取用药后不良反应发生前的他克莫司血药浓度检测\n",
    "df_test_Tcms=df_test[df_test['project_name'].str.contains('他克莫司药物浓度监测')]\n",
    "# 排序\n",
    "df_test_Tcms=df_test_Tcms.sort_values(['patient_id','case_no','test_date'])\n",
    "df_test_Tcms=df_test_Tcms.reset_index(drop=True)"
   ]
  },
  {
   "cell_type": "code",
   "execution_count": 84,
   "metadata": {},
   "outputs": [
    {
     "name": "stdout",
     "output_type": "stream",
     "text": [
      "(25758, 10)\n",
      "2480\n"
     ]
    }
   ],
   "source": [
    "print(df_test_Tcms.shape)\n",
    "print(df_test_Tcms['patient_id'].nunique())"
   ]
  },
  {
   "cell_type": "code",
   "execution_count": 85,
   "metadata": {},
   "outputs": [
    {
     "data": {
      "text/html": [
       "<div>\n",
       "<style scoped>\n",
       "    .dataframe tbody tr th:only-of-type {\n",
       "        vertical-align: middle;\n",
       "    }\n",
       "\n",
       "    .dataframe tbody tr th {\n",
       "        vertical-align: top;\n",
       "    }\n",
       "\n",
       "    .dataframe thead th {\n",
       "        text-align: right;\n",
       "    }\n",
       "</style>\n",
       "<table border=\"1\" class=\"dataframe\">\n",
       "  <thead>\n",
       "    <tr style=\"text-align: right;\">\n",
       "      <th></th>\n",
       "      <th>test_record_id</th>\n",
       "      <th>patient_id</th>\n",
       "      <th>case_no</th>\n",
       "      <th>test_date</th>\n",
       "      <th>project_name</th>\n",
       "      <th>test_result</th>\n",
       "      <th>result_unit</th>\n",
       "      <th>is_normal</th>\n",
       "      <th>refer_scope</th>\n",
       "      <th>synonym</th>\n",
       "    </tr>\n",
       "  </thead>\n",
       "  <tbody>\n",
       "    <tr>\n",
       "      <th>0</th>\n",
       "      <td>800000058858||Y001||1</td>\n",
       "      <td>2026</td>\n",
       "      <td>NaN</td>\n",
       "      <td>2017-02-22 09:47:00</td>\n",
       "      <td>他克莫司药物浓度监测</td>\n",
       "      <td>7.10</td>\n",
       "      <td>ng/ml</td>\n",
       "      <td>N</td>\n",
       "      <td>NaN</td>\n",
       "      <td>FK506</td>\n",
       "    </tr>\n",
       "    <tr>\n",
       "      <th>1</th>\n",
       "      <td>800000138028||Y001||1</td>\n",
       "      <td>2026</td>\n",
       "      <td>NaN</td>\n",
       "      <td>2017-05-03 09:46:00</td>\n",
       "      <td>他克莫司药物浓度监测</td>\n",
       "      <td>8.90</td>\n",
       "      <td>ng/ml</td>\n",
       "      <td>N</td>\n",
       "      <td>NaN</td>\n",
       "      <td>FK506</td>\n",
       "    </tr>\n",
       "    <tr>\n",
       "      <th>2</th>\n",
       "      <td>800000372373||Y001||1</td>\n",
       "      <td>2026</td>\n",
       "      <td>NaN</td>\n",
       "      <td>2017-07-19 09:45:00</td>\n",
       "      <td>他克莫司药物浓度监测</td>\n",
       "      <td>6.00</td>\n",
       "      <td>ng/ml</td>\n",
       "      <td>N</td>\n",
       "      <td>NaN</td>\n",
       "      <td>FK506</td>\n",
       "    </tr>\n",
       "    <tr>\n",
       "      <th>3</th>\n",
       "      <td>800000640391||Y001||1</td>\n",
       "      <td>2026</td>\n",
       "      <td>NaN</td>\n",
       "      <td>2017-09-11 09:50:00</td>\n",
       "      <td>他克莫司药物浓度监测</td>\n",
       "      <td>8.70</td>\n",
       "      <td>ng/ml</td>\n",
       "      <td>N</td>\n",
       "      <td>NaN</td>\n",
       "      <td>FK506</td>\n",
       "    </tr>\n",
       "    <tr>\n",
       "      <th>4</th>\n",
       "      <td>800000817383||Y001||1</td>\n",
       "      <td>2026</td>\n",
       "      <td>NaN</td>\n",
       "      <td>2017-12-11 09:47:00</td>\n",
       "      <td>他克莫司药物浓度监测</td>\n",
       "      <td>5.40</td>\n",
       "      <td>ng/ml</td>\n",
       "      <td>N</td>\n",
       "      <td>NaN</td>\n",
       "      <td>FK506</td>\n",
       "    </tr>\n",
       "  </tbody>\n",
       "</table>\n",
       "</div>"
      ],
      "text/plain": [
       "          test_record_id  patient_id  case_no            test_date  \\\n",
       "0  800000058858||Y001||1        2026      NaN  2017-02-22 09:47:00   \n",
       "1  800000138028||Y001||1        2026      NaN  2017-05-03 09:46:00   \n",
       "2  800000372373||Y001||1        2026      NaN  2017-07-19 09:45:00   \n",
       "3  800000640391||Y001||1        2026      NaN  2017-09-11 09:50:00   \n",
       "4  800000817383||Y001||1        2026      NaN  2017-12-11 09:47:00   \n",
       "\n",
       "  project_name test_result result_unit is_normal refer_scope synonym  \n",
       "0   他克莫司药物浓度监测        7.10       ng/ml         N         NaN   FK506  \n",
       "1   他克莫司药物浓度监测        8.90       ng/ml         N         NaN   FK506  \n",
       "2   他克莫司药物浓度监测        6.00       ng/ml         N         NaN   FK506  \n",
       "3   他克莫司药物浓度监测        8.70       ng/ml         N         NaN   FK506  \n",
       "4   他克莫司药物浓度监测        5.40       ng/ml         N         NaN   FK506  "
      ]
     },
     "execution_count": 85,
     "metadata": {},
     "output_type": "execute_result"
    }
   ],
   "source": [
    "df_test_Tcms.head()"
   ]
  },
  {
   "cell_type": "code",
   "execution_count": 86,
   "metadata": {},
   "outputs": [
    {
     "data": {
      "text/plain": [
       "array(['他克莫司药物浓度监测'], dtype=object)"
      ]
     },
     "execution_count": 86,
     "metadata": {},
     "output_type": "execute_result"
    }
   ],
   "source": [
    "df_test_Tcms.project_name.unique()"
   ]
  },
  {
   "cell_type": "code",
   "execution_count": 87,
   "metadata": {},
   "outputs": [],
   "source": [
    "df_test_Tcms['tdm_date']=df_test_Tcms['test_date'].apply(lambda x: str(x).split(' ')[0])"
   ]
  },
  {
   "cell_type": "code",
   "execution_count": 88,
   "metadata": {},
   "outputs": [],
   "source": [
    "df_test_Tcms['test_result']=df_test_Tcms['test_result'].astype('float')"
   ]
  },
  {
   "cell_type": "code",
   "execution_count": 89,
   "metadata": {},
   "outputs": [
    {
     "data": {
      "text/plain": [
       "test_record_id    False\n",
       "patient_id        False\n",
       "case_no            True\n",
       "test_date         False\n",
       "project_name      False\n",
       "test_result       False\n",
       "result_unit       False\n",
       "is_normal         False\n",
       "refer_scope        True\n",
       "synonym           False\n",
       "tdm_date          False\n",
       "dtype: bool"
      ]
     },
     "execution_count": 89,
     "metadata": {},
     "output_type": "execute_result"
    }
   ],
   "source": [
    "df_test_Tcms.isnull().any()"
   ]
  },
  {
   "cell_type": "code",
   "execution_count": 90,
   "metadata": {},
   "outputs": [],
   "source": [
    "df_test_Tcms=df_test_Tcms[df_test_Tcms.case_no.notnull()].reset_index(drop=True)"
   ]
  },
  {
   "cell_type": "code",
   "execution_count": 91,
   "metadata": {},
   "outputs": [
    {
     "name": "stdout",
     "output_type": "stream",
     "text": [
      "(3779, 11)\n",
      "744\n"
     ]
    }
   ],
   "source": [
    "print(df_test_Tcms.shape)\n",
    "print(df_test_Tcms['patient_id'].nunique())"
   ]
  },
  {
   "cell_type": "code",
   "execution_count": 92,
   "metadata": {},
   "outputs": [],
   "source": [
    "# 提取患者的tdm检测\n",
    "df_test_Tcms_choose=df_test_Tcms[df_test_Tcms['patient_id'].isin(df_Tcms_SLE.patient_id.unique())]\n",
    "df_test_Tcms_choose=df_test_Tcms_choose.sort_values(['patient_id','test_date'])\n",
    "df_test_Tcms_choose=df_test_Tcms_choose.reset_index(drop=True)"
   ]
  },
  {
   "cell_type": "code",
   "execution_count": 93,
   "metadata": {},
   "outputs": [
    {
     "name": "stdout",
     "output_type": "stream",
     "text": [
      "(179, 11)\n",
      "99\n",
      "126\n"
     ]
    }
   ],
   "source": [
    "print(df_test_Tcms_choose.shape)\n",
    "print(df_test_Tcms_choose['patient_id'].nunique())\n",
    "print(df_test_Tcms_choose['case_no'].nunique())"
   ]
  },
  {
   "cell_type": "code",
   "execution_count": 94,
   "metadata": {},
   "outputs": [
    {
     "name": "stdout",
     "output_type": "stream",
     "text": [
      "<class 'pandas.core.frame.DataFrame'>\n",
      "RangeIndex: 179 entries, 0 to 178\n",
      "Data columns (total 11 columns):\n",
      " #   Column          Non-Null Count  Dtype  \n",
      "---  ------          --------------  -----  \n",
      " 0   test_record_id  179 non-null    object \n",
      " 1   patient_id      179 non-null    int64  \n",
      " 2   case_no         179 non-null    float64\n",
      " 3   test_date       179 non-null    object \n",
      " 4   project_name    179 non-null    object \n",
      " 5   test_result     179 non-null    float64\n",
      " 6   result_unit     179 non-null    object \n",
      " 7   is_normal       179 non-null    object \n",
      " 8   refer_scope     0 non-null      object \n",
      " 9   synonym         179 non-null    object \n",
      " 10  tdm_date        179 non-null    object \n",
      "dtypes: float64(2), int64(1), object(8)\n",
      "memory usage: 15.5+ KB\n"
     ]
    }
   ],
   "source": [
    "df_test_Tcms_choose.info()"
   ]
  },
  {
   "cell_type": "code",
   "execution_count": 95,
   "metadata": {},
   "outputs": [],
   "source": [
    "# 保存丙戊酸血药浓度检测\n",
    "df_test_Tcms_choose.to_excel(project_path+'/data/processed_data/df_2.1.3.1_test_Tcms.xlsx')"
   ]
  },
  {
   "cell_type": "code",
   "execution_count": 96,
   "metadata": {},
   "outputs": [
    {
     "data": {
      "text/plain": [
       "'\\ntdm很大，dosage很小，也可能删除\\n'"
      ]
     },
     "execution_count": 96,
     "metadata": {},
     "output_type": "execute_result"
    }
   ],
   "source": [
    "'''\n",
    "tdm很大，dosage很小，也可能删除\n",
    "'''"
   ]
  },
  {
   "cell_type": "code",
   "execution_count": 97,
   "metadata": {},
   "outputs": [],
   "source": [
    "# df_test_Tcms_choose=pd.read_excel(project_path+'/data/processed_data/df_2.1.3.1_人工调整test_Tcms.xlsx')\n",
    "# if 'Unnamed: 0' in df_test_Tcms_choose.columns:\n",
    "#     df_test_Tcms_choose = df_test_Tcms_choose.drop(['Unnamed: 0'], axis=1)"
   ]
  },
  {
   "cell_type": "code",
   "execution_count": 98,
   "metadata": {},
   "outputs": [
    {
     "name": "stdout",
     "output_type": "stream",
     "text": [
      "(179, 11)\n",
      "99\n",
      "126\n"
     ]
    }
   ],
   "source": [
    "print(df_test_Tcms_choose.shape)\n",
    "print(df_test_Tcms_choose['patient_id'].nunique())\n",
    "print(df_test_Tcms_choose['case_no'].nunique())"
   ]
  },
  {
   "cell_type": "markdown",
   "metadata": {},
   "source": [
    "#### tdm筛选"
   ]
  },
  {
   "cell_type": "code",
   "execution_count": 99,
   "metadata": {},
   "outputs": [],
   "source": [
    "# 合并他克莫司用药和tdm检测\n",
    "df_Tcms_tdm_filter=df_Tcms_SLE[df_Tcms_SLE.case_no.isin(df_test_Tcms_choose.case_no.unique())]\n",
    "# 排序\n",
    "df_Tcms_tdm_filter=df_Tcms_tdm_filter.sort_values(['case_no','start_datetime']).reset_index(drop=True)"
   ]
  },
  {
   "cell_type": "code",
   "execution_count": 100,
   "metadata": {},
   "outputs": [
    {
     "name": "stdout",
     "output_type": "stream",
     "text": [
      "(433, 10)\n",
      "99\n",
      "126\n"
     ]
    }
   ],
   "source": [
    "print(df_Tcms_tdm_filter.shape)\n",
    "print(df_Tcms_tdm_filter['patient_id'].nunique())\n",
    "print(df_Tcms_tdm_filter['case_no'].nunique())"
   ]
  },
  {
   "cell_type": "code",
   "execution_count": 101,
   "metadata": {},
   "outputs": [],
   "source": [
    "# 保存tdm筛选的他克莫司用药\n",
    "df_Tcms_tdm_filter.to_excel(project_path+'/data/processed_data/df_2.1.3.2_tdm筛选的他克莫司用药.xlsx')"
   ]
  },
  {
   "cell_type": "code",
   "execution_count": 102,
   "metadata": {},
   "outputs": [
    {
     "data": {
      "text/plain": [
       "'\\n手动合并同一天的多次用药记录，使之一天最多只有一条临时医嘱和长期医嘱\\n手动修改过高剂量。\\ntdm很大，dosage很小，也可能删除\\nlast_dosage和dosage相差较大，删除\\n'"
      ]
     },
     "execution_count": 102,
     "metadata": {},
     "output_type": "execute_result"
    }
   ],
   "source": [
    "'''\n",
    "手动合并同一天的多次用药记录，使之一天最多只有一条临时医嘱和长期医嘱\n",
    "手动修改过高剂量。\n",
    "tdm很大，dosage很小，也可能删除\n",
    "last_dosage和dosage相差较大，删除\n",
    "'''"
   ]
  },
  {
   "cell_type": "code",
   "execution_count": 103,
   "metadata": {},
   "outputs": [],
   "source": [
    "df_Tcms_tdm_filter=pd.read_excel(project_path+'/data/processed_data/df_2.1.3.2_人工处理的tdm筛选的他克莫司用药_剂量调低.xlsx')\n",
    "if 'Unnamed: 0' in df_Tcms_tdm_filter.columns:\n",
    "    df_Tcms_tdm_filter = df_Tcms_tdm_filter.drop(['Unnamed: 0'], axis=1)"
   ]
  },
  {
   "cell_type": "code",
   "execution_count": 104,
   "metadata": {},
   "outputs": [
    {
     "name": "stdout",
     "output_type": "stream",
     "text": [
      "(334, 10)\n",
      "99\n",
      "126\n"
     ]
    }
   ],
   "source": [
    "print(df_Tcms_tdm_filter.shape)\n",
    "print(df_Tcms_tdm_filter['patient_id'].nunique())\n",
    "print(df_Tcms_tdm_filter['case_no'].nunique())"
   ]
  },
  {
   "cell_type": "markdown",
   "metadata": {},
   "source": [
    "### 拆分长期医嘱和临时医嘱"
   ]
  },
  {
   "cell_type": "markdown",
   "metadata": {},
   "source": [
    "#### 计算他克莫司日剂量"
   ]
  },
  {
   "cell_type": "code",
   "execution_count": 105,
   "metadata": {},
   "outputs": [],
   "source": [
    "df_Tcms_dosage=df_Tcms_tdm_filter.copy()\n",
    "# 清洗单次日剂量dosage\n",
    "# 1)'粒'根据剂型转换为mg数值\n",
    "for i in range(df_Tcms_dosage.shape[0]):\n",
    "    if '粒' in df_Tcms_dosage.loc[i, 'dosage']:\n",
    "        num = df_Tcms_dosage.loc[i, 'dosage'].split('粒')[0]\n",
    "        one_w = df_Tcms_dosage.loc[i, 'drug_spec'].split('mg')[0]\n",
    "        df_Tcms_dosage.loc[i, 'dosage'] = str(float(one_w) * int(num))"
   ]
  },
  {
   "cell_type": "code",
   "execution_count": 106,
   "metadata": {},
   "outputs": [],
   "source": [
    "df_Tcms_dosage['dosage']=df_Tcms_dosage['dosage'].apply(lambda x: float(x.replace('mg', '')) if 'mg' in x else x)"
   ]
  },
  {
   "cell_type": "code",
   "execution_count": 107,
   "metadata": {},
   "outputs": [
    {
     "data": {
      "text/plain": [
       "array(['2/日', '1/12小时', 'ONCE', '1/日', '1/早', '1/晚', '2/日(餐前)'],\n",
       "      dtype=object)"
      ]
     },
     "execution_count": 107,
     "metadata": {},
     "output_type": "execute_result"
    }
   ],
   "source": [
    "df_Tcms_dosage.frequency.unique()"
   ]
  },
  {
   "cell_type": "code",
   "execution_count": 108,
   "metadata": {},
   "outputs": [],
   "source": [
    "# 清洗频次\n",
    "one=['1/午','ONCE','1/日','1/日(餐前)','1/早','1/晚']\n",
    "two=['1/12小时','2/日','2/日(餐前)']\n",
    "three=['Tid','3/日（餐前）']\n",
    "df_Tcms_dosage['frequency']=df_Tcms_dosage['frequency'].apply(lambda x: 1 if x in one else\n",
    "                                                                2 if x in two else\n",
    "                                                                3 if x in three else x)"
   ]
  },
  {
   "cell_type": "code",
   "execution_count": 109,
   "metadata": {},
   "outputs": [],
   "source": [
    "# 计算日剂量\n",
    "df_Tcms_dosage['日剂量']=df_Tcms_dosage['dosage'].astype('float') * df_Tcms_dosage['frequency'].astype('float')"
   ]
  },
  {
   "cell_type": "code",
   "execution_count": 110,
   "metadata": {},
   "outputs": [
    {
     "data": {
      "text/html": [
       "<div>\n",
       "<style scoped>\n",
       "    .dataframe tbody tr th:only-of-type {\n",
       "        vertical-align: middle;\n",
       "    }\n",
       "\n",
       "    .dataframe tbody tr th {\n",
       "        vertical-align: top;\n",
       "    }\n",
       "\n",
       "    .dataframe thead th {\n",
       "        text-align: right;\n",
       "    }\n",
       "</style>\n",
       "<table border=\"1\" class=\"dataframe\">\n",
       "  <thead>\n",
       "    <tr style=\"text-align: right;\">\n",
       "      <th></th>\n",
       "      <th>patient_id</th>\n",
       "      <th>case_no</th>\n",
       "      <th>long_d_order</th>\n",
       "      <th>drug_name</th>\n",
       "      <th>drug_spec</th>\n",
       "      <th>dosage</th>\n",
       "      <th>frequency</th>\n",
       "      <th>start_datetime</th>\n",
       "      <th>end_datetime</th>\n",
       "      <th>statusdesc</th>\n",
       "      <th>日剂量</th>\n",
       "    </tr>\n",
       "  </thead>\n",
       "  <tbody>\n",
       "    <tr>\n",
       "      <th>0</th>\n",
       "      <td>7406367</td>\n",
       "      <td>3964305</td>\n",
       "      <td>1</td>\n",
       "      <td>他克莫司胶囊(普乐可复)[0.5mg*50粒]</td>\n",
       "      <td>0.5mg*50粒</td>\n",
       "      <td>1</td>\n",
       "      <td>2</td>\n",
       "      <td>2018-07-10 21:44:10</td>\n",
       "      <td>2018-07-16 18:13:43</td>\n",
       "      <td>停止</td>\n",
       "      <td>2.0</td>\n",
       "    </tr>\n",
       "    <tr>\n",
       "      <th>1</th>\n",
       "      <td>3106885</td>\n",
       "      <td>4054467</td>\n",
       "      <td>1</td>\n",
       "      <td>他克莫司胶囊(普乐可复)[0.5mg*50粒]</td>\n",
       "      <td>0.5mg*50粒</td>\n",
       "      <td>1</td>\n",
       "      <td>2</td>\n",
       "      <td>2018-08-03 09:56:12</td>\n",
       "      <td>2018-08-06 11:17:32</td>\n",
       "      <td>停止</td>\n",
       "      <td>2.0</td>\n",
       "    </tr>\n",
       "    <tr>\n",
       "      <th>2</th>\n",
       "      <td>3106885</td>\n",
       "      <td>4054467</td>\n",
       "      <td>0</td>\n",
       "      <td>他克莫司胶囊(普乐可复)[0.5mg*50粒]</td>\n",
       "      <td>0.5mg*50粒</td>\n",
       "      <td>1</td>\n",
       "      <td>2</td>\n",
       "      <td>2018-08-06 11:17:32</td>\n",
       "      <td>NaN</td>\n",
       "      <td>核实</td>\n",
       "      <td>2.0</td>\n",
       "    </tr>\n",
       "    <tr>\n",
       "      <th>3</th>\n",
       "      <td>7455055</td>\n",
       "      <td>4068971</td>\n",
       "      <td>0</td>\n",
       "      <td>他克莫司胶囊(普乐可复)[0.5mg*50粒]</td>\n",
       "      <td>0.5mg*50粒</td>\n",
       "      <td>1</td>\n",
       "      <td>1</td>\n",
       "      <td>2018-07-25 10:42:12</td>\n",
       "      <td>NaN</td>\n",
       "      <td>核实</td>\n",
       "      <td>1.0</td>\n",
       "    </tr>\n",
       "    <tr>\n",
       "      <th>4</th>\n",
       "      <td>7455055</td>\n",
       "      <td>4068971</td>\n",
       "      <td>1</td>\n",
       "      <td>他克莫司胶囊(普乐可复)[0.5mg*50粒]</td>\n",
       "      <td>0.5mg*50粒</td>\n",
       "      <td>2.5</td>\n",
       "      <td>1</td>\n",
       "      <td>2018-07-25 18:30:46</td>\n",
       "      <td>2018-08-01 09:17:58</td>\n",
       "      <td>停止</td>\n",
       "      <td>2.5</td>\n",
       "    </tr>\n",
       "    <tr>\n",
       "      <th>...</th>\n",
       "      <td>...</td>\n",
       "      <td>...</td>\n",
       "      <td>...</td>\n",
       "      <td>...</td>\n",
       "      <td>...</td>\n",
       "      <td>...</td>\n",
       "      <td>...</td>\n",
       "      <td>...</td>\n",
       "      <td>...</td>\n",
       "      <td>...</td>\n",
       "      <td>...</td>\n",
       "    </tr>\n",
       "    <tr>\n",
       "      <th>329</th>\n",
       "      <td>5623241</td>\n",
       "      <td>9671945</td>\n",
       "      <td>1</td>\n",
       "      <td>他克莫司胶囊(赛福开)[0.5mg*50粒]</td>\n",
       "      <td>0.5mg*50粒</td>\n",
       "      <td>2</td>\n",
       "      <td>2</td>\n",
       "      <td>2020-07-22 16:59:25</td>\n",
       "      <td>2020-07-25 10:00:00</td>\n",
       "      <td>停止</td>\n",
       "      <td>4.0</td>\n",
       "    </tr>\n",
       "    <tr>\n",
       "      <th>330</th>\n",
       "      <td>8059463</td>\n",
       "      <td>9745132</td>\n",
       "      <td>1</td>\n",
       "      <td>他克莫司胶囊(赛福开)[0.5mg*50粒]</td>\n",
       "      <td>0.5mg*50粒</td>\n",
       "      <td>4.5</td>\n",
       "      <td>1</td>\n",
       "      <td>2020-07-20 10:12:23</td>\n",
       "      <td>2020-07-22 10:28:00</td>\n",
       "      <td>停止</td>\n",
       "      <td>4.5</td>\n",
       "    </tr>\n",
       "    <tr>\n",
       "      <th>331</th>\n",
       "      <td>8059463</td>\n",
       "      <td>9745132</td>\n",
       "      <td>1</td>\n",
       "      <td>他克莫司胶囊(赛福开)[0.5mg*50粒]</td>\n",
       "      <td>0.5mg*50粒</td>\n",
       "      <td>4.5</td>\n",
       "      <td>1</td>\n",
       "      <td>2020-07-22 11:00:02</td>\n",
       "      <td>2020-07-24 11:03:56</td>\n",
       "      <td>停止</td>\n",
       "      <td>4.5</td>\n",
       "    </tr>\n",
       "    <tr>\n",
       "      <th>332</th>\n",
       "      <td>8059463</td>\n",
       "      <td>9745132</td>\n",
       "      <td>0</td>\n",
       "      <td>他克莫司胶囊(赛福开)[0.5mg*50粒]</td>\n",
       "      <td>0.5mg*50粒</td>\n",
       "      <td>3</td>\n",
       "      <td>2</td>\n",
       "      <td>2020-07-24 11:03:56</td>\n",
       "      <td>NaN</td>\n",
       "      <td>核实</td>\n",
       "      <td>6.0</td>\n",
       "    </tr>\n",
       "    <tr>\n",
       "      <th>333</th>\n",
       "      <td>7445835</td>\n",
       "      <td>9812581</td>\n",
       "      <td>1</td>\n",
       "      <td>他克莫司胶囊(赛福开)[0.5mg*50粒]</td>\n",
       "      <td>0.5mg*50粒</td>\n",
       "      <td>1</td>\n",
       "      <td>2</td>\n",
       "      <td>2020-07-31 10:54:04</td>\n",
       "      <td>2020-08-10 18:33:03</td>\n",
       "      <td>停止</td>\n",
       "      <td>2.0</td>\n",
       "    </tr>\n",
       "  </tbody>\n",
       "</table>\n",
       "<p>334 rows × 11 columns</p>\n",
       "</div>"
      ],
      "text/plain": [
       "     patient_id  case_no  long_d_order                drug_name  drug_spec  \\\n",
       "0       7406367  3964305             1  他克莫司胶囊(普乐可复)[0.5mg*50粒]  0.5mg*50粒   \n",
       "1       3106885  4054467             1  他克莫司胶囊(普乐可复)[0.5mg*50粒]  0.5mg*50粒   \n",
       "2       3106885  4054467             0  他克莫司胶囊(普乐可复)[0.5mg*50粒]  0.5mg*50粒   \n",
       "3       7455055  4068971             0  他克莫司胶囊(普乐可复)[0.5mg*50粒]  0.5mg*50粒   \n",
       "4       7455055  4068971             1  他克莫司胶囊(普乐可复)[0.5mg*50粒]  0.5mg*50粒   \n",
       "..          ...      ...           ...                      ...        ...   \n",
       "329     5623241  9671945             1   他克莫司胶囊(赛福开)[0.5mg*50粒]  0.5mg*50粒   \n",
       "330     8059463  9745132             1   他克莫司胶囊(赛福开)[0.5mg*50粒]  0.5mg*50粒   \n",
       "331     8059463  9745132             1   他克莫司胶囊(赛福开)[0.5mg*50粒]  0.5mg*50粒   \n",
       "332     8059463  9745132             0   他克莫司胶囊(赛福开)[0.5mg*50粒]  0.5mg*50粒   \n",
       "333     7445835  9812581             1   他克莫司胶囊(赛福开)[0.5mg*50粒]  0.5mg*50粒   \n",
       "\n",
       "    dosage  frequency       start_datetime         end_datetime statusdesc  \\\n",
       "0        1          2  2018-07-10 21:44:10  2018-07-16 18:13:43         停止   \n",
       "1        1          2  2018-08-03 09:56:12  2018-08-06 11:17:32         停止   \n",
       "2        1          2  2018-08-06 11:17:32                  NaN         核实   \n",
       "3        1          1  2018-07-25 10:42:12                  NaN         核实   \n",
       "4      2.5          1  2018-07-25 18:30:46  2018-08-01 09:17:58         停止   \n",
       "..     ...        ...                  ...                  ...        ...   \n",
       "329      2          2  2020-07-22 16:59:25  2020-07-25 10:00:00         停止   \n",
       "330    4.5          1  2020-07-20 10:12:23  2020-07-22 10:28:00         停止   \n",
       "331    4.5          1  2020-07-22 11:00:02  2020-07-24 11:03:56         停止   \n",
       "332      3          2  2020-07-24 11:03:56                  NaN         核实   \n",
       "333      1          2  2020-07-31 10:54:04  2020-08-10 18:33:03         停止   \n",
       "\n",
       "     日剂量  \n",
       "0    2.0  \n",
       "1    2.0  \n",
       "2    2.0  \n",
       "3    1.0  \n",
       "4    2.5  \n",
       "..   ...  \n",
       "329  4.0  \n",
       "330  4.5  \n",
       "331  4.5  \n",
       "332  6.0  \n",
       "333  2.0  \n",
       "\n",
       "[334 rows x 11 columns]"
      ]
     },
     "execution_count": 110,
     "metadata": {},
     "output_type": "execute_result"
    }
   ],
   "source": [
    "df_Tcms_dosage"
   ]
  },
  {
   "cell_type": "code",
   "execution_count": 111,
   "metadata": {},
   "outputs": [
    {
     "name": "stdout",
     "output_type": "stream",
     "text": [
      "(334, 11)\n",
      "99\n",
      "126\n"
     ]
    }
   ],
   "source": [
    "print(df_Tcms_dosage.shape)\n",
    "print(df_Tcms_dosage['patient_id'].nunique())\n",
    "print(df_Tcms_dosage['case_no'].nunique())"
   ]
  },
  {
   "cell_type": "code",
   "execution_count": 112,
   "metadata": {},
   "outputs": [],
   "source": [
    "df_Tcms_dosage.to_excel(project_path+'/data/processed_data/df_2.1.4.1_计算他克莫司日剂量.xlsx')"
   ]
  },
  {
   "cell_type": "markdown",
   "metadata": {},
   "source": [
    "#### 提取用药日期"
   ]
  },
  {
   "cell_type": "code",
   "execution_count": 113,
   "metadata": {},
   "outputs": [
    {
     "name": "stderr",
     "output_type": "stream",
     "text": [
      "D:\\Anaconda3\\lib\\site-packages\\ipykernel_launcher.py:4: SettingWithCopyWarning: \n",
      "A value is trying to be set on a copy of a slice from a DataFrame.\n",
      "Try using .loc[row_indexer,col_indexer] = value instead\n",
      "\n",
      "See the caveats in the documentation: https://pandas.pydata.org/pandas-docs/stable/user_guide/indexing.html#returning-a-view-versus-a-copy\n",
      "  after removing the cwd from sys.path.\n"
     ]
    }
   ],
   "source": [
    "# 临时用药的结束时间=开始时间\n",
    "aaa=df_Tcms_dosage[df_Tcms_dosage['end_datetime'].isnull()]\n",
    "bbb=df_Tcms_dosage[df_Tcms_dosage['end_datetime'].notnull()]\n",
    "aaa['end_datetime']=aaa['start_datetime']"
   ]
  },
  {
   "cell_type": "code",
   "execution_count": 114,
   "metadata": {},
   "outputs": [
    {
     "data": {
      "text/html": [
       "<div>\n",
       "<style scoped>\n",
       "    .dataframe tbody tr th:only-of-type {\n",
       "        vertical-align: middle;\n",
       "    }\n",
       "\n",
       "    .dataframe tbody tr th {\n",
       "        vertical-align: top;\n",
       "    }\n",
       "\n",
       "    .dataframe thead th {\n",
       "        text-align: right;\n",
       "    }\n",
       "</style>\n",
       "<table border=\"1\" class=\"dataframe\">\n",
       "  <thead>\n",
       "    <tr style=\"text-align: right;\">\n",
       "      <th></th>\n",
       "      <th>patient_id</th>\n",
       "      <th>case_no</th>\n",
       "      <th>long_d_order</th>\n",
       "      <th>drug_name</th>\n",
       "      <th>drug_spec</th>\n",
       "      <th>dosage</th>\n",
       "      <th>frequency</th>\n",
       "      <th>start_datetime</th>\n",
       "      <th>end_datetime</th>\n",
       "      <th>statusdesc</th>\n",
       "      <th>日剂量</th>\n",
       "    </tr>\n",
       "  </thead>\n",
       "  <tbody>\n",
       "    <tr>\n",
       "      <th>2</th>\n",
       "      <td>3106885</td>\n",
       "      <td>4054467</td>\n",
       "      <td>0</td>\n",
       "      <td>他克莫司胶囊(普乐可复)[0.5mg*50粒]</td>\n",
       "      <td>0.5mg*50粒</td>\n",
       "      <td>1</td>\n",
       "      <td>2</td>\n",
       "      <td>2018-08-06 11:17:32</td>\n",
       "      <td>2018-08-06 11:17:32</td>\n",
       "      <td>核实</td>\n",
       "      <td>2.0</td>\n",
       "    </tr>\n",
       "    <tr>\n",
       "      <th>3</th>\n",
       "      <td>7455055</td>\n",
       "      <td>4068971</td>\n",
       "      <td>0</td>\n",
       "      <td>他克莫司胶囊(普乐可复)[0.5mg*50粒]</td>\n",
       "      <td>0.5mg*50粒</td>\n",
       "      <td>1</td>\n",
       "      <td>1</td>\n",
       "      <td>2018-07-25 10:42:12</td>\n",
       "      <td>2018-07-25 10:42:12</td>\n",
       "      <td>核实</td>\n",
       "      <td>1.0</td>\n",
       "    </tr>\n",
       "    <tr>\n",
       "      <th>6</th>\n",
       "      <td>7455055</td>\n",
       "      <td>4068971</td>\n",
       "      <td>0</td>\n",
       "      <td>他克莫司胶囊(普乐可复)[0.5mg*50粒]</td>\n",
       "      <td>0.5mg*50粒</td>\n",
       "      <td>1.5</td>\n",
       "      <td>1</td>\n",
       "      <td>2018-08-05 09:25:43</td>\n",
       "      <td>2018-08-05 09:25:43</td>\n",
       "      <td>核实</td>\n",
       "      <td>1.5</td>\n",
       "    </tr>\n",
       "    <tr>\n",
       "      <th>7</th>\n",
       "      <td>7455055</td>\n",
       "      <td>4068971</td>\n",
       "      <td>0</td>\n",
       "      <td>他克莫司胶囊(普乐可复)[0.5mg*50粒]</td>\n",
       "      <td>0.5mg*50粒</td>\n",
       "      <td>2</td>\n",
       "      <td>2</td>\n",
       "      <td>2018-08-06 17:46:03</td>\n",
       "      <td>2018-08-06 17:46:03</td>\n",
       "      <td>核实</td>\n",
       "      <td>4.0</td>\n",
       "    </tr>\n",
       "    <tr>\n",
       "      <th>9</th>\n",
       "      <td>6453342</td>\n",
       "      <td>4225762</td>\n",
       "      <td>0</td>\n",
       "      <td>他克莫司胶囊(福美欣)[1mg*50粒]</td>\n",
       "      <td>1mg*50粒</td>\n",
       "      <td>1</td>\n",
       "      <td>1</td>\n",
       "      <td>2018-08-15 11:56:58</td>\n",
       "      <td>2018-08-15 11:56:58</td>\n",
       "      <td>核实</td>\n",
       "      <td>1.0</td>\n",
       "    </tr>\n",
       "    <tr>\n",
       "      <th>...</th>\n",
       "      <td>...</td>\n",
       "      <td>...</td>\n",
       "      <td>...</td>\n",
       "      <td>...</td>\n",
       "      <td>...</td>\n",
       "      <td>...</td>\n",
       "      <td>...</td>\n",
       "      <td>...</td>\n",
       "      <td>...</td>\n",
       "      <td>...</td>\n",
       "      <td>...</td>\n",
       "    </tr>\n",
       "    <tr>\n",
       "      <th>317</th>\n",
       "      <td>8091505</td>\n",
       "      <td>9641782</td>\n",
       "      <td>0</td>\n",
       "      <td>他克莫司胶囊(赛福开)[0.5mg*50粒]</td>\n",
       "      <td>0.5mg*50粒</td>\n",
       "      <td>1</td>\n",
       "      <td>2</td>\n",
       "      <td>2020-07-08 15:57:14</td>\n",
       "      <td>2020-07-08 15:57:14</td>\n",
       "      <td>核实</td>\n",
       "      <td>2.0</td>\n",
       "    </tr>\n",
       "    <tr>\n",
       "      <th>320</th>\n",
       "      <td>8329779</td>\n",
       "      <td>9662993</td>\n",
       "      <td>0</td>\n",
       "      <td>他克莫司胶囊(赛福开)[0.5mg*50粒]</td>\n",
       "      <td>0.5mg*50粒</td>\n",
       "      <td>1</td>\n",
       "      <td>1</td>\n",
       "      <td>2020-07-10 16:27:56</td>\n",
       "      <td>2020-07-10 16:27:56</td>\n",
       "      <td>核实</td>\n",
       "      <td>1.0</td>\n",
       "    </tr>\n",
       "    <tr>\n",
       "      <th>324</th>\n",
       "      <td>5623241</td>\n",
       "      <td>9671945</td>\n",
       "      <td>0</td>\n",
       "      <td>他克莫司胶囊(赛福开)[0.5mg*50粒]</td>\n",
       "      <td>0.5mg*50粒</td>\n",
       "      <td>2.5</td>\n",
       "      <td>2</td>\n",
       "      <td>2020-07-12 13:29:01</td>\n",
       "      <td>2020-07-12 13:29:01</td>\n",
       "      <td>核实</td>\n",
       "      <td>5.0</td>\n",
       "    </tr>\n",
       "    <tr>\n",
       "      <th>328</th>\n",
       "      <td>5623241</td>\n",
       "      <td>9671945</td>\n",
       "      <td>0</td>\n",
       "      <td>他克莫司胶囊(赛福开)[0.5mg*50粒]</td>\n",
       "      <td>0.5mg*50粒</td>\n",
       "      <td>2.5</td>\n",
       "      <td>2</td>\n",
       "      <td>2020-07-22 08:43:29</td>\n",
       "      <td>2020-07-22 08:43:29</td>\n",
       "      <td>核实</td>\n",
       "      <td>5.0</td>\n",
       "    </tr>\n",
       "    <tr>\n",
       "      <th>332</th>\n",
       "      <td>8059463</td>\n",
       "      <td>9745132</td>\n",
       "      <td>0</td>\n",
       "      <td>他克莫司胶囊(赛福开)[0.5mg*50粒]</td>\n",
       "      <td>0.5mg*50粒</td>\n",
       "      <td>3</td>\n",
       "      <td>2</td>\n",
       "      <td>2020-07-24 11:03:56</td>\n",
       "      <td>2020-07-24 11:03:56</td>\n",
       "      <td>核实</td>\n",
       "      <td>6.0</td>\n",
       "    </tr>\n",
       "  </tbody>\n",
       "</table>\n",
       "<p>133 rows × 11 columns</p>\n",
       "</div>"
      ],
      "text/plain": [
       "     patient_id  case_no  long_d_order                drug_name  drug_spec  \\\n",
       "2       3106885  4054467             0  他克莫司胶囊(普乐可复)[0.5mg*50粒]  0.5mg*50粒   \n",
       "3       7455055  4068971             0  他克莫司胶囊(普乐可复)[0.5mg*50粒]  0.5mg*50粒   \n",
       "6       7455055  4068971             0  他克莫司胶囊(普乐可复)[0.5mg*50粒]  0.5mg*50粒   \n",
       "7       7455055  4068971             0  他克莫司胶囊(普乐可复)[0.5mg*50粒]  0.5mg*50粒   \n",
       "9       6453342  4225762             0     他克莫司胶囊(福美欣)[1mg*50粒]    1mg*50粒   \n",
       "..          ...      ...           ...                      ...        ...   \n",
       "317     8091505  9641782             0   他克莫司胶囊(赛福开)[0.5mg*50粒]  0.5mg*50粒   \n",
       "320     8329779  9662993             0   他克莫司胶囊(赛福开)[0.5mg*50粒]  0.5mg*50粒   \n",
       "324     5623241  9671945             0   他克莫司胶囊(赛福开)[0.5mg*50粒]  0.5mg*50粒   \n",
       "328     5623241  9671945             0   他克莫司胶囊(赛福开)[0.5mg*50粒]  0.5mg*50粒   \n",
       "332     8059463  9745132             0   他克莫司胶囊(赛福开)[0.5mg*50粒]  0.5mg*50粒   \n",
       "\n",
       "    dosage  frequency       start_datetime         end_datetime statusdesc  \\\n",
       "2        1          2  2018-08-06 11:17:32  2018-08-06 11:17:32         核实   \n",
       "3        1          1  2018-07-25 10:42:12  2018-07-25 10:42:12         核实   \n",
       "6      1.5          1  2018-08-05 09:25:43  2018-08-05 09:25:43         核实   \n",
       "7        2          2  2018-08-06 17:46:03  2018-08-06 17:46:03         核实   \n",
       "9        1          1  2018-08-15 11:56:58  2018-08-15 11:56:58         核实   \n",
       "..     ...        ...                  ...                  ...        ...   \n",
       "317      1          2  2020-07-08 15:57:14  2020-07-08 15:57:14         核实   \n",
       "320      1          1  2020-07-10 16:27:56  2020-07-10 16:27:56         核实   \n",
       "324    2.5          2  2020-07-12 13:29:01  2020-07-12 13:29:01         核实   \n",
       "328    2.5          2  2020-07-22 08:43:29  2020-07-22 08:43:29         核实   \n",
       "332      3          2  2020-07-24 11:03:56  2020-07-24 11:03:56         核实   \n",
       "\n",
       "     日剂量  \n",
       "2    2.0  \n",
       "3    1.0  \n",
       "6    1.5  \n",
       "7    4.0  \n",
       "9    1.0  \n",
       "..   ...  \n",
       "317  2.0  \n",
       "320  1.0  \n",
       "324  5.0  \n",
       "328  5.0  \n",
       "332  6.0  \n",
       "\n",
       "[133 rows x 11 columns]"
      ]
     },
     "execution_count": 114,
     "metadata": {},
     "output_type": "execute_result"
    }
   ],
   "source": [
    "aaa"
   ]
  },
  {
   "cell_type": "code",
   "execution_count": 115,
   "metadata": {},
   "outputs": [],
   "source": [
    "df_Tcms_date=pd.concat([aaa,bbb],axis=0)\n",
    "# 排序\n",
    "df_Tcms_date=df_Tcms_date.sort_values(by=['patient_id','case_no','start_datetime'])\n",
    "df_Tcms_date=df_Tcms_date.reset_index(drop=True)"
   ]
  },
  {
   "cell_type": "code",
   "execution_count": 116,
   "metadata": {},
   "outputs": [
    {
     "name": "stdout",
     "output_type": "stream",
     "text": [
      "(334, 11)\n",
      "99\n",
      "126\n"
     ]
    }
   ],
   "source": [
    "print(df_Tcms_date.shape)\n",
    "print(df_Tcms_date['patient_id'].nunique())\n",
    "print(df_Tcms_date['case_no'].nunique())"
   ]
  },
  {
   "cell_type": "code",
   "execution_count": 117,
   "metadata": {},
   "outputs": [],
   "source": [
    "# 提取丙戊酸用药时间的年月日\n",
    "df_Tcms_date['start_date']=df_Tcms_date['start_datetime'].apply(lambda x: str(x).split(' ')[0])\n",
    "df_Tcms_date['end_date']=df_Tcms_date['end_datetime'].apply(lambda x: str(x).split(' ')[0])"
   ]
  },
  {
   "cell_type": "code",
   "execution_count": 118,
   "metadata": {},
   "outputs": [
    {
     "data": {
      "text/html": [
       "<div>\n",
       "<style scoped>\n",
       "    .dataframe tbody tr th:only-of-type {\n",
       "        vertical-align: middle;\n",
       "    }\n",
       "\n",
       "    .dataframe tbody tr th {\n",
       "        vertical-align: top;\n",
       "    }\n",
       "\n",
       "    .dataframe thead th {\n",
       "        text-align: right;\n",
       "    }\n",
       "</style>\n",
       "<table border=\"1\" class=\"dataframe\">\n",
       "  <thead>\n",
       "    <tr style=\"text-align: right;\">\n",
       "      <th></th>\n",
       "      <th>patient_id</th>\n",
       "      <th>case_no</th>\n",
       "      <th>long_d_order</th>\n",
       "      <th>drug_name</th>\n",
       "      <th>drug_spec</th>\n",
       "      <th>dosage</th>\n",
       "      <th>frequency</th>\n",
       "      <th>start_datetime</th>\n",
       "      <th>end_datetime</th>\n",
       "      <th>statusdesc</th>\n",
       "      <th>日剂量</th>\n",
       "      <th>start_date</th>\n",
       "      <th>end_date</th>\n",
       "    </tr>\n",
       "  </thead>\n",
       "  <tbody>\n",
       "    <tr>\n",
       "      <th>0</th>\n",
       "      <td>51620</td>\n",
       "      <td>5798617</td>\n",
       "      <td>1</td>\n",
       "      <td>他克莫司胶囊(弘盛)[0.5mg*50粒]</td>\n",
       "      <td>0.5mg*50粒</td>\n",
       "      <td>2.5</td>\n",
       "      <td>1</td>\n",
       "      <td>2019-03-08 18:04:28</td>\n",
       "      <td>2019-03-08 18:06:31</td>\n",
       "      <td>停止</td>\n",
       "      <td>2.5</td>\n",
       "      <td>2019-03-08</td>\n",
       "      <td>2019-03-08</td>\n",
       "    </tr>\n",
       "    <tr>\n",
       "      <th>1</th>\n",
       "      <td>51620</td>\n",
       "      <td>5798617</td>\n",
       "      <td>1</td>\n",
       "      <td>他克莫司胶囊(普乐可复)[0.5mg*50粒]</td>\n",
       "      <td>0.5mg*50粒</td>\n",
       "      <td>2.5</td>\n",
       "      <td>1</td>\n",
       "      <td>2019-03-08 18:07:43</td>\n",
       "      <td>2019-03-13 11:05:59</td>\n",
       "      <td>停止</td>\n",
       "      <td>2.5</td>\n",
       "      <td>2019-03-08</td>\n",
       "      <td>2019-03-13</td>\n",
       "    </tr>\n",
       "    <tr>\n",
       "      <th>2</th>\n",
       "      <td>92856</td>\n",
       "      <td>4791498</td>\n",
       "      <td>1</td>\n",
       "      <td>他克莫司胶囊(普乐可复)[0.5mg*50粒]</td>\n",
       "      <td>0.5mg*50粒</td>\n",
       "      <td>1.5</td>\n",
       "      <td>2</td>\n",
       "      <td>2018-11-02 09:42:14</td>\n",
       "      <td>2018-11-08 12:28:00</td>\n",
       "      <td>停止</td>\n",
       "      <td>3.0</td>\n",
       "      <td>2018-11-02</td>\n",
       "      <td>2018-11-08</td>\n",
       "    </tr>\n",
       "    <tr>\n",
       "      <th>3</th>\n",
       "      <td>92856</td>\n",
       "      <td>4791498</td>\n",
       "      <td>0</td>\n",
       "      <td>他克莫司胶囊(普乐可复)[0.5mg*50粒]</td>\n",
       "      <td>0.5mg*50粒</td>\n",
       "      <td>1.5</td>\n",
       "      <td>2</td>\n",
       "      <td>2018-11-06 11:18:10</td>\n",
       "      <td>2018-11-06 11:18:10</td>\n",
       "      <td>核实</td>\n",
       "      <td>3.0</td>\n",
       "      <td>2018-11-06</td>\n",
       "      <td>2018-11-06</td>\n",
       "    </tr>\n",
       "    <tr>\n",
       "      <th>4</th>\n",
       "      <td>92856</td>\n",
       "      <td>8644797</td>\n",
       "      <td>1</td>\n",
       "      <td>他克莫司胶囊(普乐可复)[0.5mg*50粒]</td>\n",
       "      <td>0.5mg*50粒</td>\n",
       "      <td>1.5</td>\n",
       "      <td>2</td>\n",
       "      <td>2020-01-26 12:09:41</td>\n",
       "      <td>2020-02-01 09:18:57</td>\n",
       "      <td>停止</td>\n",
       "      <td>3.0</td>\n",
       "      <td>2020-01-26</td>\n",
       "      <td>2020-02-01</td>\n",
       "    </tr>\n",
       "  </tbody>\n",
       "</table>\n",
       "</div>"
      ],
      "text/plain": [
       "   patient_id  case_no  long_d_order                drug_name  drug_spec  \\\n",
       "0       51620  5798617             1    他克莫司胶囊(弘盛)[0.5mg*50粒]  0.5mg*50粒   \n",
       "1       51620  5798617             1  他克莫司胶囊(普乐可复)[0.5mg*50粒]  0.5mg*50粒   \n",
       "2       92856  4791498             1  他克莫司胶囊(普乐可复)[0.5mg*50粒]  0.5mg*50粒   \n",
       "3       92856  4791498             0  他克莫司胶囊(普乐可复)[0.5mg*50粒]  0.5mg*50粒   \n",
       "4       92856  8644797             1  他克莫司胶囊(普乐可复)[0.5mg*50粒]  0.5mg*50粒   \n",
       "\n",
       "  dosage  frequency       start_datetime         end_datetime statusdesc  日剂量  \\\n",
       "0    2.5          1  2019-03-08 18:04:28  2019-03-08 18:06:31         停止  2.5   \n",
       "1    2.5          1  2019-03-08 18:07:43  2019-03-13 11:05:59         停止  2.5   \n",
       "2    1.5          2  2018-11-02 09:42:14  2018-11-08 12:28:00         停止  3.0   \n",
       "3    1.5          2  2018-11-06 11:18:10  2018-11-06 11:18:10         核实  3.0   \n",
       "4    1.5          2  2020-01-26 12:09:41  2020-02-01 09:18:57         停止  3.0   \n",
       "\n",
       "   start_date    end_date  \n",
       "0  2019-03-08  2019-03-08  \n",
       "1  2019-03-08  2019-03-13  \n",
       "2  2018-11-02  2018-11-08  \n",
       "3  2018-11-06  2018-11-06  \n",
       "4  2020-01-26  2020-02-01  "
      ]
     },
     "execution_count": 118,
     "metadata": {},
     "output_type": "execute_result"
    }
   ],
   "source": [
    "df_Tcms_date.head()"
   ]
  },
  {
   "cell_type": "code",
   "execution_count": 119,
   "metadata": {},
   "outputs": [],
   "source": [
    "df_Tcms_date.to_excel(project_path+'/data/processed_data/df_2.1.3.2_提取年月日.xlsx')"
   ]
  },
  {
   "cell_type": "markdown",
   "metadata": {},
   "source": [
    "#### 津源参考代码"
   ]
  },
  {
   "cell_type": "code",
   "execution_count": 120,
   "metadata": {
    "code_folding": [
     0
    ]
   },
   "outputs": [],
   "source": [
    "# #对环孢素进行处理只包含注射液\n",
    "# df = pd.read_excel(r'drug_2088_csa_injection_end.xls')\n",
    "\n",
    "# df = df[['PATIENT_ID', 'DOSAGE_all','START_DATETIME', 'END_DATETIME']]\n",
    "# df['PATIENT_ID'] = df['PATIENT_ID'].apply(lambda x: str(x))\n",
    "# df['START_DATETIME'] = pd.to_datetime(df['START_DATETIME']).dt.strftime('%Y-%m-%d')\n",
    "# df['END_DATETIME'] = pd.to_datetime(df['END_DATETIME']).dt.strftime('%Y-%m-%d')\n",
    "# #%%\n",
    "# import pandas as pd\n",
    "# df['ll'] = df['DOSAGE_all']\n",
    "# for i in range(len(df)):\n",
    "#     df['ll'][i] = list(pd.date_range(start=df['START_DATETIME'][i], end=df['END_DATETIME'][i]))\n",
    "    \n",
    "# df['id_dose'] = df['PATIENT_ID'].map(str) + \"_\" + df['DOSAGE_all'].map(str)\n",
    "# #%%\n",
    "# df_1 = df[['id_dose','ll']]\n",
    "\n",
    "\n",
    "\n",
    "\n",
    "\n",
    "# #%%\n",
    "# def explode1(df, col):\n",
    "#     dftem1 = pd.DataFrame()\n",
    "#     for i in range(df.shape[0]):\n",
    "#         dftem = df.iloc[i].to_frame().T\n",
    "#         if isinstance(df.iloc[i][col], list):\n",
    "#             if len(df.iloc[i][col]) > 0:\n",
    "#                 for j in range(len(df.iloc[i][col])):\n",
    "#                     dftem[col + \"_\"] = df.iloc[i][col][j]\n",
    "#                     dftem1 = pd.concat([dftem1, dftem])\n",
    "#             else:\n",
    "#                 dftem1 = pd.concat([dftem1, dftem])\n",
    "#         else:\n",
    "#             dftem1 = pd.concat([dftem1, dftem])\n",
    "#     del dftem1[col]\n",
    "#     dftem1.rename(columns={col + \"_\": col}, inplace=True)\n",
    "#     return dftem1\n",
    "\n",
    "# #%%\n",
    "\n",
    "# drug_2088_csa_injection_end_expand = explode1(df_1, 'll') \n",
    "# drug_2088_csa_injection_end_expand['PATIENT_ID'] = drug_2088_csa_injection_end_expand['id_dose'].apply(lambda x: x.split('_')[0])\n",
    "# drug_2088_csa_injection_end_expand['DOSAGE'] = drug_2088_csa_injection_end_expand['id_dose'].apply(lambda x: x.split('_')[1])\n",
    "\n",
    "# ll = drug_2088_csa_injection_end_expand\n",
    "# drug_2088_csa_injection_end_expand1 = ll[[ 'PATIENT_ID', 'DOSAGE', 'll']].drop_duplicates(subset=['PATIENT_ID','ll'], keep='last')\n"
   ]
  },
  {
   "cell_type": "markdown",
   "metadata": {},
   "source": [
    "#### 提取长期医嘱和临时医嘱"
   ]
  },
  {
   "cell_type": "code",
   "execution_count": 121,
   "metadata": {},
   "outputs": [],
   "source": [
    "# 打长期医嘱标签\n",
    "df_Tcms_date['long_d_order']=df_Tcms_date['statusdesc'].apply(lambda x: 1 if re.match('停止',x) else 0)"
   ]
  },
  {
   "cell_type": "code",
   "execution_count": 122,
   "metadata": {},
   "outputs": [],
   "source": [
    "# 长期医嘱和临时医嘱分开\n",
    "drug_temp = df_Tcms_date[df_Tcms_date['long_d_order']==0]\n",
    "drug_long = df_Tcms_date[df_Tcms_date['long_d_order']==1]"
   ]
  },
  {
   "cell_type": "code",
   "execution_count": 123,
   "metadata": {},
   "outputs": [
    {
     "name": "stdout",
     "output_type": "stream",
     "text": [
      "(133, 13)\n",
      "(201, 13)\n"
     ]
    }
   ],
   "source": [
    "print(drug_temp.shape)\n",
    "print(drug_long.shape)"
   ]
  },
  {
   "cell_type": "code",
   "execution_count": 124,
   "metadata": {},
   "outputs": [
    {
     "data": {
      "text/html": [
       "<div>\n",
       "<style scoped>\n",
       "    .dataframe tbody tr th:only-of-type {\n",
       "        vertical-align: middle;\n",
       "    }\n",
       "\n",
       "    .dataframe tbody tr th {\n",
       "        vertical-align: top;\n",
       "    }\n",
       "\n",
       "    .dataframe thead th {\n",
       "        text-align: right;\n",
       "    }\n",
       "</style>\n",
       "<table border=\"1\" class=\"dataframe\">\n",
       "  <thead>\n",
       "    <tr style=\"text-align: right;\">\n",
       "      <th></th>\n",
       "      <th>patient_id</th>\n",
       "      <th>case_no</th>\n",
       "      <th>long_d_order</th>\n",
       "      <th>drug_name</th>\n",
       "      <th>drug_spec</th>\n",
       "      <th>dosage</th>\n",
       "      <th>frequency</th>\n",
       "      <th>start_datetime</th>\n",
       "      <th>end_datetime</th>\n",
       "      <th>statusdesc</th>\n",
       "      <th>日剂量</th>\n",
       "      <th>start_date</th>\n",
       "      <th>end_date</th>\n",
       "    </tr>\n",
       "  </thead>\n",
       "  <tbody>\n",
       "    <tr>\n",
       "      <th>3</th>\n",
       "      <td>92856</td>\n",
       "      <td>4791498</td>\n",
       "      <td>0</td>\n",
       "      <td>他克莫司胶囊(普乐可复)[0.5mg*50粒]</td>\n",
       "      <td>0.5mg*50粒</td>\n",
       "      <td>1.5</td>\n",
       "      <td>2</td>\n",
       "      <td>2018-11-06 11:18:10</td>\n",
       "      <td>2018-11-06 11:18:10</td>\n",
       "      <td>核实</td>\n",
       "      <td>3.0</td>\n",
       "      <td>2018-11-06</td>\n",
       "      <td>2018-11-06</td>\n",
       "    </tr>\n",
       "    <tr>\n",
       "      <th>9</th>\n",
       "      <td>183176</td>\n",
       "      <td>5895566</td>\n",
       "      <td>0</td>\n",
       "      <td>他克莫司胶囊(普乐可复)[0.5mg*50粒]</td>\n",
       "      <td>0.5mg*50粒</td>\n",
       "      <td>1.5</td>\n",
       "      <td>1</td>\n",
       "      <td>2019-03-29 10:53:48</td>\n",
       "      <td>2019-03-29 10:53:48</td>\n",
       "      <td>核实</td>\n",
       "      <td>1.5</td>\n",
       "      <td>2019-03-29</td>\n",
       "      <td>2019-03-29</td>\n",
       "    </tr>\n",
       "    <tr>\n",
       "      <th>10</th>\n",
       "      <td>183176</td>\n",
       "      <td>8108818</td>\n",
       "      <td>0</td>\n",
       "      <td>他克莫司胶囊(普乐可复)[0.5mg*50粒]</td>\n",
       "      <td>0.5mg*50粒</td>\n",
       "      <td>1.5</td>\n",
       "      <td>1</td>\n",
       "      <td>2019-11-25 18:15:31</td>\n",
       "      <td>2019-11-25 18:15:31</td>\n",
       "      <td>核实</td>\n",
       "      <td>1.5</td>\n",
       "      <td>2019-11-25</td>\n",
       "      <td>2019-11-25</td>\n",
       "    </tr>\n",
       "    <tr>\n",
       "      <th>12</th>\n",
       "      <td>183176</td>\n",
       "      <td>8108818</td>\n",
       "      <td>0</td>\n",
       "      <td>他克莫司胶囊(普乐可复)[0.5mg*50粒]</td>\n",
       "      <td>0.5mg*50粒</td>\n",
       "      <td>1.5</td>\n",
       "      <td>1</td>\n",
       "      <td>2019-12-18 10:57:50</td>\n",
       "      <td>2019-12-18 10:57:50</td>\n",
       "      <td>核实</td>\n",
       "      <td>1.5</td>\n",
       "      <td>2019-12-18</td>\n",
       "      <td>2019-12-18</td>\n",
       "    </tr>\n",
       "    <tr>\n",
       "      <th>13</th>\n",
       "      <td>183176</td>\n",
       "      <td>8574883</td>\n",
       "      <td>0</td>\n",
       "      <td>他克莫司胶囊(普乐可复)[0.5mg*50粒]</td>\n",
       "      <td>0.5mg*50粒</td>\n",
       "      <td>1.5</td>\n",
       "      <td>1</td>\n",
       "      <td>2020-01-14 21:36:49</td>\n",
       "      <td>2020-01-14 21:36:49</td>\n",
       "      <td>核实</td>\n",
       "      <td>1.5</td>\n",
       "      <td>2020-01-14</td>\n",
       "      <td>2020-01-14</td>\n",
       "    </tr>\n",
       "  </tbody>\n",
       "</table>\n",
       "</div>"
      ],
      "text/plain": [
       "    patient_id  case_no  long_d_order                drug_name  drug_spec  \\\n",
       "3        92856  4791498             0  他克莫司胶囊(普乐可复)[0.5mg*50粒]  0.5mg*50粒   \n",
       "9       183176  5895566             0  他克莫司胶囊(普乐可复)[0.5mg*50粒]  0.5mg*50粒   \n",
       "10      183176  8108818             0  他克莫司胶囊(普乐可复)[0.5mg*50粒]  0.5mg*50粒   \n",
       "12      183176  8108818             0  他克莫司胶囊(普乐可复)[0.5mg*50粒]  0.5mg*50粒   \n",
       "13      183176  8574883             0  他克莫司胶囊(普乐可复)[0.5mg*50粒]  0.5mg*50粒   \n",
       "\n",
       "   dosage  frequency       start_datetime         end_datetime statusdesc  \\\n",
       "3     1.5          2  2018-11-06 11:18:10  2018-11-06 11:18:10         核实   \n",
       "9     1.5          1  2019-03-29 10:53:48  2019-03-29 10:53:48         核实   \n",
       "10    1.5          1  2019-11-25 18:15:31  2019-11-25 18:15:31         核实   \n",
       "12    1.5          1  2019-12-18 10:57:50  2019-12-18 10:57:50         核实   \n",
       "13    1.5          1  2020-01-14 21:36:49  2020-01-14 21:36:49         核实   \n",
       "\n",
       "    日剂量  start_date    end_date  \n",
       "3   3.0  2018-11-06  2018-11-06  \n",
       "9   1.5  2019-03-29  2019-03-29  \n",
       "10  1.5  2019-11-25  2019-11-25  \n",
       "12  1.5  2019-12-18  2019-12-18  \n",
       "13  1.5  2020-01-14  2020-01-14  "
      ]
     },
     "execution_count": 124,
     "metadata": {},
     "output_type": "execute_result"
    }
   ],
   "source": [
    "drug_temp.head()"
   ]
  },
  {
   "cell_type": "code",
   "execution_count": 125,
   "metadata": {},
   "outputs": [],
   "source": [
    "# 查看重复数据\n",
    "# drug_temp[drug_temp.duplicated(subset=['case_no','dosage','frequency','start_datetime','end_datetime','long_d_order'])]"
   ]
  },
  {
   "cell_type": "code",
   "execution_count": 126,
   "metadata": {},
   "outputs": [],
   "source": [
    "# 删除重复数据\n",
    "drug_temp=drug_temp.drop_duplicates(subset=['case_no','dosage','frequency','start_datetime','end_datetime','long_d_order'])\n",
    "drug_long=drug_long.drop_duplicates(subset=['case_no','dosage','frequency','start_datetime','end_datetime','long_d_order'])"
   ]
  },
  {
   "cell_type": "code",
   "execution_count": 127,
   "metadata": {},
   "outputs": [
    {
     "name": "stdout",
     "output_type": "stream",
     "text": [
      "(133, 13)\n",
      "(201, 13)\n"
     ]
    }
   ],
   "source": [
    "print(drug_temp.shape)\n",
    "print(drug_long.shape)"
   ]
  },
  {
   "cell_type": "code",
   "execution_count": 128,
   "metadata": {},
   "outputs": [
    {
     "data": {
      "text/html": [
       "<div>\n",
       "<style scoped>\n",
       "    .dataframe tbody tr th:only-of-type {\n",
       "        vertical-align: middle;\n",
       "    }\n",
       "\n",
       "    .dataframe tbody tr th {\n",
       "        vertical-align: top;\n",
       "    }\n",
       "\n",
       "    .dataframe thead th {\n",
       "        text-align: right;\n",
       "    }\n",
       "</style>\n",
       "<table border=\"1\" class=\"dataframe\">\n",
       "  <thead>\n",
       "    <tr style=\"text-align: right;\">\n",
       "      <th></th>\n",
       "      <th>patient_id</th>\n",
       "      <th>case_no</th>\n",
       "      <th>long_d_order</th>\n",
       "      <th>drug_name</th>\n",
       "      <th>drug_spec</th>\n",
       "      <th>dosage</th>\n",
       "      <th>frequency</th>\n",
       "      <th>start_datetime</th>\n",
       "      <th>end_datetime</th>\n",
       "      <th>statusdesc</th>\n",
       "      <th>日剂量</th>\n",
       "      <th>start_date</th>\n",
       "      <th>end_date</th>\n",
       "    </tr>\n",
       "  </thead>\n",
       "  <tbody>\n",
       "    <tr>\n",
       "      <th>262</th>\n",
       "      <td>8059463</td>\n",
       "      <td>8785699</td>\n",
       "      <td>0</td>\n",
       "      <td>他克莫司胶囊(赛福开)[0.5mg*50粒]</td>\n",
       "      <td>0.5mg*50粒</td>\n",
       "      <td>2.5</td>\n",
       "      <td>2</td>\n",
       "      <td>2020-03-15 15:24:52</td>\n",
       "      <td>2020-03-15 15:24:52</td>\n",
       "      <td>核实</td>\n",
       "      <td>5.0</td>\n",
       "      <td>2020-03-15</td>\n",
       "      <td>2020-03-15</td>\n",
       "    </tr>\n",
       "    <tr>\n",
       "      <th>263</th>\n",
       "      <td>8059463</td>\n",
       "      <td>8785699</td>\n",
       "      <td>0</td>\n",
       "      <td>他克莫司胶囊(赛福开)[0.5mg*50粒]</td>\n",
       "      <td>0.5mg*50粒</td>\n",
       "      <td>2.5</td>\n",
       "      <td>2</td>\n",
       "      <td>2020-03-18 09:01:31</td>\n",
       "      <td>2020-03-18 09:01:31</td>\n",
       "      <td>核实</td>\n",
       "      <td>5.0</td>\n",
       "      <td>2020-03-18</td>\n",
       "      <td>2020-03-18</td>\n",
       "    </tr>\n",
       "    <tr>\n",
       "      <th>265</th>\n",
       "      <td>8059463</td>\n",
       "      <td>8785699</td>\n",
       "      <td>0</td>\n",
       "      <td>他克莫司胶囊(赛福开)[0.5mg*50粒]</td>\n",
       "      <td>0.5mg*50粒</td>\n",
       "      <td>2.5</td>\n",
       "      <td>2</td>\n",
       "      <td>2020-03-24 22:26:14</td>\n",
       "      <td>2020-03-24 22:26:14</td>\n",
       "      <td>核实</td>\n",
       "      <td>5.0</td>\n",
       "      <td>2020-03-24</td>\n",
       "      <td>2020-03-24</td>\n",
       "    </tr>\n",
       "    <tr>\n",
       "      <th>266</th>\n",
       "      <td>8059463</td>\n",
       "      <td>8785699</td>\n",
       "      <td>0</td>\n",
       "      <td>他克莫司胶囊(赛福开)[0.5mg*50粒]</td>\n",
       "      <td>0.5mg*50粒</td>\n",
       "      <td>2.5</td>\n",
       "      <td>2</td>\n",
       "      <td>2020-03-27 10:20:47</td>\n",
       "      <td>2020-03-27 10:20:47</td>\n",
       "      <td>核实</td>\n",
       "      <td>5.0</td>\n",
       "      <td>2020-03-27</td>\n",
       "      <td>2020-03-27</td>\n",
       "    </tr>\n",
       "    <tr>\n",
       "      <th>268</th>\n",
       "      <td>8059463</td>\n",
       "      <td>8785699</td>\n",
       "      <td>0</td>\n",
       "      <td>他克莫司胶囊(赛福开)[0.5mg*50粒]</td>\n",
       "      <td>0.5mg*50粒</td>\n",
       "      <td>2.5</td>\n",
       "      <td>2</td>\n",
       "      <td>2020-03-30 08:06:27</td>\n",
       "      <td>2020-03-30 08:06:27</td>\n",
       "      <td>核实</td>\n",
       "      <td>5.0</td>\n",
       "      <td>2020-03-30</td>\n",
       "      <td>2020-03-30</td>\n",
       "    </tr>\n",
       "  </tbody>\n",
       "</table>\n",
       "</div>"
      ],
      "text/plain": [
       "     patient_id  case_no  long_d_order               drug_name  drug_spec  \\\n",
       "262     8059463  8785699             0  他克莫司胶囊(赛福开)[0.5mg*50粒]  0.5mg*50粒   \n",
       "263     8059463  8785699             0  他克莫司胶囊(赛福开)[0.5mg*50粒]  0.5mg*50粒   \n",
       "265     8059463  8785699             0  他克莫司胶囊(赛福开)[0.5mg*50粒]  0.5mg*50粒   \n",
       "266     8059463  8785699             0  他克莫司胶囊(赛福开)[0.5mg*50粒]  0.5mg*50粒   \n",
       "268     8059463  8785699             0  他克莫司胶囊(赛福开)[0.5mg*50粒]  0.5mg*50粒   \n",
       "\n",
       "    dosage  frequency       start_datetime         end_datetime statusdesc  \\\n",
       "262    2.5          2  2020-03-15 15:24:52  2020-03-15 15:24:52         核实   \n",
       "263    2.5          2  2020-03-18 09:01:31  2020-03-18 09:01:31         核实   \n",
       "265    2.5          2  2020-03-24 22:26:14  2020-03-24 22:26:14         核实   \n",
       "266    2.5          2  2020-03-27 10:20:47  2020-03-27 10:20:47         核实   \n",
       "268    2.5          2  2020-03-30 08:06:27  2020-03-30 08:06:27         核实   \n",
       "\n",
       "     日剂量  start_date    end_date  \n",
       "262  5.0  2020-03-15  2020-03-15  \n",
       "263  5.0  2020-03-18  2020-03-18  \n",
       "265  5.0  2020-03-24  2020-03-24  \n",
       "266  5.0  2020-03-27  2020-03-27  \n",
       "268  5.0  2020-03-30  2020-03-30  "
      ]
     },
     "execution_count": 128,
     "metadata": {},
     "output_type": "execute_result"
    }
   ],
   "source": [
    "drug_temp[drug_temp['case_no']==8785699]"
   ]
  },
  {
   "cell_type": "markdown",
   "metadata": {},
   "source": [
    "#### 处理临时医嘱"
   ]
  },
  {
   "cell_type": "code",
   "execution_count": 129,
   "metadata": {},
   "outputs": [],
   "source": [
    "# 打临时时间标签，上午为0，下午为1\n",
    "drug_temp['用药上下午标签']=drug_temp['start_datetime'].apply(lambda x: 0 if pd.to_datetime(x).hour <13 else 1)"
   ]
  },
  {
   "cell_type": "code",
   "execution_count": 130,
   "metadata": {},
   "outputs": [],
   "source": [
    "drug_temp_all = drug_temp.drop_duplicates(subset=['patient_id','start_date'],keep='first')\n",
    "drug_temp_result=drug_temp_all.copy()"
   ]
  },
  {
   "cell_type": "code",
   "execution_count": 131,
   "metadata": {},
   "outputs": [],
   "source": [
    "# # ======= 单独对‘临时医嘱’处理 =======\n",
    "# drug_temp_all = drug_temp.drop_duplicates(subset=['patient_id','start_date'],keep='first')\n",
    "# drug_temp_1 = drug_temp.drop_duplicates(subset=['patient_id','start_date','用药上下午标签'],keep='first')\n",
    "# drug_temp_group = drug_temp_1.groupby(['patient_id','start_date'])['日剂量'].sum().reset_index()   # 同一天的临时医嘱相加，保证每天一条临时医嘱\n",
    "\n",
    "# # 拼接完整数据\n",
    "# drug_temp_result = pd.merge(drug_temp_all.drop(columns=['日剂量','用药上下午标签']),drug_temp_group,on=['patient_id','start_date'],how='inner')"
   ]
  },
  {
   "cell_type": "code",
   "execution_count": 132,
   "metadata": {},
   "outputs": [
    {
     "name": "stdout",
     "output_type": "stream",
     "text": [
      "(133, 14)\n"
     ]
    }
   ],
   "source": [
    "print(drug_temp_result.shape)"
   ]
  },
  {
   "cell_type": "code",
   "execution_count": 133,
   "metadata": {},
   "outputs": [],
   "source": [
    "# 计算临时医嘱的 日剂量， 根据开药时间\n",
    "def dosage_temp(x):\n",
    "    if (x['frequency']==2)&(x['小时_标签']>=13):\n",
    "        return x['日剂量']/2\n",
    "    elif (x['frequency']==3):\n",
    "        if (x['小时_标签']>=8) & (x['小时_标签']<12):\n",
    "            return x['日剂量']*2/3\n",
    "        elif x['小时_标签']>=12:\n",
    "            return x['日剂量']/3\n",
    "    else:\n",
    "        return x['日剂量']\n",
    "    \n",
    "# 小时标签用来 标记临时医嘱的时间，根据 frequency进行 日剂量的更改\n",
    "# 例如： 一日三次， 则 按照 12点和6点划分， 12-6之间是 2/3 \n",
    "drug_temp_result['小时_标签'] = drug_temp_result['start_datetime'].apply(lambda x: pd.to_datetime(x).hour)\n",
    "\n",
    "drug_temp_result['日剂量_temp'] =drug_temp_result['日剂量'] \n",
    "drug_temp_result['日剂量'] = drug_temp_result.apply(dosage_temp,axis=1)\n",
    "drug_temp_result = drug_temp_result.drop(columns='小时_标签')"
   ]
  },
  {
   "cell_type": "code",
   "execution_count": 134,
   "metadata": {},
   "outputs": [
    {
     "name": "stdout",
     "output_type": "stream",
     "text": [
      "(133, 15)\n",
      "74\n",
      "93\n"
     ]
    }
   ],
   "source": [
    "print(drug_temp_result.shape)\n",
    "print(drug_temp_result['patient_id'].nunique())\n",
    "print(drug_temp_result['case_no'].nunique())"
   ]
  },
  {
   "cell_type": "code",
   "execution_count": 135,
   "metadata": {},
   "outputs": [],
   "source": [
    "# 保存处理临时医嘱\n",
    "drug_temp_result=drug_temp_result.sort_values(['case_no','start_datetime']).reset_index(drop=True)\n",
    "drug_temp_result.to_excel(project_path+'/data/processed_data/df_2.1.4.5_处理临时医嘱.xlsx')"
   ]
  },
  {
   "cell_type": "code",
   "execution_count": 136,
   "metadata": {},
   "outputs": [
    {
     "data": {
      "text/html": [
       "<div>\n",
       "<style scoped>\n",
       "    .dataframe tbody tr th:only-of-type {\n",
       "        vertical-align: middle;\n",
       "    }\n",
       "\n",
       "    .dataframe tbody tr th {\n",
       "        vertical-align: top;\n",
       "    }\n",
       "\n",
       "    .dataframe thead th {\n",
       "        text-align: right;\n",
       "    }\n",
       "</style>\n",
       "<table border=\"1\" class=\"dataframe\">\n",
       "  <thead>\n",
       "    <tr style=\"text-align: right;\">\n",
       "      <th></th>\n",
       "      <th>patient_id</th>\n",
       "      <th>case_no</th>\n",
       "      <th>long_d_order</th>\n",
       "      <th>drug_name</th>\n",
       "      <th>drug_spec</th>\n",
       "      <th>dosage</th>\n",
       "      <th>frequency</th>\n",
       "      <th>start_datetime</th>\n",
       "      <th>end_datetime</th>\n",
       "      <th>statusdesc</th>\n",
       "      <th>日剂量</th>\n",
       "      <th>start_date</th>\n",
       "      <th>end_date</th>\n",
       "      <th>用药上下午标签</th>\n",
       "      <th>日剂量_temp</th>\n",
       "    </tr>\n",
       "  </thead>\n",
       "  <tbody>\n",
       "    <tr>\n",
       "      <th>103</th>\n",
       "      <td>8059463</td>\n",
       "      <td>8785699</td>\n",
       "      <td>0</td>\n",
       "      <td>他克莫司胶囊(赛福开)[0.5mg*50粒]</td>\n",
       "      <td>0.5mg*50粒</td>\n",
       "      <td>2.5</td>\n",
       "      <td>2</td>\n",
       "      <td>2020-03-15 15:24:52</td>\n",
       "      <td>2020-03-15 15:24:52</td>\n",
       "      <td>核实</td>\n",
       "      <td>2.5</td>\n",
       "      <td>2020-03-15</td>\n",
       "      <td>2020-03-15</td>\n",
       "      <td>1</td>\n",
       "      <td>5.0</td>\n",
       "    </tr>\n",
       "    <tr>\n",
       "      <th>104</th>\n",
       "      <td>8059463</td>\n",
       "      <td>8785699</td>\n",
       "      <td>0</td>\n",
       "      <td>他克莫司胶囊(赛福开)[0.5mg*50粒]</td>\n",
       "      <td>0.5mg*50粒</td>\n",
       "      <td>2.5</td>\n",
       "      <td>2</td>\n",
       "      <td>2020-03-18 09:01:31</td>\n",
       "      <td>2020-03-18 09:01:31</td>\n",
       "      <td>核实</td>\n",
       "      <td>5.0</td>\n",
       "      <td>2020-03-18</td>\n",
       "      <td>2020-03-18</td>\n",
       "      <td>0</td>\n",
       "      <td>5.0</td>\n",
       "    </tr>\n",
       "    <tr>\n",
       "      <th>105</th>\n",
       "      <td>8059463</td>\n",
       "      <td>8785699</td>\n",
       "      <td>0</td>\n",
       "      <td>他克莫司胶囊(赛福开)[0.5mg*50粒]</td>\n",
       "      <td>0.5mg*50粒</td>\n",
       "      <td>2.5</td>\n",
       "      <td>2</td>\n",
       "      <td>2020-03-24 22:26:14</td>\n",
       "      <td>2020-03-24 22:26:14</td>\n",
       "      <td>核实</td>\n",
       "      <td>2.5</td>\n",
       "      <td>2020-03-24</td>\n",
       "      <td>2020-03-24</td>\n",
       "      <td>1</td>\n",
       "      <td>5.0</td>\n",
       "    </tr>\n",
       "    <tr>\n",
       "      <th>106</th>\n",
       "      <td>8059463</td>\n",
       "      <td>8785699</td>\n",
       "      <td>0</td>\n",
       "      <td>他克莫司胶囊(赛福开)[0.5mg*50粒]</td>\n",
       "      <td>0.5mg*50粒</td>\n",
       "      <td>2.5</td>\n",
       "      <td>2</td>\n",
       "      <td>2020-03-27 10:20:47</td>\n",
       "      <td>2020-03-27 10:20:47</td>\n",
       "      <td>核实</td>\n",
       "      <td>5.0</td>\n",
       "      <td>2020-03-27</td>\n",
       "      <td>2020-03-27</td>\n",
       "      <td>0</td>\n",
       "      <td>5.0</td>\n",
       "    </tr>\n",
       "    <tr>\n",
       "      <th>107</th>\n",
       "      <td>8059463</td>\n",
       "      <td>8785699</td>\n",
       "      <td>0</td>\n",
       "      <td>他克莫司胶囊(赛福开)[0.5mg*50粒]</td>\n",
       "      <td>0.5mg*50粒</td>\n",
       "      <td>2.5</td>\n",
       "      <td>2</td>\n",
       "      <td>2020-03-30 08:06:27</td>\n",
       "      <td>2020-03-30 08:06:27</td>\n",
       "      <td>核实</td>\n",
       "      <td>5.0</td>\n",
       "      <td>2020-03-30</td>\n",
       "      <td>2020-03-30</td>\n",
       "      <td>0</td>\n",
       "      <td>5.0</td>\n",
       "    </tr>\n",
       "  </tbody>\n",
       "</table>\n",
       "</div>"
      ],
      "text/plain": [
       "     patient_id  case_no  long_d_order               drug_name  drug_spec  \\\n",
       "103     8059463  8785699             0  他克莫司胶囊(赛福开)[0.5mg*50粒]  0.5mg*50粒   \n",
       "104     8059463  8785699             0  他克莫司胶囊(赛福开)[0.5mg*50粒]  0.5mg*50粒   \n",
       "105     8059463  8785699             0  他克莫司胶囊(赛福开)[0.5mg*50粒]  0.5mg*50粒   \n",
       "106     8059463  8785699             0  他克莫司胶囊(赛福开)[0.5mg*50粒]  0.5mg*50粒   \n",
       "107     8059463  8785699             0  他克莫司胶囊(赛福开)[0.5mg*50粒]  0.5mg*50粒   \n",
       "\n",
       "    dosage  frequency       start_datetime         end_datetime statusdesc  \\\n",
       "103    2.5          2  2020-03-15 15:24:52  2020-03-15 15:24:52         核实   \n",
       "104    2.5          2  2020-03-18 09:01:31  2020-03-18 09:01:31         核实   \n",
       "105    2.5          2  2020-03-24 22:26:14  2020-03-24 22:26:14         核实   \n",
       "106    2.5          2  2020-03-27 10:20:47  2020-03-27 10:20:47         核实   \n",
       "107    2.5          2  2020-03-30 08:06:27  2020-03-30 08:06:27         核实   \n",
       "\n",
       "     日剂量  start_date    end_date  用药上下午标签  日剂量_temp  \n",
       "103  2.5  2020-03-15  2020-03-15        1       5.0  \n",
       "104  5.0  2020-03-18  2020-03-18        0       5.0  \n",
       "105  2.5  2020-03-24  2020-03-24        1       5.0  \n",
       "106  5.0  2020-03-27  2020-03-27        0       5.0  \n",
       "107  5.0  2020-03-30  2020-03-30        0       5.0  "
      ]
     },
     "execution_count": 136,
     "metadata": {},
     "output_type": "execute_result"
    }
   ],
   "source": [
    "drug_temp_result[drug_temp_result['case_no']==8785699]"
   ]
  },
  {
   "cell_type": "code",
   "execution_count": 137,
   "metadata": {},
   "outputs": [],
   "source": [
    "# 把‘临时医嘱’和‘长期医嘱’拼接\n",
    "df_test_1 = pd.concat([drug_long,drug_temp_result],axis=0)\n",
    "df_test_1 = df_test_1[drug_long.columns.tolist()]\n",
    "\n",
    "# 拼接后重新排序\n",
    "drug_vancomycin_4 = df_test_1.groupby(['case_no']).apply(\n",
    "    lambda _df: _df.sort_values(by=['start_datetime'],ascending=1)).reset_index(drop=True)"
   ]
  },
  {
   "cell_type": "code",
   "execution_count": 138,
   "metadata": {},
   "outputs": [
    {
     "data": {
      "text/html": [
       "<div>\n",
       "<style scoped>\n",
       "    .dataframe tbody tr th:only-of-type {\n",
       "        vertical-align: middle;\n",
       "    }\n",
       "\n",
       "    .dataframe tbody tr th {\n",
       "        vertical-align: top;\n",
       "    }\n",
       "\n",
       "    .dataframe thead th {\n",
       "        text-align: right;\n",
       "    }\n",
       "</style>\n",
       "<table border=\"1\" class=\"dataframe\">\n",
       "  <thead>\n",
       "    <tr style=\"text-align: right;\">\n",
       "      <th></th>\n",
       "      <th>patient_id</th>\n",
       "      <th>case_no</th>\n",
       "      <th>long_d_order</th>\n",
       "      <th>drug_name</th>\n",
       "      <th>drug_spec</th>\n",
       "      <th>dosage</th>\n",
       "      <th>frequency</th>\n",
       "      <th>start_datetime</th>\n",
       "      <th>end_datetime</th>\n",
       "      <th>statusdesc</th>\n",
       "      <th>日剂量</th>\n",
       "      <th>start_date</th>\n",
       "      <th>end_date</th>\n",
       "    </tr>\n",
       "  </thead>\n",
       "  <tbody>\n",
       "    <tr>\n",
       "      <th>0</th>\n",
       "      <td>7406367</td>\n",
       "      <td>3964305</td>\n",
       "      <td>1</td>\n",
       "      <td>他克莫司胶囊(普乐可复)[0.5mg*50粒]</td>\n",
       "      <td>0.5mg*50粒</td>\n",
       "      <td>1</td>\n",
       "      <td>2</td>\n",
       "      <td>2018-07-10 21:44:10</td>\n",
       "      <td>2018-07-16 18:13:43</td>\n",
       "      <td>停止</td>\n",
       "      <td>2.0</td>\n",
       "      <td>2018-07-10</td>\n",
       "      <td>2018-07-16</td>\n",
       "    </tr>\n",
       "    <tr>\n",
       "      <th>1</th>\n",
       "      <td>3106885</td>\n",
       "      <td>4054467</td>\n",
       "      <td>1</td>\n",
       "      <td>他克莫司胶囊(普乐可复)[0.5mg*50粒]</td>\n",
       "      <td>0.5mg*50粒</td>\n",
       "      <td>1</td>\n",
       "      <td>2</td>\n",
       "      <td>2018-08-03 09:56:12</td>\n",
       "      <td>2018-08-06 11:17:32</td>\n",
       "      <td>停止</td>\n",
       "      <td>2.0</td>\n",
       "      <td>2018-08-03</td>\n",
       "      <td>2018-08-06</td>\n",
       "    </tr>\n",
       "    <tr>\n",
       "      <th>2</th>\n",
       "      <td>3106885</td>\n",
       "      <td>4054467</td>\n",
       "      <td>0</td>\n",
       "      <td>他克莫司胶囊(普乐可复)[0.5mg*50粒]</td>\n",
       "      <td>0.5mg*50粒</td>\n",
       "      <td>1</td>\n",
       "      <td>2</td>\n",
       "      <td>2018-08-06 11:17:32</td>\n",
       "      <td>2018-08-06 11:17:32</td>\n",
       "      <td>核实</td>\n",
       "      <td>2.0</td>\n",
       "      <td>2018-08-06</td>\n",
       "      <td>2018-08-06</td>\n",
       "    </tr>\n",
       "    <tr>\n",
       "      <th>3</th>\n",
       "      <td>7455055</td>\n",
       "      <td>4068971</td>\n",
       "      <td>0</td>\n",
       "      <td>他克莫司胶囊(普乐可复)[0.5mg*50粒]</td>\n",
       "      <td>0.5mg*50粒</td>\n",
       "      <td>1</td>\n",
       "      <td>1</td>\n",
       "      <td>2018-07-25 10:42:12</td>\n",
       "      <td>2018-07-25 10:42:12</td>\n",
       "      <td>核实</td>\n",
       "      <td>1.0</td>\n",
       "      <td>2018-07-25</td>\n",
       "      <td>2018-07-25</td>\n",
       "    </tr>\n",
       "    <tr>\n",
       "      <th>4</th>\n",
       "      <td>7455055</td>\n",
       "      <td>4068971</td>\n",
       "      <td>1</td>\n",
       "      <td>他克莫司胶囊(普乐可复)[0.5mg*50粒]</td>\n",
       "      <td>0.5mg*50粒</td>\n",
       "      <td>2.5</td>\n",
       "      <td>1</td>\n",
       "      <td>2018-07-25 18:30:46</td>\n",
       "      <td>2018-08-01 09:17:58</td>\n",
       "      <td>停止</td>\n",
       "      <td>2.5</td>\n",
       "      <td>2018-07-25</td>\n",
       "      <td>2018-08-01</td>\n",
       "    </tr>\n",
       "  </tbody>\n",
       "</table>\n",
       "</div>"
      ],
      "text/plain": [
       "   patient_id  case_no  long_d_order                drug_name  drug_spec  \\\n",
       "0     7406367  3964305             1  他克莫司胶囊(普乐可复)[0.5mg*50粒]  0.5mg*50粒   \n",
       "1     3106885  4054467             1  他克莫司胶囊(普乐可复)[0.5mg*50粒]  0.5mg*50粒   \n",
       "2     3106885  4054467             0  他克莫司胶囊(普乐可复)[0.5mg*50粒]  0.5mg*50粒   \n",
       "3     7455055  4068971             0  他克莫司胶囊(普乐可复)[0.5mg*50粒]  0.5mg*50粒   \n",
       "4     7455055  4068971             1  他克莫司胶囊(普乐可复)[0.5mg*50粒]  0.5mg*50粒   \n",
       "\n",
       "  dosage  frequency       start_datetime         end_datetime statusdesc  日剂量  \\\n",
       "0      1          2  2018-07-10 21:44:10  2018-07-16 18:13:43         停止  2.0   \n",
       "1      1          2  2018-08-03 09:56:12  2018-08-06 11:17:32         停止  2.0   \n",
       "2      1          2  2018-08-06 11:17:32  2018-08-06 11:17:32         核实  2.0   \n",
       "3      1          1  2018-07-25 10:42:12  2018-07-25 10:42:12         核实  1.0   \n",
       "4    2.5          1  2018-07-25 18:30:46  2018-08-01 09:17:58         停止  2.5   \n",
       "\n",
       "   start_date    end_date  \n",
       "0  2018-07-10  2018-07-16  \n",
       "1  2018-08-03  2018-08-06  \n",
       "2  2018-08-06  2018-08-06  \n",
       "3  2018-07-25  2018-07-25  \n",
       "4  2018-07-25  2018-08-01  "
      ]
     },
     "execution_count": 138,
     "metadata": {},
     "output_type": "execute_result"
    }
   ],
   "source": [
    "drug_vancomycin_4.head()"
   ]
  },
  {
   "cell_type": "markdown",
   "metadata": {},
   "source": [
    "#### 分裂日期"
   ]
  },
  {
   "cell_type": "code",
   "execution_count": 139,
   "metadata": {},
   "outputs": [],
   "source": [
    "# 将时间拆开\n",
    "def explode1(df, col):\n",
    "    dftem1 = pd.DataFrame()\n",
    "    for i in range(df.shape[0]):\n",
    "        dftem = df.iloc[i].to_frame().T\n",
    "        if isinstance(df.iloc[i][col], list):\n",
    "            if len(df.iloc[i][col]) > 0:\n",
    "                for j in range(len(df.iloc[i][col])):\n",
    "                    dftem[col + \"_\"] = df.iloc[i][col][j]\n",
    "                    dftem1 = pd.concat([dftem1, dftem])\n",
    "            else:\n",
    "                dftem1 = pd.concat([dftem1, dftem])\n",
    "        else:\n",
    "            dftem1 = pd.concat([dftem1, dftem])\n",
    "    del dftem1[col]\n",
    "    dftem1.rename(columns={col + \"_\": col}, inplace=True)\n",
    "    return dftem1"
   ]
  },
  {
   "cell_type": "code",
   "execution_count": 140,
   "metadata": {},
   "outputs": [
    {
     "data": {
      "text/plain": [
       "(334, 13)"
      ]
     },
     "execution_count": 140,
     "metadata": {},
     "output_type": "execute_result"
    }
   ],
   "source": [
    "drug_vancomycin_4.shape"
   ]
  },
  {
   "cell_type": "code",
   "execution_count": 141,
   "metadata": {},
   "outputs": [
    {
     "name": "stderr",
     "output_type": "stream",
     "text": [
      "D:\\Anaconda3\\lib\\site-packages\\ipykernel_launcher.py:5: SettingWithCopyWarning: \n",
      "A value is trying to be set on a copy of a slice from a DataFrame\n",
      "\n",
      "See the caveats in the documentation: https://pandas.pydata.org/pandas-docs/stable/user_guide/indexing.html#returning-a-view-versus-a-copy\n",
      "  \"\"\"\n"
     ]
    }
   ],
   "source": [
    "# 生成 分裂日期\n",
    "drug_vancomycin_4['分裂日期'] = ''\n",
    "for i in range(len(drug_vancomycin_4)):\n",
    "    drug_vancomycin_4['分裂日期'][i] = list(pd.date_range(start=drug_vancomycin_4['start_date'][i], \n",
    "                                                      end=drug_vancomycin_4['end_date'][i]))\n",
    "\n",
    "##　＝＝　把时间List拆开　＝＝    \n",
    "drug_vancomycin_5 = explode1(drug_vancomycin_4,'分裂日期')\n",
    "drug_vancomycin_5['分裂日期']=drug_vancomycin_5['分裂日期'].apply(lambda x: str(x).split(' ')[0])\n",
    "\n",
    "drug_vancomycin_5['起始标签'] = drug_vancomycin_5.apply(lambda x: '起始' if x['分裂日期']==x['start_date'] else \n",
    "                                                                '结尾' if x['分裂日期']==x['end_date'] else \n",
    "                                                                '期间', axis=1)"
   ]
  },
  {
   "cell_type": "code",
   "execution_count": 142,
   "metadata": {
    "scrolled": true
   },
   "outputs": [
    {
     "data": {
      "text/html": [
       "<div>\n",
       "<style scoped>\n",
       "    .dataframe tbody tr th:only-of-type {\n",
       "        vertical-align: middle;\n",
       "    }\n",
       "\n",
       "    .dataframe tbody tr th {\n",
       "        vertical-align: top;\n",
       "    }\n",
       "\n",
       "    .dataframe thead th {\n",
       "        text-align: right;\n",
       "    }\n",
       "</style>\n",
       "<table border=\"1\" class=\"dataframe\">\n",
       "  <thead>\n",
       "    <tr style=\"text-align: right;\">\n",
       "      <th></th>\n",
       "      <th>patient_id</th>\n",
       "      <th>case_no</th>\n",
       "      <th>long_d_order</th>\n",
       "      <th>drug_name</th>\n",
       "      <th>drug_spec</th>\n",
       "      <th>dosage</th>\n",
       "      <th>frequency</th>\n",
       "      <th>start_datetime</th>\n",
       "      <th>end_datetime</th>\n",
       "      <th>statusdesc</th>\n",
       "      <th>日剂量</th>\n",
       "      <th>start_date</th>\n",
       "      <th>end_date</th>\n",
       "      <th>分裂日期</th>\n",
       "      <th>起始标签</th>\n",
       "    </tr>\n",
       "  </thead>\n",
       "  <tbody>\n",
       "    <tr>\n",
       "      <th>0</th>\n",
       "      <td>7406367</td>\n",
       "      <td>3964305</td>\n",
       "      <td>1</td>\n",
       "      <td>他克莫司胶囊(普乐可复)[0.5mg*50粒]</td>\n",
       "      <td>0.5mg*50粒</td>\n",
       "      <td>1</td>\n",
       "      <td>2</td>\n",
       "      <td>2018-07-10 21:44:10</td>\n",
       "      <td>2018-07-16 18:13:43</td>\n",
       "      <td>停止</td>\n",
       "      <td>2</td>\n",
       "      <td>2018-07-10</td>\n",
       "      <td>2018-07-16</td>\n",
       "      <td>2018-07-10</td>\n",
       "      <td>起始</td>\n",
       "    </tr>\n",
       "    <tr>\n",
       "      <th>0</th>\n",
       "      <td>7406367</td>\n",
       "      <td>3964305</td>\n",
       "      <td>1</td>\n",
       "      <td>他克莫司胶囊(普乐可复)[0.5mg*50粒]</td>\n",
       "      <td>0.5mg*50粒</td>\n",
       "      <td>1</td>\n",
       "      <td>2</td>\n",
       "      <td>2018-07-10 21:44:10</td>\n",
       "      <td>2018-07-16 18:13:43</td>\n",
       "      <td>停止</td>\n",
       "      <td>2</td>\n",
       "      <td>2018-07-10</td>\n",
       "      <td>2018-07-16</td>\n",
       "      <td>2018-07-11</td>\n",
       "      <td>期间</td>\n",
       "    </tr>\n",
       "    <tr>\n",
       "      <th>0</th>\n",
       "      <td>7406367</td>\n",
       "      <td>3964305</td>\n",
       "      <td>1</td>\n",
       "      <td>他克莫司胶囊(普乐可复)[0.5mg*50粒]</td>\n",
       "      <td>0.5mg*50粒</td>\n",
       "      <td>1</td>\n",
       "      <td>2</td>\n",
       "      <td>2018-07-10 21:44:10</td>\n",
       "      <td>2018-07-16 18:13:43</td>\n",
       "      <td>停止</td>\n",
       "      <td>2</td>\n",
       "      <td>2018-07-10</td>\n",
       "      <td>2018-07-16</td>\n",
       "      <td>2018-07-12</td>\n",
       "      <td>期间</td>\n",
       "    </tr>\n",
       "    <tr>\n",
       "      <th>0</th>\n",
       "      <td>7406367</td>\n",
       "      <td>3964305</td>\n",
       "      <td>1</td>\n",
       "      <td>他克莫司胶囊(普乐可复)[0.5mg*50粒]</td>\n",
       "      <td>0.5mg*50粒</td>\n",
       "      <td>1</td>\n",
       "      <td>2</td>\n",
       "      <td>2018-07-10 21:44:10</td>\n",
       "      <td>2018-07-16 18:13:43</td>\n",
       "      <td>停止</td>\n",
       "      <td>2</td>\n",
       "      <td>2018-07-10</td>\n",
       "      <td>2018-07-16</td>\n",
       "      <td>2018-07-13</td>\n",
       "      <td>期间</td>\n",
       "    </tr>\n",
       "    <tr>\n",
       "      <th>0</th>\n",
       "      <td>7406367</td>\n",
       "      <td>3964305</td>\n",
       "      <td>1</td>\n",
       "      <td>他克莫司胶囊(普乐可复)[0.5mg*50粒]</td>\n",
       "      <td>0.5mg*50粒</td>\n",
       "      <td>1</td>\n",
       "      <td>2</td>\n",
       "      <td>2018-07-10 21:44:10</td>\n",
       "      <td>2018-07-16 18:13:43</td>\n",
       "      <td>停止</td>\n",
       "      <td>2</td>\n",
       "      <td>2018-07-10</td>\n",
       "      <td>2018-07-16</td>\n",
       "      <td>2018-07-14</td>\n",
       "      <td>期间</td>\n",
       "    </tr>\n",
       "  </tbody>\n",
       "</table>\n",
       "</div>"
      ],
      "text/plain": [
       "  patient_id  case_no long_d_order                drug_name  drug_spec dosage  \\\n",
       "0    7406367  3964305            1  他克莫司胶囊(普乐可复)[0.5mg*50粒]  0.5mg*50粒      1   \n",
       "0    7406367  3964305            1  他克莫司胶囊(普乐可复)[0.5mg*50粒]  0.5mg*50粒      1   \n",
       "0    7406367  3964305            1  他克莫司胶囊(普乐可复)[0.5mg*50粒]  0.5mg*50粒      1   \n",
       "0    7406367  3964305            1  他克莫司胶囊(普乐可复)[0.5mg*50粒]  0.5mg*50粒      1   \n",
       "0    7406367  3964305            1  他克莫司胶囊(普乐可复)[0.5mg*50粒]  0.5mg*50粒      1   \n",
       "\n",
       "  frequency       start_datetime         end_datetime statusdesc 日剂量  \\\n",
       "0         2  2018-07-10 21:44:10  2018-07-16 18:13:43         停止   2   \n",
       "0         2  2018-07-10 21:44:10  2018-07-16 18:13:43         停止   2   \n",
       "0         2  2018-07-10 21:44:10  2018-07-16 18:13:43         停止   2   \n",
       "0         2  2018-07-10 21:44:10  2018-07-16 18:13:43         停止   2   \n",
       "0         2  2018-07-10 21:44:10  2018-07-16 18:13:43         停止   2   \n",
       "\n",
       "   start_date    end_date        分裂日期 起始标签  \n",
       "0  2018-07-10  2018-07-16  2018-07-10   起始  \n",
       "0  2018-07-10  2018-07-16  2018-07-11   期间  \n",
       "0  2018-07-10  2018-07-16  2018-07-12   期间  \n",
       "0  2018-07-10  2018-07-16  2018-07-13   期间  \n",
       "0  2018-07-10  2018-07-16  2018-07-14   期间  "
      ]
     },
     "execution_count": 142,
     "metadata": {},
     "output_type": "execute_result"
    }
   ],
   "source": [
    "drug_vancomycin_5.head()"
   ]
  },
  {
   "cell_type": "code",
   "execution_count": 143,
   "metadata": {},
   "outputs": [
    {
     "name": "stdout",
     "output_type": "stream",
     "text": [
      "(1333, 15)\n",
      "99\n",
      "126\n"
     ]
    }
   ],
   "source": [
    "print(drug_vancomycin_5.shape)\n",
    "print(drug_vancomycin_5['patient_id'].nunique())\n",
    "print(drug_vancomycin_5['case_no'].nunique())"
   ]
  },
  {
   "cell_type": "code",
   "execution_count": 144,
   "metadata": {},
   "outputs": [],
   "source": [
    "drug_vancomycin_5.to_excel(project_path+'/data/processed_data/df_2.1.4.6_分裂日期.xlsx')"
   ]
  },
  {
   "cell_type": "markdown",
   "metadata": {},
   "source": [
    "#### 打时间标签"
   ]
  },
  {
   "cell_type": "code",
   "execution_count": 145,
   "metadata": {},
   "outputs": [],
   "source": [
    "# 打日期标签\n",
    "def flag_ttt(x):\n",
    "    if (x['起始标签']!='结尾'):\n",
    "        if x['start_datetime'].hour<13:\n",
    "            return 0\n",
    "        else:\n",
    "            return 1\n",
    "    else:\n",
    "        if x['end_datetime'].hour<13:\n",
    "            return 0\n",
    "        else:\n",
    "            return 1"
   ]
  },
  {
   "cell_type": "code",
   "execution_count": 146,
   "metadata": {},
   "outputs": [],
   "source": [
    "# 上午是0，下午是1\n",
    "# 起始和期间看起始时间，结尾看停止时间\n",
    "drug_vancomycin_5['start_datetime']=drug_vancomycin_5['start_datetime'].apply(lambda x: pd.to_datetime(x))\n",
    "drug_vancomycin_5['end_datetime']=drug_vancomycin_5['end_datetime'].apply(lambda x: pd.to_datetime(x))\n",
    "\n",
    "drug_vancomycin_5['时间标签'] = drug_vancomycin_5.apply(lambda x: 0 if ((x['起始标签']!='结尾')and(x['start_datetime'].hour < 13)) else 1, axis=1)\n",
    "drug_vancomycin_5['时间标签'] = drug_vancomycin_5.apply(flag_ttt,axis=1)"
   ]
  },
  {
   "cell_type": "code",
   "execution_count": 147,
   "metadata": {},
   "outputs": [
    {
     "name": "stdout",
     "output_type": "stream",
     "text": [
      "(1333, 16)\n",
      "99\n",
      "126\n"
     ]
    }
   ],
   "source": [
    "print(drug_vancomycin_5.shape)\n",
    "print(drug_vancomycin_5['patient_id'].nunique())\n",
    "print(drug_vancomycin_5['case_no'].nunique())"
   ]
  },
  {
   "cell_type": "code",
   "execution_count": 148,
   "metadata": {},
   "outputs": [
    {
     "data": {
      "text/html": [
       "<div>\n",
       "<style scoped>\n",
       "    .dataframe tbody tr th:only-of-type {\n",
       "        vertical-align: middle;\n",
       "    }\n",
       "\n",
       "    .dataframe tbody tr th {\n",
       "        vertical-align: top;\n",
       "    }\n",
       "\n",
       "    .dataframe thead th {\n",
       "        text-align: right;\n",
       "    }\n",
       "</style>\n",
       "<table border=\"1\" class=\"dataframe\">\n",
       "  <thead>\n",
       "    <tr style=\"text-align: right;\">\n",
       "      <th></th>\n",
       "      <th>patient_id</th>\n",
       "      <th>case_no</th>\n",
       "      <th>long_d_order</th>\n",
       "      <th>drug_name</th>\n",
       "      <th>drug_spec</th>\n",
       "      <th>dosage</th>\n",
       "      <th>frequency</th>\n",
       "      <th>start_datetime</th>\n",
       "      <th>end_datetime</th>\n",
       "      <th>statusdesc</th>\n",
       "      <th>日剂量</th>\n",
       "      <th>start_date</th>\n",
       "      <th>end_date</th>\n",
       "      <th>分裂日期</th>\n",
       "      <th>起始标签</th>\n",
       "      <th>时间标签</th>\n",
       "    </tr>\n",
       "  </thead>\n",
       "  <tbody>\n",
       "    <tr>\n",
       "      <th>0</th>\n",
       "      <td>7406367</td>\n",
       "      <td>3964305</td>\n",
       "      <td>1</td>\n",
       "      <td>他克莫司胶囊(普乐可复)[0.5mg*50粒]</td>\n",
       "      <td>0.5mg*50粒</td>\n",
       "      <td>1</td>\n",
       "      <td>2</td>\n",
       "      <td>2018-07-10 21:44:10</td>\n",
       "      <td>2018-07-16 18:13:43</td>\n",
       "      <td>停止</td>\n",
       "      <td>2</td>\n",
       "      <td>2018-07-10</td>\n",
       "      <td>2018-07-16</td>\n",
       "      <td>2018-07-10</td>\n",
       "      <td>起始</td>\n",
       "      <td>1</td>\n",
       "    </tr>\n",
       "    <tr>\n",
       "      <th>0</th>\n",
       "      <td>7406367</td>\n",
       "      <td>3964305</td>\n",
       "      <td>1</td>\n",
       "      <td>他克莫司胶囊(普乐可复)[0.5mg*50粒]</td>\n",
       "      <td>0.5mg*50粒</td>\n",
       "      <td>1</td>\n",
       "      <td>2</td>\n",
       "      <td>2018-07-10 21:44:10</td>\n",
       "      <td>2018-07-16 18:13:43</td>\n",
       "      <td>停止</td>\n",
       "      <td>2</td>\n",
       "      <td>2018-07-10</td>\n",
       "      <td>2018-07-16</td>\n",
       "      <td>2018-07-11</td>\n",
       "      <td>期间</td>\n",
       "      <td>1</td>\n",
       "    </tr>\n",
       "    <tr>\n",
       "      <th>0</th>\n",
       "      <td>7406367</td>\n",
       "      <td>3964305</td>\n",
       "      <td>1</td>\n",
       "      <td>他克莫司胶囊(普乐可复)[0.5mg*50粒]</td>\n",
       "      <td>0.5mg*50粒</td>\n",
       "      <td>1</td>\n",
       "      <td>2</td>\n",
       "      <td>2018-07-10 21:44:10</td>\n",
       "      <td>2018-07-16 18:13:43</td>\n",
       "      <td>停止</td>\n",
       "      <td>2</td>\n",
       "      <td>2018-07-10</td>\n",
       "      <td>2018-07-16</td>\n",
       "      <td>2018-07-12</td>\n",
       "      <td>期间</td>\n",
       "      <td>1</td>\n",
       "    </tr>\n",
       "    <tr>\n",
       "      <th>0</th>\n",
       "      <td>7406367</td>\n",
       "      <td>3964305</td>\n",
       "      <td>1</td>\n",
       "      <td>他克莫司胶囊(普乐可复)[0.5mg*50粒]</td>\n",
       "      <td>0.5mg*50粒</td>\n",
       "      <td>1</td>\n",
       "      <td>2</td>\n",
       "      <td>2018-07-10 21:44:10</td>\n",
       "      <td>2018-07-16 18:13:43</td>\n",
       "      <td>停止</td>\n",
       "      <td>2</td>\n",
       "      <td>2018-07-10</td>\n",
       "      <td>2018-07-16</td>\n",
       "      <td>2018-07-13</td>\n",
       "      <td>期间</td>\n",
       "      <td>1</td>\n",
       "    </tr>\n",
       "    <tr>\n",
       "      <th>0</th>\n",
       "      <td>7406367</td>\n",
       "      <td>3964305</td>\n",
       "      <td>1</td>\n",
       "      <td>他克莫司胶囊(普乐可复)[0.5mg*50粒]</td>\n",
       "      <td>0.5mg*50粒</td>\n",
       "      <td>1</td>\n",
       "      <td>2</td>\n",
       "      <td>2018-07-10 21:44:10</td>\n",
       "      <td>2018-07-16 18:13:43</td>\n",
       "      <td>停止</td>\n",
       "      <td>2</td>\n",
       "      <td>2018-07-10</td>\n",
       "      <td>2018-07-16</td>\n",
       "      <td>2018-07-14</td>\n",
       "      <td>期间</td>\n",
       "      <td>1</td>\n",
       "    </tr>\n",
       "  </tbody>\n",
       "</table>\n",
       "</div>"
      ],
      "text/plain": [
       "  patient_id  case_no long_d_order                drug_name  drug_spec dosage  \\\n",
       "0    7406367  3964305            1  他克莫司胶囊(普乐可复)[0.5mg*50粒]  0.5mg*50粒      1   \n",
       "0    7406367  3964305            1  他克莫司胶囊(普乐可复)[0.5mg*50粒]  0.5mg*50粒      1   \n",
       "0    7406367  3964305            1  他克莫司胶囊(普乐可复)[0.5mg*50粒]  0.5mg*50粒      1   \n",
       "0    7406367  3964305            1  他克莫司胶囊(普乐可复)[0.5mg*50粒]  0.5mg*50粒      1   \n",
       "0    7406367  3964305            1  他克莫司胶囊(普乐可复)[0.5mg*50粒]  0.5mg*50粒      1   \n",
       "\n",
       "  frequency      start_datetime        end_datetime statusdesc 日剂量  \\\n",
       "0         2 2018-07-10 21:44:10 2018-07-16 18:13:43         停止   2   \n",
       "0         2 2018-07-10 21:44:10 2018-07-16 18:13:43         停止   2   \n",
       "0         2 2018-07-10 21:44:10 2018-07-16 18:13:43         停止   2   \n",
       "0         2 2018-07-10 21:44:10 2018-07-16 18:13:43         停止   2   \n",
       "0         2 2018-07-10 21:44:10 2018-07-16 18:13:43         停止   2   \n",
       "\n",
       "   start_date    end_date        分裂日期 起始标签  时间标签  \n",
       "0  2018-07-10  2018-07-16  2018-07-10   起始     1  \n",
       "0  2018-07-10  2018-07-16  2018-07-11   期间     1  \n",
       "0  2018-07-10  2018-07-16  2018-07-12   期间     1  \n",
       "0  2018-07-10  2018-07-16  2018-07-13   期间     1  \n",
       "0  2018-07-10  2018-07-16  2018-07-14   期间     1  "
      ]
     },
     "execution_count": 148,
     "metadata": {},
     "output_type": "execute_result"
    }
   ],
   "source": [
    "drug_vancomycin_5.head()"
   ]
  },
  {
   "cell_type": "code",
   "execution_count": 149,
   "metadata": {},
   "outputs": [],
   "source": [
    "drug_vancomycin_5.to_excel(project_path+'/data/processed_data/df_2.1.4.7_打时间标签.xlsx')"
   ]
  },
  {
   "cell_type": "markdown",
   "metadata": {},
   "source": [
    "#### 调整日剂量"
   ]
  },
  {
   "cell_type": "code",
   "execution_count": 150,
   "metadata": {},
   "outputs": [
    {
     "name": "stderr",
     "output_type": "stream",
     "text": [
      "D:\\Anaconda3\\lib\\site-packages\\ipykernel_launcher.py:12: SettingWithCopyWarning: \n",
      "A value is trying to be set on a copy of a slice from a DataFrame.\n",
      "Try using .loc[row_indexer,col_indexer] = value instead\n",
      "\n",
      "See the caveats in the documentation: https://pandas.pydata.org/pandas-docs/stable/user_guide/indexing.html#returning-a-view-versus-a-copy\n",
      "  if sys.path[0] == '':\n"
     ]
    }
   ],
   "source": [
    "temp_l = []\n",
    "\n",
    "for i in drug_vancomycin_5.case_no.unique():\n",
    "    temp = drug_vancomycin_5[drug_vancomycin_5['case_no']==i].reset_index(drop=True)\n",
    "\n",
    "    for j in temp.分裂日期.unique():\n",
    "\n",
    "        temp_2 = temp[temp['分裂日期']==j]\n",
    "        if 0 in temp_2['long_d_order'].unique():\n",
    "            temp_long = temp_2[temp_2['long_d_order']==1].tail(1).reset_index(drop=True)\n",
    "            temp_st = temp_2[temp_2['long_d_order']==0]\n",
    "            temp_st['日剂量'] = temp_st['日剂量'].sum()\n",
    "            temp_st = temp_st.tail(1).reset_index(drop=True)\n",
    "            # 同一天，既有长期医嘱又有短期医嘱\n",
    "            if len(temp_long)>0:\n",
    "                flag = temp_long.起始标签.unique()[0]\n",
    "                if flag == '期间':\n",
    "                    temp_long.loc[0,'日剂量'] = temp_long.loc[0,'日剂量'] + temp_st.loc[0,'日剂量']                           \n",
    "                    temp_l.append(temp_long)\n",
    "                else:\n",
    "                    temp_l.append(temp_st)\n",
    "            # 该天全是短期医嘱\n",
    "            else:\n",
    "                temp_l.append(temp_st)\n",
    "        # 该天全是长期医嘱\n",
    "        else:\n",
    "            temp_long = temp_2.tail(1).reset_index(drop=True)\n",
    "            flag_l = temp_2.起始标签.unique().tolist()\n",
    "            flag_time_l = temp_2.时间标签.unique().tolist()\n",
    "            \n",
    "            if ('结尾' in flag_l and '起始' in flag_l) or len(flag_time_l)>1:\n",
    "                # 按剂量去重（防止上一次结束，与下一次开始是两种情况）                \n",
    "                if (len(flag_time_l) == 1) and (temp_long.loc[0,'时间标签'] == 0):   \n",
    "                    pass                                                         \n",
    "                # 第一条结尾，第二条开始:   时间 上午 上午 取第二条(开始), 上下、下上、下下取mean\n",
    "                # 按剂量去重（防止上一次结束，与下一次开始是两种情况）\n",
    "                else:\n",
    "                    temp_long.loc[0,'日剂量'] = temp_2.drop_duplicates(subset=['日剂量'],keep='last').日剂量.mean()\n",
    "                temp_l.append(temp_long)\n",
    "            else:\n",
    "                flag = temp_long.loc[0,'起始标签']\n",
    "                flag_time = temp_long.loc[0,'时间标签']\n",
    "                # 开头：大于13点取半天，  结尾：小于13点取半天\n",
    "                if flag=='起始' and flag_time==1:\n",
    "                    temp_long.loc[0,'日剂量'] = temp_long.loc[0,'日剂量'] / 2\n",
    "                if flag=='结尾' and flag_time==0:\n",
    "                    temp_long.loc[0,'日剂量'] = temp_long.loc[0,'日剂量'] / 2\n",
    "\n",
    "                temp_l.append(temp_long)"
   ]
  },
  {
   "cell_type": "code",
   "execution_count": 151,
   "metadata": {},
   "outputs": [],
   "source": [
    "df_Tcms_modification = pd.concat(temp_l,axis=0).reset_index(drop=True)\n",
    "df_Tcms_modification['日剂量']=df_Tcms_modification['日剂量'].apply(lambda x: round(x,1))\n",
    "del temp_l"
   ]
  },
  {
   "cell_type": "code",
   "execution_count": 152,
   "metadata": {},
   "outputs": [],
   "source": [
    "# 设置patient_id，case_no字段数据数据格式，不然无法匹配id\n",
    "df_Tcms_modification['patient_id']=df_Tcms_modification['patient_id'].astype('str')\n",
    "df_Tcms_modification['case_no']=df_Tcms_modification['case_no'].astype('str')"
   ]
  },
  {
   "cell_type": "code",
   "execution_count": 153,
   "metadata": {},
   "outputs": [
    {
     "name": "stdout",
     "output_type": "stream",
     "text": [
      "(1136, 16)\n",
      "99\n",
      "126\n"
     ]
    }
   ],
   "source": [
    "print(df_Tcms_modification.shape)\n",
    "print(df_Tcms_modification['patient_id'].nunique())\n",
    "print(df_Tcms_modification['case_no'].nunique())"
   ]
  },
  {
   "cell_type": "code",
   "execution_count": 154,
   "metadata": {},
   "outputs": [
    {
     "data": {
      "text/html": [
       "<div>\n",
       "<style scoped>\n",
       "    .dataframe tbody tr th:only-of-type {\n",
       "        vertical-align: middle;\n",
       "    }\n",
       "\n",
       "    .dataframe tbody tr th {\n",
       "        vertical-align: top;\n",
       "    }\n",
       "\n",
       "    .dataframe thead th {\n",
       "        text-align: right;\n",
       "    }\n",
       "</style>\n",
       "<table border=\"1\" class=\"dataframe\">\n",
       "  <thead>\n",
       "    <tr style=\"text-align: right;\">\n",
       "      <th></th>\n",
       "      <th>patient_id</th>\n",
       "      <th>case_no</th>\n",
       "      <th>long_d_order</th>\n",
       "      <th>drug_name</th>\n",
       "      <th>drug_spec</th>\n",
       "      <th>dosage</th>\n",
       "      <th>frequency</th>\n",
       "      <th>start_datetime</th>\n",
       "      <th>end_datetime</th>\n",
       "      <th>statusdesc</th>\n",
       "      <th>日剂量</th>\n",
       "      <th>start_date</th>\n",
       "      <th>end_date</th>\n",
       "      <th>分裂日期</th>\n",
       "      <th>起始标签</th>\n",
       "      <th>时间标签</th>\n",
       "    </tr>\n",
       "  </thead>\n",
       "  <tbody>\n",
       "    <tr>\n",
       "      <th>0</th>\n",
       "      <td>7406367</td>\n",
       "      <td>3964305</td>\n",
       "      <td>1</td>\n",
       "      <td>他克莫司胶囊(普乐可复)[0.5mg*50粒]</td>\n",
       "      <td>0.5mg*50粒</td>\n",
       "      <td>1</td>\n",
       "      <td>2</td>\n",
       "      <td>2018-07-10 21:44:10</td>\n",
       "      <td>2018-07-16 18:13:43</td>\n",
       "      <td>停止</td>\n",
       "      <td>1.0</td>\n",
       "      <td>2018-07-10</td>\n",
       "      <td>2018-07-16</td>\n",
       "      <td>2018-07-10</td>\n",
       "      <td>起始</td>\n",
       "      <td>1</td>\n",
       "    </tr>\n",
       "    <tr>\n",
       "      <th>1</th>\n",
       "      <td>7406367</td>\n",
       "      <td>3964305</td>\n",
       "      <td>1</td>\n",
       "      <td>他克莫司胶囊(普乐可复)[0.5mg*50粒]</td>\n",
       "      <td>0.5mg*50粒</td>\n",
       "      <td>1</td>\n",
       "      <td>2</td>\n",
       "      <td>2018-07-10 21:44:10</td>\n",
       "      <td>2018-07-16 18:13:43</td>\n",
       "      <td>停止</td>\n",
       "      <td>2.0</td>\n",
       "      <td>2018-07-10</td>\n",
       "      <td>2018-07-16</td>\n",
       "      <td>2018-07-11</td>\n",
       "      <td>期间</td>\n",
       "      <td>1</td>\n",
       "    </tr>\n",
       "    <tr>\n",
       "      <th>2</th>\n",
       "      <td>7406367</td>\n",
       "      <td>3964305</td>\n",
       "      <td>1</td>\n",
       "      <td>他克莫司胶囊(普乐可复)[0.5mg*50粒]</td>\n",
       "      <td>0.5mg*50粒</td>\n",
       "      <td>1</td>\n",
       "      <td>2</td>\n",
       "      <td>2018-07-10 21:44:10</td>\n",
       "      <td>2018-07-16 18:13:43</td>\n",
       "      <td>停止</td>\n",
       "      <td>2.0</td>\n",
       "      <td>2018-07-10</td>\n",
       "      <td>2018-07-16</td>\n",
       "      <td>2018-07-12</td>\n",
       "      <td>期间</td>\n",
       "      <td>1</td>\n",
       "    </tr>\n",
       "    <tr>\n",
       "      <th>3</th>\n",
       "      <td>7406367</td>\n",
       "      <td>3964305</td>\n",
       "      <td>1</td>\n",
       "      <td>他克莫司胶囊(普乐可复)[0.5mg*50粒]</td>\n",
       "      <td>0.5mg*50粒</td>\n",
       "      <td>1</td>\n",
       "      <td>2</td>\n",
       "      <td>2018-07-10 21:44:10</td>\n",
       "      <td>2018-07-16 18:13:43</td>\n",
       "      <td>停止</td>\n",
       "      <td>2.0</td>\n",
       "      <td>2018-07-10</td>\n",
       "      <td>2018-07-16</td>\n",
       "      <td>2018-07-13</td>\n",
       "      <td>期间</td>\n",
       "      <td>1</td>\n",
       "    </tr>\n",
       "    <tr>\n",
       "      <th>4</th>\n",
       "      <td>7406367</td>\n",
       "      <td>3964305</td>\n",
       "      <td>1</td>\n",
       "      <td>他克莫司胶囊(普乐可复)[0.5mg*50粒]</td>\n",
       "      <td>0.5mg*50粒</td>\n",
       "      <td>1</td>\n",
       "      <td>2</td>\n",
       "      <td>2018-07-10 21:44:10</td>\n",
       "      <td>2018-07-16 18:13:43</td>\n",
       "      <td>停止</td>\n",
       "      <td>2.0</td>\n",
       "      <td>2018-07-10</td>\n",
       "      <td>2018-07-16</td>\n",
       "      <td>2018-07-14</td>\n",
       "      <td>期间</td>\n",
       "      <td>1</td>\n",
       "    </tr>\n",
       "  </tbody>\n",
       "</table>\n",
       "</div>"
      ],
      "text/plain": [
       "  patient_id  case_no long_d_order                drug_name  drug_spec dosage  \\\n",
       "0    7406367  3964305            1  他克莫司胶囊(普乐可复)[0.5mg*50粒]  0.5mg*50粒      1   \n",
       "1    7406367  3964305            1  他克莫司胶囊(普乐可复)[0.5mg*50粒]  0.5mg*50粒      1   \n",
       "2    7406367  3964305            1  他克莫司胶囊(普乐可复)[0.5mg*50粒]  0.5mg*50粒      1   \n",
       "3    7406367  3964305            1  他克莫司胶囊(普乐可复)[0.5mg*50粒]  0.5mg*50粒      1   \n",
       "4    7406367  3964305            1  他克莫司胶囊(普乐可复)[0.5mg*50粒]  0.5mg*50粒      1   \n",
       "\n",
       "  frequency      start_datetime        end_datetime statusdesc  日剂量  \\\n",
       "0         2 2018-07-10 21:44:10 2018-07-16 18:13:43         停止  1.0   \n",
       "1         2 2018-07-10 21:44:10 2018-07-16 18:13:43         停止  2.0   \n",
       "2         2 2018-07-10 21:44:10 2018-07-16 18:13:43         停止  2.0   \n",
       "3         2 2018-07-10 21:44:10 2018-07-16 18:13:43         停止  2.0   \n",
       "4         2 2018-07-10 21:44:10 2018-07-16 18:13:43         停止  2.0   \n",
       "\n",
       "   start_date    end_date        分裂日期 起始标签  时间标签  \n",
       "0  2018-07-10  2018-07-16  2018-07-10   起始     1  \n",
       "1  2018-07-10  2018-07-16  2018-07-11   期间     1  \n",
       "2  2018-07-10  2018-07-16  2018-07-12   期间     1  \n",
       "3  2018-07-10  2018-07-16  2018-07-13   期间     1  \n",
       "4  2018-07-10  2018-07-16  2018-07-14   期间     1  "
      ]
     },
     "execution_count": 154,
     "metadata": {},
     "output_type": "execute_result"
    }
   ],
   "source": [
    "df_Tcms_modification.head()"
   ]
  },
  {
   "cell_type": "code",
   "execution_count": 155,
   "metadata": {},
   "outputs": [],
   "source": [
    "df_Tcms_modification.to_excel(project_path+'/data/processed_data/df_2.1.4.8_调整日剂量.xlsx')"
   ]
  },
  {
   "cell_type": "code",
   "execution_count": 156,
   "metadata": {},
   "outputs": [],
   "source": [
    "#### 用药稳态筛选"
   ]
  },
  {
   "cell_type": "code",
   "execution_count": 157,
   "metadata": {},
   "outputs": [],
   "source": [
    "# df_Tcms_steady=df_Tcms_modification.copy()\n",
    "# # 到稳态血药浓度（同一剂量至少连续服用3天)\n",
    "# temp_list=[]\n",
    "# for i in df_Tcms_steady['case_no'].unique():\n",
    "#     print(i)\n",
    "#     temp=df_Tcms_steady[df_Tcms_steady['case_no']==i]\n",
    "#     temp=temp.reset_index(drop=True)\n",
    "#     j=0\n",
    "#     while j < temp.shape[0]:\n",
    "# #         print(j)\n",
    "#         # 连续服药3天，tdm达到稳态。1.剂量连续3天；2. 时间连续3天\n",
    "#         dosage_judge=temp.loc[j,'日剂量']    \n",
    "#         # 1. 剂量判断\n",
    "#         break_bool=False\n",
    "#         for k in range(j+1,temp.shape[0]):\n",
    "#             differ = (pd.to_datetime(temp.loc[k,'分裂日期'])-pd.to_datetime(temp.loc[k-1,'分裂日期'])).days\n",
    "#             if dosage_judge != temp.loc[k,'日剂量'] or differ != 1:\n",
    "#                 # 判断是否中断\n",
    "#                 break_bool=True\n",
    "#                 break\n",
    "#         # 是否是最后一天\n",
    "#         if k != temp.shape[0]-1:\n",
    "#             # 是否是稳态\n",
    "#             if k-1-j>=2:\n",
    "#                 temp_list.append(temp.loc[j:k-1,])\n",
    "#             j=k\n",
    "#             continue\n",
    "#         else:\n",
    "#             # 最后一天是否中断\n",
    "#             if break_bool:\n",
    "#                 # 是否是稳态\n",
    "#                 if k-1-j>=2:\n",
    "#                     temp_list.append(temp.loc[j:k-1,])\n",
    "#             else:\n",
    "#                 if k-j >=2:\n",
    "#                     temp_list.append(temp.loc[j:k,])\n",
    "#             j=k+1\n",
    "\n",
    "# # list转换为DataFrame\n",
    "# df_Tcms_steady = pd.concat(temp_list,axis=0).reset_index(drop=True)\n",
    "# del temp_list\n",
    "\n",
    "# print(df_Tcms_steady.shape)\n",
    "# print(df_Tcms_steady['patient_id'].nunique())\n",
    "# print(df_Tcms_steady['case_no'].nunique())\n",
    "\n",
    "# df_Tcms_steady.head()\n",
    "\n",
    "# df_Tcms_steady.to_excel(project_path+'/data/processed_data/df_2.1.4.7_用药稳态筛选.xlsx')"
   ]
  },
  {
   "cell_type": "markdown",
   "metadata": {},
   "source": [
    "## 排除标准"
   ]
  },
  {
   "cell_type": "code",
   "execution_count": 158,
   "metadata": {},
   "outputs": [
    {
     "data": {
      "text/plain": [
       "patient_id        False\n",
       "case_no           False\n",
       "long_d_order      False\n",
       "drug_name         False\n",
       "drug_spec         False\n",
       "dosage            False\n",
       "frequency         False\n",
       "start_datetime    False\n",
       "end_datetime      False\n",
       "statusdesc        False\n",
       "日剂量               False\n",
       "start_date        False\n",
       "end_date          False\n",
       "分裂日期              False\n",
       "起始标签              False\n",
       "时间标签              False\n",
       "dtype: bool"
      ]
     },
     "execution_count": 158,
     "metadata": {},
     "output_type": "execute_result"
    }
   ],
   "source": [
    "# 数据严重缺失（如患者ID、主要研究结局等\n",
    "df_Tcms_modification.isnull().any()"
   ]
  },
  {
   "cell_type": "markdown",
   "metadata": {},
   "source": [
    "# 合并人口学特征"
   ]
  },
  {
   "cell_type": "markdown",
   "metadata": {},
   "source": [
    "## 合并人口学信息"
   ]
  },
  {
   "cell_type": "code",
   "execution_count": 159,
   "metadata": {},
   "outputs": [],
   "source": [
    "# 取 patient_id和case_no\n",
    "df_popu=df_Tcms_modification[['patient_id','case_no']]"
   ]
  },
  {
   "cell_type": "code",
   "execution_count": 160,
   "metadata": {},
   "outputs": [
    {
     "name": "stdout",
     "output_type": "stream",
     "text": [
      "<class 'pandas.core.frame.DataFrame'>\n",
      "RangeIndex: 1136 entries, 0 to 1135\n",
      "Data columns (total 2 columns):\n",
      " #   Column      Non-Null Count  Dtype \n",
      "---  ------      --------------  ----- \n",
      " 0   patient_id  1136 non-null   int32 \n",
      " 1   case_no     1136 non-null   object\n",
      "dtypes: int32(1), object(1)\n",
      "memory usage: 13.4+ KB\n"
     ]
    },
    {
     "name": "stderr",
     "output_type": "stream",
     "text": [
      "D:\\Anaconda3\\lib\\site-packages\\ipykernel_launcher.py:1: SettingWithCopyWarning: \n",
      "A value is trying to be set on a copy of a slice from a DataFrame.\n",
      "Try using .loc[row_indexer,col_indexer] = value instead\n",
      "\n",
      "See the caveats in the documentation: https://pandas.pydata.org/pandas-docs/stable/user_guide/indexing.html#returning-a-view-versus-a-copy\n",
      "  \"\"\"Entry point for launching an IPython kernel.\n"
     ]
    }
   ],
   "source": [
    "df_popu['patient_id']=df_popu['patient_id'].astype('int')\n",
    "df_popu.info()"
   ]
  },
  {
   "cell_type": "code",
   "execution_count": 161,
   "metadata": {},
   "outputs": [
    {
     "name": "stdout",
     "output_type": "stream",
     "text": [
      "<class 'pandas.core.frame.DataFrame'>\n",
      "RangeIndex: 8510 entries, 0 to 8509\n",
      "Data columns (total 2 columns):\n",
      " #   Column      Non-Null Count  Dtype\n",
      "---  ------      --------------  -----\n",
      " 0   patient_id  8510 non-null   int64\n",
      " 1   gender      8510 non-null   int64\n",
      "dtypes: int64(2)\n",
      "memory usage: 133.1 KB\n"
     ]
    }
   ],
   "source": [
    "df_gender.info()"
   ]
  },
  {
   "cell_type": "code",
   "execution_count": 162,
   "metadata": {},
   "outputs": [],
   "source": [
    "# merge gender\n",
    "df_popu=pd.merge(df_popu,df_gender,on=['patient_id'],how='left')"
   ]
  },
  {
   "cell_type": "code",
   "execution_count": 163,
   "metadata": {},
   "outputs": [
    {
     "name": "stdout",
     "output_type": "stream",
     "text": [
      "<class 'pandas.core.frame.DataFrame'>\n",
      "RangeIndex: 1759 entries, 0 to 1758\n",
      "Data columns (total 3 columns):\n",
      " #   Column      Non-Null Count  Dtype\n",
      "---  ------      --------------  -----\n",
      " 0   patient_id  1759 non-null   int64\n",
      " 1   case_no     1759 non-null   int64\n",
      " 2   age         1759 non-null   int64\n",
      "dtypes: int64(3)\n",
      "memory usage: 41.4 KB\n"
     ]
    }
   ],
   "source": [
    "df_age.info()"
   ]
  },
  {
   "cell_type": "code",
   "execution_count": 164,
   "metadata": {},
   "outputs": [],
   "source": [
    "# merge age\n",
    "df_age_simple=df_age[['case_no','age']]\n",
    "df_popu['case_no']=df_popu['case_no'].astype('int')\n",
    "df_popu=pd.merge(df_popu,df_age_simple,on=['case_no'],how='left')"
   ]
  },
  {
   "cell_type": "code",
   "execution_count": 165,
   "metadata": {},
   "outputs": [],
   "source": [
    "# merge height\n",
    "df_height_simple=df_height[['case_no','record_content']]\n",
    "df_height_simple=df_height_simple.rename(columns={'record_content':'身高'})\n",
    "df_height_simple['身高']=df_height_simple['身高'].astype('float')\n",
    "df_popu=pd.merge(df_popu,df_height_simple,on=['case_no'],how='left')"
   ]
  },
  {
   "cell_type": "code",
   "execution_count": 166,
   "metadata": {},
   "outputs": [],
   "source": [
    "# merge weight\n",
    "df_weight_simple=df_weight[['case_no','record_content']]\n",
    "df_weight_simple=df_weight_simple.rename(columns={'record_content':'体重'})\n",
    "df_weight_simple['体重']=df_weight_simple['体重'].astype('float')\n",
    "df_popu=pd.merge(df_popu,df_weight_simple,on=['case_no'],how='left')"
   ]
  },
  {
   "cell_type": "code",
   "execution_count": 167,
   "metadata": {},
   "outputs": [
    {
     "name": "stdout",
     "output_type": "stream",
     "text": [
      "<class 'pandas.core.frame.DataFrame'>\n",
      "Int64Index: 5016 entries, 69 to 342330\n",
      "Data columns (total 2 columns):\n",
      " #   Column   Non-Null Count  Dtype  \n",
      "---  ------   --------------  -----  \n",
      " 0   case_no  5016 non-null   int64  \n",
      " 1   体重       5016 non-null   float64\n",
      "dtypes: float64(1), int64(1)\n",
      "memory usage: 117.6 KB\n"
     ]
    }
   ],
   "source": [
    "df_weight_simple.info()"
   ]
  },
  {
   "cell_type": "code",
   "execution_count": 168,
   "metadata": {},
   "outputs": [
    {
     "data": {
      "text/html": [
       "<div>\n",
       "<style scoped>\n",
       "    .dataframe tbody tr th:only-of-type {\n",
       "        vertical-align: middle;\n",
       "    }\n",
       "\n",
       "    .dataframe tbody tr th {\n",
       "        vertical-align: top;\n",
       "    }\n",
       "\n",
       "    .dataframe thead th {\n",
       "        text-align: right;\n",
       "    }\n",
       "</style>\n",
       "<table border=\"1\" class=\"dataframe\">\n",
       "  <thead>\n",
       "    <tr style=\"text-align: right;\">\n",
       "      <th></th>\n",
       "      <th>patient_id</th>\n",
       "      <th>case_no</th>\n",
       "      <th>gender</th>\n",
       "      <th>age</th>\n",
       "      <th>身高</th>\n",
       "      <th>体重</th>\n",
       "    </tr>\n",
       "  </thead>\n",
       "  <tbody>\n",
       "    <tr>\n",
       "      <th>0</th>\n",
       "      <td>7406367</td>\n",
       "      <td>3964305</td>\n",
       "      <td>1</td>\n",
       "      <td>26</td>\n",
       "      <td>178.0</td>\n",
       "      <td>117.6</td>\n",
       "    </tr>\n",
       "    <tr>\n",
       "      <th>1</th>\n",
       "      <td>7406367</td>\n",
       "      <td>3964305</td>\n",
       "      <td>1</td>\n",
       "      <td>26</td>\n",
       "      <td>178.0</td>\n",
       "      <td>115.0</td>\n",
       "    </tr>\n",
       "    <tr>\n",
       "      <th>2</th>\n",
       "      <td>7406367</td>\n",
       "      <td>3964305</td>\n",
       "      <td>1</td>\n",
       "      <td>26</td>\n",
       "      <td>178.0</td>\n",
       "      <td>117.5</td>\n",
       "    </tr>\n",
       "    <tr>\n",
       "      <th>3</th>\n",
       "      <td>7406367</td>\n",
       "      <td>3964305</td>\n",
       "      <td>1</td>\n",
       "      <td>26</td>\n",
       "      <td>178.0</td>\n",
       "      <td>117.6</td>\n",
       "    </tr>\n",
       "    <tr>\n",
       "      <th>4</th>\n",
       "      <td>7406367</td>\n",
       "      <td>3964305</td>\n",
       "      <td>1</td>\n",
       "      <td>26</td>\n",
       "      <td>178.0</td>\n",
       "      <td>115.0</td>\n",
       "    </tr>\n",
       "  </tbody>\n",
       "</table>\n",
       "</div>"
      ],
      "text/plain": [
       "   patient_id  case_no  gender  age     身高     体重\n",
       "0     7406367  3964305       1   26  178.0  117.6\n",
       "1     7406367  3964305       1   26  178.0  115.0\n",
       "2     7406367  3964305       1   26  178.0  117.5\n",
       "3     7406367  3964305       1   26  178.0  117.6\n",
       "4     7406367  3964305       1   26  178.0  115.0"
      ]
     },
     "execution_count": 168,
     "metadata": {},
     "output_type": "execute_result"
    }
   ],
   "source": [
    "df_popu.head()"
   ]
  },
  {
   "cell_type": "code",
   "execution_count": 169,
   "metadata": {},
   "outputs": [
    {
     "name": "stdout",
     "output_type": "stream",
     "text": [
      "(6070, 6)\n",
      "99\n"
     ]
    }
   ],
   "source": [
    "print(df_popu.shape)\n",
    "print(df_popu['patient_id'].nunique())"
   ]
  },
  {
   "cell_type": "code",
   "execution_count": 170,
   "metadata": {},
   "outputs": [],
   "source": [
    "# 删除重复数据\n",
    "df_popu=df_popu.drop_duplicates(['patient_id','case_no','gender'])"
   ]
  },
  {
   "cell_type": "code",
   "execution_count": 171,
   "metadata": {},
   "outputs": [
    {
     "name": "stdout",
     "output_type": "stream",
     "text": [
      "(126, 6)\n",
      "99\n",
      "126\n"
     ]
    }
   ],
   "source": [
    "print(df_popu.shape)\n",
    "print(df_popu['patient_id'].nunique())\n",
    "print(df_popu.case_no.nunique())"
   ]
  },
  {
   "cell_type": "code",
   "execution_count": 172,
   "metadata": {},
   "outputs": [],
   "source": [
    "df_popu.to_excel(project_path+'/data/processed_data/df_3.1_popu.xlsx')"
   ]
  },
  {
   "cell_type": "markdown",
   "metadata": {},
   "source": [
    "## 计算BMI"
   ]
  },
  {
   "cell_type": "code",
   "execution_count": 173,
   "metadata": {},
   "outputs": [],
   "source": [
    "BMI_list=[round(x*10000/y/y,2) for (x,y) in zip(df_popu['体重'].astype('float').tolist(),df_popu['身高'].astype('float').tolist())]"
   ]
  },
  {
   "cell_type": "code",
   "execution_count": 174,
   "metadata": {},
   "outputs": [
    {
     "name": "stdout",
     "output_type": "stream",
     "text": [
      "126\n",
      "(126, 6)\n"
     ]
    }
   ],
   "source": [
    "print(len(BMI_list))\n",
    "print(df_popu.shape)"
   ]
  },
  {
   "cell_type": "code",
   "execution_count": 175,
   "metadata": {},
   "outputs": [],
   "source": [
    "df_popu['BMI']=np.array(BMI_list)"
   ]
  },
  {
   "cell_type": "code",
   "execution_count": 176,
   "metadata": {},
   "outputs": [
    {
     "data": {
      "text/html": [
       "<div>\n",
       "<style scoped>\n",
       "    .dataframe tbody tr th:only-of-type {\n",
       "        vertical-align: middle;\n",
       "    }\n",
       "\n",
       "    .dataframe tbody tr th {\n",
       "        vertical-align: top;\n",
       "    }\n",
       "\n",
       "    .dataframe thead th {\n",
       "        text-align: right;\n",
       "    }\n",
       "</style>\n",
       "<table border=\"1\" class=\"dataframe\">\n",
       "  <thead>\n",
       "    <tr style=\"text-align: right;\">\n",
       "      <th></th>\n",
       "      <th>patient_id</th>\n",
       "      <th>case_no</th>\n",
       "      <th>gender</th>\n",
       "      <th>age</th>\n",
       "      <th>身高</th>\n",
       "      <th>体重</th>\n",
       "      <th>BMI</th>\n",
       "    </tr>\n",
       "  </thead>\n",
       "  <tbody>\n",
       "    <tr>\n",
       "      <th>0</th>\n",
       "      <td>7406367</td>\n",
       "      <td>3964305</td>\n",
       "      <td>1</td>\n",
       "      <td>26</td>\n",
       "      <td>178.0</td>\n",
       "      <td>117.6</td>\n",
       "      <td>37.12</td>\n",
       "    </tr>\n",
       "    <tr>\n",
       "      <th>21</th>\n",
       "      <td>3106885</td>\n",
       "      <td>4054467</td>\n",
       "      <td>0</td>\n",
       "      <td>37</td>\n",
       "      <td>158.0</td>\n",
       "      <td>52.0</td>\n",
       "      <td>20.83</td>\n",
       "    </tr>\n",
       "    <tr>\n",
       "      <th>25</th>\n",
       "      <td>7455055</td>\n",
       "      <td>4068971</td>\n",
       "      <td>0</td>\n",
       "      <td>26</td>\n",
       "      <td>156.5</td>\n",
       "      <td>49.2</td>\n",
       "      <td>20.09</td>\n",
       "    </tr>\n",
       "    <tr>\n",
       "      <th>53</th>\n",
       "      <td>6453342</td>\n",
       "      <td>4225762</td>\n",
       "      <td>1</td>\n",
       "      <td>66</td>\n",
       "      <td>170.0</td>\n",
       "      <td>NaN</td>\n",
       "      <td>NaN</td>\n",
       "    </tr>\n",
       "    <tr>\n",
       "      <th>60</th>\n",
       "      <td>5695822</td>\n",
       "      <td>4301307</td>\n",
       "      <td>1</td>\n",
       "      <td>43</td>\n",
       "      <td>158.5</td>\n",
       "      <td>NaN</td>\n",
       "      <td>NaN</td>\n",
       "    </tr>\n",
       "    <tr>\n",
       "      <th>...</th>\n",
       "      <td>...</td>\n",
       "      <td>...</td>\n",
       "      <td>...</td>\n",
       "      <td>...</td>\n",
       "      <td>...</td>\n",
       "      <td>...</td>\n",
       "      <td>...</td>\n",
       "    </tr>\n",
       "    <tr>\n",
       "      <th>5982</th>\n",
       "      <td>8329779</td>\n",
       "      <td>9662993</td>\n",
       "      <td>0</td>\n",
       "      <td>47</td>\n",
       "      <td>156.5</td>\n",
       "      <td>57.2</td>\n",
       "      <td>23.35</td>\n",
       "    </tr>\n",
       "    <tr>\n",
       "      <th>5986</th>\n",
       "      <td>8325446</td>\n",
       "      <td>9669418</td>\n",
       "      <td>1</td>\n",
       "      <td>41</td>\n",
       "      <td>173.5</td>\n",
       "      <td>71.3</td>\n",
       "      <td>23.69</td>\n",
       "    </tr>\n",
       "    <tr>\n",
       "      <th>6007</th>\n",
       "      <td>5623241</td>\n",
       "      <td>9671945</td>\n",
       "      <td>1</td>\n",
       "      <td>50</td>\n",
       "      <td>177.0</td>\n",
       "      <td>62.0</td>\n",
       "      <td>19.79</td>\n",
       "    </tr>\n",
       "    <tr>\n",
       "      <th>6021</th>\n",
       "      <td>8059463</td>\n",
       "      <td>9745132</td>\n",
       "      <td>0</td>\n",
       "      <td>35</td>\n",
       "      <td>163.0</td>\n",
       "      <td>59.0</td>\n",
       "      <td>22.21</td>\n",
       "    </tr>\n",
       "    <tr>\n",
       "      <th>6026</th>\n",
       "      <td>7445835</td>\n",
       "      <td>9812581</td>\n",
       "      <td>0</td>\n",
       "      <td>12</td>\n",
       "      <td>150.4</td>\n",
       "      <td>45.4</td>\n",
       "      <td>20.07</td>\n",
       "    </tr>\n",
       "  </tbody>\n",
       "</table>\n",
       "<p>126 rows × 7 columns</p>\n",
       "</div>"
      ],
      "text/plain": [
       "      patient_id  case_no  gender  age     身高     体重    BMI\n",
       "0        7406367  3964305       1   26  178.0  117.6  37.12\n",
       "21       3106885  4054467       0   37  158.0   52.0  20.83\n",
       "25       7455055  4068971       0   26  156.5   49.2  20.09\n",
       "53       6453342  4225762       1   66  170.0    NaN    NaN\n",
       "60       5695822  4301307       1   43  158.5    NaN    NaN\n",
       "...          ...      ...     ...  ...    ...    ...    ...\n",
       "5982     8329779  9662993       0   47  156.5   57.2  23.35\n",
       "5986     8325446  9669418       1   41  173.5   71.3  23.69\n",
       "6007     5623241  9671945       1   50  177.0   62.0  19.79\n",
       "6021     8059463  9745132       0   35  163.0   59.0  22.21\n",
       "6026     7445835  9812581       0   12  150.4   45.4  20.07\n",
       "\n",
       "[126 rows x 7 columns]"
      ]
     },
     "execution_count": 176,
     "metadata": {},
     "output_type": "execute_result"
    }
   ],
   "source": [
    "df_popu"
   ]
  },
  {
   "cell_type": "markdown",
   "metadata": {},
   "source": [
    "## 并入人口学特征"
   ]
  },
  {
   "cell_type": "code",
   "execution_count": 177,
   "metadata": {},
   "outputs": [],
   "source": [
    "df_popu=df_popu[['case_no','gender','age','身高','体重','BMI']]"
   ]
  },
  {
   "cell_type": "code",
   "execution_count": 178,
   "metadata": {},
   "outputs": [
    {
     "name": "stdout",
     "output_type": "stream",
     "text": [
      "(1136, 16)\n",
      "99\n",
      "126\n"
     ]
    }
   ],
   "source": [
    "print(df_Tcms_modification.shape)\n",
    "print(df_Tcms_modification['patient_id'].nunique())\n",
    "print(df_Tcms_modification['case_no'].nunique())"
   ]
  },
  {
   "cell_type": "code",
   "execution_count": 179,
   "metadata": {},
   "outputs": [
    {
     "name": "stdout",
     "output_type": "stream",
     "text": [
      "<class 'pandas.core.frame.DataFrame'>\n",
      "RangeIndex: 1136 entries, 0 to 1135\n",
      "Data columns (total 16 columns):\n",
      " #   Column          Non-Null Count  Dtype         \n",
      "---  ------          --------------  -----         \n",
      " 0   patient_id      1136 non-null   object        \n",
      " 1   case_no         1136 non-null   object        \n",
      " 2   long_d_order    1136 non-null   object        \n",
      " 3   drug_name       1136 non-null   object        \n",
      " 4   drug_spec       1136 non-null   object        \n",
      " 5   dosage          1136 non-null   object        \n",
      " 6   frequency       1136 non-null   object        \n",
      " 7   start_datetime  1136 non-null   datetime64[ns]\n",
      " 8   end_datetime    1136 non-null   datetime64[ns]\n",
      " 9   statusdesc      1136 non-null   object        \n",
      " 10  日剂量             1136 non-null   float64       \n",
      " 11  start_date      1136 non-null   object        \n",
      " 12  end_date        1136 non-null   object        \n",
      " 13  分裂日期            1136 non-null   object        \n",
      " 14  起始标签            1136 non-null   object        \n",
      " 15  时间标签            1136 non-null   int64         \n",
      "dtypes: datetime64[ns](2), float64(1), int64(1), object(12)\n",
      "memory usage: 142.1+ KB\n"
     ]
    }
   ],
   "source": [
    "df_Tcms_modification.info()"
   ]
  },
  {
   "cell_type": "code",
   "execution_count": 180,
   "metadata": {},
   "outputs": [],
   "source": [
    "df_Tcms_modification['case_no']=df_Tcms_modification['case_no'].astype('int')\n",
    "df_Tcms_popu=pd.merge(df_Tcms_modification,df_popu,on=['case_no'],how='left')"
   ]
  },
  {
   "cell_type": "code",
   "execution_count": 181,
   "metadata": {},
   "outputs": [
    {
     "name": "stdout",
     "output_type": "stream",
     "text": [
      "(1136, 21)\n",
      "99\n",
      "126\n"
     ]
    }
   ],
   "source": [
    "print(df_Tcms_popu.shape)\n",
    "print(df_Tcms_popu['patient_id'].nunique())\n",
    "print(df_Tcms_popu['case_no'].nunique())"
   ]
  },
  {
   "cell_type": "code",
   "execution_count": 182,
   "metadata": {},
   "outputs": [],
   "source": [
    "# 合并人口学特征\n",
    "df_Tcms_popu.to_excel(project_path+'/data/processed_data/df_3.3_并入人口学特征.xlsx')"
   ]
  },
  {
   "cell_type": "markdown",
   "metadata": {},
   "source": [
    "# 基础疾病"
   ]
  },
  {
   "cell_type": "code",
   "execution_count": 183,
   "metadata": {},
   "outputs": [],
   "source": [
    "# 提取高血压、糖尿病、肝炎"
   ]
  },
  {
   "cell_type": "code",
   "execution_count": 184,
   "metadata": {},
   "outputs": [
    {
     "name": "stdout",
     "output_type": "stream",
     "text": [
      "<class 'pandas.core.frame.DataFrame'>\n",
      "Int64Index: 1136 entries, 0 to 1135\n",
      "Data columns (total 21 columns):\n",
      " #   Column          Non-Null Count  Dtype         \n",
      "---  ------          --------------  -----         \n",
      " 0   patient_id      1136 non-null   object        \n",
      " 1   case_no         1136 non-null   int32         \n",
      " 2   long_d_order    1136 non-null   object        \n",
      " 3   drug_name       1136 non-null   object        \n",
      " 4   drug_spec       1136 non-null   object        \n",
      " 5   dosage          1136 non-null   object        \n",
      " 6   frequency       1136 non-null   object        \n",
      " 7   start_datetime  1136 non-null   datetime64[ns]\n",
      " 8   end_datetime    1136 non-null   datetime64[ns]\n",
      " 9   statusdesc      1136 non-null   object        \n",
      " 10  日剂量             1136 non-null   float64       \n",
      " 11  start_date      1136 non-null   object        \n",
      " 12  end_date        1136 non-null   object        \n",
      " 13  分裂日期            1136 non-null   object        \n",
      " 14  起始标签            1136 non-null   object        \n",
      " 15  时间标签            1136 non-null   int64         \n",
      " 16  gender          1136 non-null   int64         \n",
      " 17  age             1136 non-null   int64         \n",
      " 18  身高              1064 non-null   float64       \n",
      " 19  体重              1110 non-null   float64       \n",
      " 20  BMI             1038 non-null   float64       \n",
      "dtypes: datetime64[ns](2), float64(4), int32(1), int64(3), object(11)\n",
      "memory usage: 190.8+ KB\n"
     ]
    }
   ],
   "source": [
    "df_Tcms_popu.info()"
   ]
  },
  {
   "cell_type": "code",
   "execution_count": 185,
   "metadata": {},
   "outputs": [],
   "source": [
    "# 高血压、糖尿病\n",
    "df_Tcms_history=df_Tcms_popu.copy()\n",
    "df_Tcms_history['patient_id']=df_Tcms_history['patient_id'].astype('int')\n",
    "# 提取高血压\n",
    "df_EH=df_diagnostic_record[df_diagnostic_record['diagnostic_content'].str.contains('高血压')]\n",
    "# 提取糖尿病\n",
    "df_DM=df_diagnostic_record[df_diagnostic_record['diagnostic_content'].str.contains('糖尿病')]\n",
    "# 提取肝炎\n",
    "df_HCA=df_diagnostic_record[df_diagnostic_record['diagnostic_content'].str.contains('肝炎')]"
   ]
  },
  {
   "cell_type": "code",
   "execution_count": 186,
   "metadata": {},
   "outputs": [],
   "source": [
    "# df_basic_disease=pd.concat([df_EH,df_DM],axis=0)\n",
    "# df_basic_disease=pd.concat([df_basic_disease,df_bomd],axis=0)\n",
    "# df_basic_disease=pd.concat([df_basic_disease,df_HCA],axis=0)\n",
    "# df_basic_disease=pd.concat([df_basic_disease,df_NEP],axis=0)"
   ]
  },
  {
   "cell_type": "code",
   "execution_count": 187,
   "metadata": {},
   "outputs": [],
   "source": [
    "# 合并基础疾病\n",
    "df_Tcms_history['高血压']=df_Tcms_history['patient_id'].apply(lambda x: 1 if x in df_EH.patient_id.unique() else 0)\n",
    "df_Tcms_history['糖尿病']=df_Tcms_history['patient_id'].apply(lambda x: 1 if x in df_DM.patient_id.unique() else 0)\n",
    "df_Tcms_history['肝炎']=df_Tcms_history['patient_id'].apply(lambda x: 1 if x in df_HCA.patient_id.unique() else 0)"
   ]
  },
  {
   "cell_type": "code",
   "execution_count": 188,
   "metadata": {},
   "outputs": [
    {
     "name": "stdout",
     "output_type": "stream",
     "text": [
      "(1136, 24)\n",
      "99\n",
      "126\n"
     ]
    }
   ],
   "source": [
    "print(df_Tcms_history.shape)\n",
    "print(df_Tcms_history['patient_id'].nunique())\n",
    "print(df_Tcms_history['case_no'].nunique())"
   ]
  },
  {
   "cell_type": "code",
   "execution_count": 189,
   "metadata": {},
   "outputs": [
    {
     "data": {
      "text/html": [
       "<div>\n",
       "<style scoped>\n",
       "    .dataframe tbody tr th:only-of-type {\n",
       "        vertical-align: middle;\n",
       "    }\n",
       "\n",
       "    .dataframe tbody tr th {\n",
       "        vertical-align: top;\n",
       "    }\n",
       "\n",
       "    .dataframe thead th {\n",
       "        text-align: right;\n",
       "    }\n",
       "</style>\n",
       "<table border=\"1\" class=\"dataframe\">\n",
       "  <thead>\n",
       "    <tr style=\"text-align: right;\">\n",
       "      <th></th>\n",
       "      <th>patient_id</th>\n",
       "      <th>case_no</th>\n",
       "      <th>long_d_order</th>\n",
       "      <th>drug_name</th>\n",
       "      <th>drug_spec</th>\n",
       "      <th>dosage</th>\n",
       "      <th>frequency</th>\n",
       "      <th>start_datetime</th>\n",
       "      <th>end_datetime</th>\n",
       "      <th>statusdesc</th>\n",
       "      <th>...</th>\n",
       "      <th>起始标签</th>\n",
       "      <th>时间标签</th>\n",
       "      <th>gender</th>\n",
       "      <th>age</th>\n",
       "      <th>身高</th>\n",
       "      <th>体重</th>\n",
       "      <th>BMI</th>\n",
       "      <th>高血压</th>\n",
       "      <th>糖尿病</th>\n",
       "      <th>肝炎</th>\n",
       "    </tr>\n",
       "  </thead>\n",
       "  <tbody>\n",
       "    <tr>\n",
       "      <th>0</th>\n",
       "      <td>7406367</td>\n",
       "      <td>3964305</td>\n",
       "      <td>1</td>\n",
       "      <td>他克莫司胶囊(普乐可复)[0.5mg*50粒]</td>\n",
       "      <td>0.5mg*50粒</td>\n",
       "      <td>1</td>\n",
       "      <td>2</td>\n",
       "      <td>2018-07-10 21:44:10</td>\n",
       "      <td>2018-07-16 18:13:43</td>\n",
       "      <td>停止</td>\n",
       "      <td>...</td>\n",
       "      <td>起始</td>\n",
       "      <td>1</td>\n",
       "      <td>1</td>\n",
       "      <td>26</td>\n",
       "      <td>178.0</td>\n",
       "      <td>117.6</td>\n",
       "      <td>37.12</td>\n",
       "      <td>1</td>\n",
       "      <td>0</td>\n",
       "      <td>0</td>\n",
       "    </tr>\n",
       "    <tr>\n",
       "      <th>1</th>\n",
       "      <td>7406367</td>\n",
       "      <td>3964305</td>\n",
       "      <td>1</td>\n",
       "      <td>他克莫司胶囊(普乐可复)[0.5mg*50粒]</td>\n",
       "      <td>0.5mg*50粒</td>\n",
       "      <td>1</td>\n",
       "      <td>2</td>\n",
       "      <td>2018-07-10 21:44:10</td>\n",
       "      <td>2018-07-16 18:13:43</td>\n",
       "      <td>停止</td>\n",
       "      <td>...</td>\n",
       "      <td>期间</td>\n",
       "      <td>1</td>\n",
       "      <td>1</td>\n",
       "      <td>26</td>\n",
       "      <td>178.0</td>\n",
       "      <td>117.6</td>\n",
       "      <td>37.12</td>\n",
       "      <td>1</td>\n",
       "      <td>0</td>\n",
       "      <td>0</td>\n",
       "    </tr>\n",
       "    <tr>\n",
       "      <th>2</th>\n",
       "      <td>7406367</td>\n",
       "      <td>3964305</td>\n",
       "      <td>1</td>\n",
       "      <td>他克莫司胶囊(普乐可复)[0.5mg*50粒]</td>\n",
       "      <td>0.5mg*50粒</td>\n",
       "      <td>1</td>\n",
       "      <td>2</td>\n",
       "      <td>2018-07-10 21:44:10</td>\n",
       "      <td>2018-07-16 18:13:43</td>\n",
       "      <td>停止</td>\n",
       "      <td>...</td>\n",
       "      <td>期间</td>\n",
       "      <td>1</td>\n",
       "      <td>1</td>\n",
       "      <td>26</td>\n",
       "      <td>178.0</td>\n",
       "      <td>117.6</td>\n",
       "      <td>37.12</td>\n",
       "      <td>1</td>\n",
       "      <td>0</td>\n",
       "      <td>0</td>\n",
       "    </tr>\n",
       "    <tr>\n",
       "      <th>3</th>\n",
       "      <td>7406367</td>\n",
       "      <td>3964305</td>\n",
       "      <td>1</td>\n",
       "      <td>他克莫司胶囊(普乐可复)[0.5mg*50粒]</td>\n",
       "      <td>0.5mg*50粒</td>\n",
       "      <td>1</td>\n",
       "      <td>2</td>\n",
       "      <td>2018-07-10 21:44:10</td>\n",
       "      <td>2018-07-16 18:13:43</td>\n",
       "      <td>停止</td>\n",
       "      <td>...</td>\n",
       "      <td>期间</td>\n",
       "      <td>1</td>\n",
       "      <td>1</td>\n",
       "      <td>26</td>\n",
       "      <td>178.0</td>\n",
       "      <td>117.6</td>\n",
       "      <td>37.12</td>\n",
       "      <td>1</td>\n",
       "      <td>0</td>\n",
       "      <td>0</td>\n",
       "    </tr>\n",
       "    <tr>\n",
       "      <th>4</th>\n",
       "      <td>7406367</td>\n",
       "      <td>3964305</td>\n",
       "      <td>1</td>\n",
       "      <td>他克莫司胶囊(普乐可复)[0.5mg*50粒]</td>\n",
       "      <td>0.5mg*50粒</td>\n",
       "      <td>1</td>\n",
       "      <td>2</td>\n",
       "      <td>2018-07-10 21:44:10</td>\n",
       "      <td>2018-07-16 18:13:43</td>\n",
       "      <td>停止</td>\n",
       "      <td>...</td>\n",
       "      <td>期间</td>\n",
       "      <td>1</td>\n",
       "      <td>1</td>\n",
       "      <td>26</td>\n",
       "      <td>178.0</td>\n",
       "      <td>117.6</td>\n",
       "      <td>37.12</td>\n",
       "      <td>1</td>\n",
       "      <td>0</td>\n",
       "      <td>0</td>\n",
       "    </tr>\n",
       "  </tbody>\n",
       "</table>\n",
       "<p>5 rows × 24 columns</p>\n",
       "</div>"
      ],
      "text/plain": [
       "   patient_id  case_no long_d_order                drug_name  drug_spec  \\\n",
       "0     7406367  3964305            1  他克莫司胶囊(普乐可复)[0.5mg*50粒]  0.5mg*50粒   \n",
       "1     7406367  3964305            1  他克莫司胶囊(普乐可复)[0.5mg*50粒]  0.5mg*50粒   \n",
       "2     7406367  3964305            1  他克莫司胶囊(普乐可复)[0.5mg*50粒]  0.5mg*50粒   \n",
       "3     7406367  3964305            1  他克莫司胶囊(普乐可复)[0.5mg*50粒]  0.5mg*50粒   \n",
       "4     7406367  3964305            1  他克莫司胶囊(普乐可复)[0.5mg*50粒]  0.5mg*50粒   \n",
       "\n",
       "  dosage frequency      start_datetime        end_datetime statusdesc  ...  \\\n",
       "0      1         2 2018-07-10 21:44:10 2018-07-16 18:13:43         停止  ...   \n",
       "1      1         2 2018-07-10 21:44:10 2018-07-16 18:13:43         停止  ...   \n",
       "2      1         2 2018-07-10 21:44:10 2018-07-16 18:13:43         停止  ...   \n",
       "3      1         2 2018-07-10 21:44:10 2018-07-16 18:13:43         停止  ...   \n",
       "4      1         2 2018-07-10 21:44:10 2018-07-16 18:13:43         停止  ...   \n",
       "\n",
       "   起始标签 时间标签 gender age     身高     体重    BMI  高血压  糖尿病  肝炎  \n",
       "0    起始    1      1  26  178.0  117.6  37.12    1    0   0  \n",
       "1    期间    1      1  26  178.0  117.6  37.12    1    0   0  \n",
       "2    期间    1      1  26  178.0  117.6  37.12    1    0   0  \n",
       "3    期间    1      1  26  178.0  117.6  37.12    1    0   0  \n",
       "4    期间    1      1  26  178.0  117.6  37.12    1    0   0  \n",
       "\n",
       "[5 rows x 24 columns]"
      ]
     },
     "execution_count": 189,
     "metadata": {},
     "output_type": "execute_result"
    }
   ],
   "source": [
    "df_Tcms_history.head()"
   ]
  },
  {
   "cell_type": "code",
   "execution_count": 190,
   "metadata": {},
   "outputs": [],
   "source": [
    "# 保存纳入标准数据\n",
    "df_Tcms_history.to_excel(project_path+'/data/processed_data/df_4.3_并入基础疾病.xlsx')"
   ]
  },
  {
   "cell_type": "markdown",
   "metadata": {},
   "source": [
    "# 并入手术时间"
   ]
  },
  {
   "cell_type": "markdown",
   "metadata": {},
   "source": [
    "## 提取肾移植手术"
   ]
  },
  {
   "cell_type": "code",
   "execution_count": 191,
   "metadata": {},
   "outputs": [],
   "source": [
    "df_surgical=pd.read_csv(project_path +'/data/raw_data/df_surgical.csv')\n",
    "if 'Unnamed: 0' in df_surgical.columns:\n",
    "    df_surgical = df_surgical.drop(['Unnamed: 0'], axis=1)"
   ]
  },
  {
   "cell_type": "code",
   "execution_count": 192,
   "metadata": {},
   "outputs": [],
   "source": [
    "# 提取肾移植手术\n",
    "df_surgical_kidney=df_surgical[df_surgical['surgery_name'].str.contains('肾') &\n",
    "                              df_surgical['surgery_name'].str.contains('移植')]"
   ]
  },
  {
   "cell_type": "code",
   "execution_count": 193,
   "metadata": {},
   "outputs": [
    {
     "name": "stdout",
     "output_type": "stream",
     "text": [
      "(146, 15)\n",
      "136\n"
     ]
    }
   ],
   "source": [
    "print(df_surgical_kidney.shape)\n",
    "print(df_surgical_kidney.patient_id.nunique())"
   ]
  },
  {
   "cell_type": "code",
   "execution_count": 194,
   "metadata": {},
   "outputs": [
    {
     "data": {
      "text/plain": [
       "array(['同种异体肾移植术', '移植肾血管造影', '移植肾探查术', '再次同种异体肾移植术', '移植肾的肾动脉血管腔内成形术',\n",
       "       '移植肾输尿管扩张术，经内窥镜', '移植肾切除术'], dtype=object)"
      ]
     },
     "execution_count": 194,
     "metadata": {},
     "output_type": "execute_result"
    }
   ],
   "source": [
    "df_surgical_kidney.surgery_name.unique()"
   ]
  },
  {
   "cell_type": "code",
   "execution_count": 195,
   "metadata": {},
   "outputs": [],
   "source": [
    "df_surgical_kidney_group=df_surgical_kidney.groupby(['patient_id','surgery_date']).first().reset_index()\n",
    "df_surgical_kidney_group=df_surgical_kidney_group[['patient_id','surgery_date']]"
   ]
  },
  {
   "cell_type": "code",
   "execution_count": 196,
   "metadata": {},
   "outputs": [
    {
     "name": "stdout",
     "output_type": "stream",
     "text": [
      "(119, 2)\n",
      "118\n"
     ]
    }
   ],
   "source": [
    "print(df_surgical_kidney_group.shape)\n",
    "print(df_surgical_kidney_group.patient_id.nunique())"
   ]
  },
  {
   "cell_type": "code",
   "execution_count": 197,
   "metadata": {},
   "outputs": [
    {
     "data": {
      "text/plain": [
       "patient_id      False\n",
       "surgery_date    False\n",
       "dtype: bool"
      ]
     },
     "execution_count": 197,
     "metadata": {},
     "output_type": "execute_result"
    }
   ],
   "source": [
    "df_surgical_kidney_group.isnull().any()"
   ]
  },
  {
   "cell_type": "code",
   "execution_count": 198,
   "metadata": {},
   "outputs": [
    {
     "data": {
      "text/html": [
       "<div>\n",
       "<style scoped>\n",
       "    .dataframe tbody tr th:only-of-type {\n",
       "        vertical-align: middle;\n",
       "    }\n",
       "\n",
       "    .dataframe tbody tr th {\n",
       "        vertical-align: top;\n",
       "    }\n",
       "\n",
       "    .dataframe thead th {\n",
       "        text-align: right;\n",
       "    }\n",
       "</style>\n",
       "<table border=\"1\" class=\"dataframe\">\n",
       "  <thead>\n",
       "    <tr style=\"text-align: right;\">\n",
       "      <th></th>\n",
       "      <th>patient_id</th>\n",
       "      <th>surgery_date</th>\n",
       "    </tr>\n",
       "  </thead>\n",
       "  <tbody>\n",
       "    <tr>\n",
       "      <th>39</th>\n",
       "      <td>7105834</td>\n",
       "      <td>2019-06-10 16:01:00</td>\n",
       "    </tr>\n",
       "  </tbody>\n",
       "</table>\n",
       "</div>"
      ],
      "text/plain": [
       "    patient_id         surgery_date\n",
       "39     7105834  2019-06-10 16:01:00"
      ]
     },
     "execution_count": 198,
     "metadata": {},
     "output_type": "execute_result"
    }
   ],
   "source": [
    "# 查看重复数据\n",
    "df_surgical_kidney_group[df_surgical_kidney_group.duplicated(subset=['patient_id'],keep='first')]"
   ]
  },
  {
   "cell_type": "code",
   "execution_count": 199,
   "metadata": {},
   "outputs": [
    {
     "name": "stdout",
     "output_type": "stream",
     "text": [
      "<class 'pandas.core.frame.DataFrame'>\n",
      "Int64Index: 146 entries, 25 to 371\n",
      "Data columns (total 15 columns):\n",
      " #   Column                  Non-Null Count  Dtype  \n",
      "---  ------                  --------------  -----  \n",
      " 0   surgical_record_id      146 non-null    object \n",
      " 1   patient_id              146 non-null    int64  \n",
      " 2   case_no                 146 non-null    int64  \n",
      " 3   surgery_date            120 non-null    object \n",
      " 4   surgery_code            146 non-null    object \n",
      " 5   surgery_name            146 non-null    object \n",
      " 6   cut_grade               109 non-null    object \n",
      " 7   doctor_code             145 non-null    object \n",
      " 8   anesthesia_way          146 non-null    object \n",
      " 9   cut_healing             0 non-null      float64\n",
      " 10  anesthesia_doctot_code  0 non-null      float64\n",
      " 11  outp_no                 0 non-null      float64\n",
      " 12  create_time             146 non-null    object \n",
      " 13  update_time             146 non-null    object \n",
      " 14  migrate_time            146 non-null    object \n",
      "dtypes: float64(3), int64(2), object(10)\n",
      "memory usage: 18.2+ KB\n"
     ]
    }
   ],
   "source": [
    "df_surgical_kidney.info()"
   ]
  },
  {
   "cell_type": "code",
   "execution_count": 200,
   "metadata": {},
   "outputs": [],
   "source": [
    "df_surgical_kidney_group.to_excel(project_path+'/data/processed_data/df_5.1_df_surgical_kidney_group.xlsx')"
   ]
  },
  {
   "cell_type": "markdown",
   "metadata": {},
   "source": [
    "## 计算术后时间"
   ]
  },
  {
   "cell_type": "code",
   "execution_count": 201,
   "metadata": {},
   "outputs": [],
   "source": [
    "## 并入肾移植手术\n",
    "df_Tcms_surgery=pd.merge(df_Tcms_history,df_surgical_kidney_group,on=['patient_id'],how='left')"
   ]
  },
  {
   "cell_type": "code",
   "execution_count": 202,
   "metadata": {},
   "outputs": [],
   "source": [
    "for i in range(df_Tcms_surgery.shape[0]):\n",
    "    if pd.notnull(df_Tcms_surgery.loc[i,'surgery_date']):\n",
    "        df_Tcms_surgery.loc[i,'术后时间']=(df_Tcms_surgery.loc[i,'start_datetime']-\n",
    "                                       pd.to_datetime(df_Tcms_surgery.loc[i,'surgery_date'])).days +1"
   ]
  },
  {
   "cell_type": "code",
   "execution_count": 203,
   "metadata": {},
   "outputs": [
    {
     "name": "stdout",
     "output_type": "stream",
     "text": [
      "(1136, 26)\n",
      "99\n"
     ]
    }
   ],
   "source": [
    "print(df_Tcms_surgery.shape)\n",
    "print(df_Tcms_surgery.patient_id.nunique())"
   ]
  },
  {
   "cell_type": "code",
   "execution_count": 204,
   "metadata": {},
   "outputs": [],
   "source": [
    "df_Tcms_surgery.to_excel(project_path+'/data/processed_data/df_5.2_Tcms_surgery.xlsx')"
   ]
  },
  {
   "cell_type": "markdown",
   "metadata": {},
   "source": [
    "# 并入基因检测数据"
   ]
  },
  {
   "cell_type": "markdown",
   "metadata": {},
   "source": [
    "## 提取他克莫司基因型"
   ]
  },
  {
   "cell_type": "code",
   "execution_count": 205,
   "metadata": {},
   "outputs": [],
   "source": [
    "df_gene=pd.read_csv(project_path +'/data/raw_data/患者他克莫司基因-型.csv')\n",
    "if 'Unnamed: 0' in df_gene.columns:\n",
    "    df_gene = df_gene.drop(['Unnamed: 0'], axis=1)"
   ]
  },
  {
   "cell_type": "code",
   "execution_count": 206,
   "metadata": {},
   "outputs": [],
   "source": [
    "# 提取患者的基因检测\n",
    "df_gene_choose=df_gene[df_gene.patient_id.isin(df_Tcms_surgery.patient_id.unique())]\n",
    "# 提取基因检测数据\n",
    "df_gene_choose=df_gene_choose.groupby(['patient_id','test_result']).first().reset_index()\n",
    "df_gene_choose=df_gene_choose[['patient_id','test_result']]"
   ]
  },
  {
   "cell_type": "code",
   "execution_count": 207,
   "metadata": {},
   "outputs": [],
   "source": [
    "df_gene_choose.rename(columns={'test_result':'基因型'},inplace=True)"
   ]
  },
  {
   "cell_type": "code",
   "execution_count": 208,
   "metadata": {},
   "outputs": [
    {
     "name": "stdout",
     "output_type": "stream",
     "text": [
      "(8, 2)\n",
      "8\n"
     ]
    }
   ],
   "source": [
    "print(df_gene_choose.shape)\n",
    "print(df_gene_choose.patient_id.nunique())"
   ]
  },
  {
   "cell_type": "code",
   "execution_count": 209,
   "metadata": {},
   "outputs": [
    {
     "data": {
      "text/html": [
       "<div>\n",
       "<style scoped>\n",
       "    .dataframe tbody tr th:only-of-type {\n",
       "        vertical-align: middle;\n",
       "    }\n",
       "\n",
       "    .dataframe tbody tr th {\n",
       "        vertical-align: top;\n",
       "    }\n",
       "\n",
       "    .dataframe thead th {\n",
       "        text-align: right;\n",
       "    }\n",
       "</style>\n",
       "<table border=\"1\" class=\"dataframe\">\n",
       "  <thead>\n",
       "    <tr style=\"text-align: right;\">\n",
       "      <th></th>\n",
       "      <th>patient_id</th>\n",
       "      <th>基因型</th>\n",
       "    </tr>\n",
       "  </thead>\n",
       "  <tbody>\n",
       "    <tr>\n",
       "      <th>0</th>\n",
       "      <td>5623241</td>\n",
       "      <td>AG</td>\n",
       "    </tr>\n",
       "    <tr>\n",
       "      <th>1</th>\n",
       "      <td>7445835</td>\n",
       "      <td>AG</td>\n",
       "    </tr>\n",
       "    <tr>\n",
       "      <th>2</th>\n",
       "      <td>7522189</td>\n",
       "      <td>AG</td>\n",
       "    </tr>\n",
       "    <tr>\n",
       "      <th>3</th>\n",
       "      <td>8059463</td>\n",
       "      <td>GG</td>\n",
       "    </tr>\n",
       "    <tr>\n",
       "      <th>4</th>\n",
       "      <td>8141366</td>\n",
       "      <td>GG</td>\n",
       "    </tr>\n",
       "  </tbody>\n",
       "</table>\n",
       "</div>"
      ],
      "text/plain": [
       "   patient_id 基因型\n",
       "0     5623241  AG\n",
       "1     7445835  AG\n",
       "2     7522189  AG\n",
       "3     8059463  GG\n",
       "4     8141366  GG"
      ]
     },
     "execution_count": 209,
     "metadata": {},
     "output_type": "execute_result"
    }
   ],
   "source": [
    "df_gene_choose.head()"
   ]
  },
  {
   "cell_type": "markdown",
   "metadata": {},
   "source": [
    "## 并入基因数据"
   ]
  },
  {
   "cell_type": "code",
   "execution_count": 210,
   "metadata": {},
   "outputs": [],
   "source": [
    "df_Tcms_gene=pd.merge(df_Tcms_surgery,df_gene_choose,on=['patient_id'],how='left')"
   ]
  },
  {
   "cell_type": "code",
   "execution_count": 211,
   "metadata": {},
   "outputs": [
    {
     "name": "stdout",
     "output_type": "stream",
     "text": [
      "(1136, 27)\n",
      "99\n"
     ]
    }
   ],
   "source": [
    "print(df_Tcms_gene.shape)\n",
    "print(df_Tcms_gene.patient_id.nunique())"
   ]
  },
  {
   "cell_type": "code",
   "execution_count": 212,
   "metadata": {},
   "outputs": [],
   "source": [
    "df_Tcms_gene.to_excel(project_path+'/data/processed_data/df_6.2_Tcms_gene.xlsx')"
   ]
  },
  {
   "cell_type": "markdown",
   "metadata": {},
   "source": [
    "# 添加他克莫司TDM检测"
   ]
  },
  {
   "cell_type": "markdown",
   "metadata": {},
   "source": [
    "## 合并tdm检测数据"
   ]
  },
  {
   "cell_type": "code",
   "execution_count": 213,
   "metadata": {},
   "outputs": [
    {
     "name": "stdout",
     "output_type": "stream",
     "text": [
      "<class 'pandas.core.frame.DataFrame'>\n",
      "Int64Index: 1136 entries, 0 to 1135\n",
      "Data columns (total 27 columns):\n",
      " #   Column          Non-Null Count  Dtype         \n",
      "---  ------          --------------  -----         \n",
      " 0   patient_id      1136 non-null   int32         \n",
      " 1   case_no         1136 non-null   int32         \n",
      " 2   long_d_order    1136 non-null   object        \n",
      " 3   drug_name       1136 non-null   object        \n",
      " 4   drug_spec       1136 non-null   object        \n",
      " 5   dosage          1136 non-null   object        \n",
      " 6   frequency       1136 non-null   object        \n",
      " 7   start_datetime  1136 non-null   datetime64[ns]\n",
      " 8   end_datetime    1136 non-null   datetime64[ns]\n",
      " 9   statusdesc      1136 non-null   object        \n",
      " 10  日剂量             1136 non-null   float64       \n",
      " 11  start_date      1136 non-null   object        \n",
      " 12  end_date        1136 non-null   object        \n",
      " 13  分裂日期            1136 non-null   object        \n",
      " 14  起始标签            1136 non-null   object        \n",
      " 15  时间标签            1136 non-null   int64         \n",
      " 16  gender          1136 non-null   int64         \n",
      " 17  age             1136 non-null   int64         \n",
      " 18  身高              1064 non-null   float64       \n",
      " 19  体重              1110 non-null   float64       \n",
      " 20  BMI             1038 non-null   float64       \n",
      " 21  高血压             1136 non-null   int64         \n",
      " 22  糖尿病             1136 non-null   int64         \n",
      " 23  肝炎              1136 non-null   int64         \n",
      " 24  surgery_date    59 non-null     object        \n",
      " 25  术后时间            59 non-null     float64       \n",
      " 26  基因型             192 non-null    object        \n",
      "dtypes: datetime64[ns](2), float64(5), int32(2), int64(6), object(12)\n",
      "memory usage: 239.6+ KB\n"
     ]
    }
   ],
   "source": [
    "df_Tcms_gene.info()"
   ]
  },
  {
   "cell_type": "code",
   "execution_count": 214,
   "metadata": {},
   "outputs": [
    {
     "name": "stdout",
     "output_type": "stream",
     "text": [
      "<class 'pandas.core.frame.DataFrame'>\n",
      "RangeIndex: 179 entries, 0 to 178\n",
      "Data columns (total 11 columns):\n",
      " #   Column          Non-Null Count  Dtype  \n",
      "---  ------          --------------  -----  \n",
      " 0   test_record_id  179 non-null    object \n",
      " 1   patient_id      179 non-null    int64  \n",
      " 2   case_no         179 non-null    int32  \n",
      " 3   test_date       179 non-null    object \n",
      " 4   project_name    179 non-null    object \n",
      " 5   test_result     179 non-null    float64\n",
      " 6   result_unit     179 non-null    object \n",
      " 7   is_normal       179 non-null    object \n",
      " 8   refer_scope     0 non-null      object \n",
      " 9   synonym         179 non-null    object \n",
      " 10  tdm_date        179 non-null    object \n",
      "dtypes: float64(1), int32(1), int64(1), object(8)\n",
      "memory usage: 14.8+ KB\n"
     ]
    }
   ],
   "source": [
    "df_test_Tcms_choose['case_no']=df_test_Tcms_choose['case_no'].astype('int')\n",
    "df_test_Tcms_choose.info()"
   ]
  },
  {
   "cell_type": "code",
   "execution_count": 215,
   "metadata": {},
   "outputs": [
    {
     "name": "stdout",
     "output_type": "stream",
     "text": [
      "3964305\n",
      "4054467\n",
      "4068971\n",
      "4225762\n",
      "4301307\n",
      "4314349\n",
      "4393323\n",
      "4408901\n",
      "4448130\n",
      "4464857\n",
      "4484442\n",
      "4544201\n",
      "4575222\n",
      "4668171\n",
      "4688574\n",
      "4702803\n",
      "4791498\n",
      "4856583\n",
      "4908430\n",
      "4997217\n",
      "5044376\n",
      "5085040\n",
      "5206958\n",
      "5213070\n",
      "5242966\n",
      "5308143\n",
      "5311344\n",
      "5311448\n",
      "5315580\n",
      "5329337\n",
      "5482630\n",
      "5503283\n",
      "5543879\n",
      "5628819\n",
      "5690359\n",
      "5698218\n",
      "5767306\n",
      "5798617\n",
      "5869316\n",
      "5895566\n",
      "5927217\n",
      "5968061\n",
      "5997487\n",
      "6000880\n",
      "6021971\n",
      "6087548\n",
      "6186748\n",
      "6213888\n",
      "6243347\n",
      "6306839\n",
      "6425502\n",
      "6563920\n",
      "6620389\n",
      "6719091\n",
      "6771809\n",
      "6810989\n",
      "6820316\n",
      "6839844\n",
      "6875625\n",
      "6903583\n",
      "6960521\n",
      "7061897\n",
      "7070027\n",
      "7118876\n",
      "7128646\n",
      "7172608\n",
      "7200062\n",
      "7225186\n",
      "7254193\n",
      "7278432\n",
      "7436362\n",
      "7474224\n",
      "7479148\n",
      "7555600\n",
      "7616911\n",
      "7671502\n",
      "7819335\n",
      "7832149\n",
      "7848888\n",
      "7923612\n",
      "8020263\n",
      "8061910\n",
      "8062256\n",
      "8108818\n",
      "8120695\n",
      "8189109\n",
      "8299769\n",
      "8309978\n",
      "8386426\n",
      "8480233\n",
      "8504098\n",
      "8530515\n",
      "8559368\n",
      "8574883\n",
      "8644797\n",
      "8658250\n",
      "8690248\n",
      "8706614\n",
      "8759451\n",
      "8760180\n",
      "8771059\n",
      "8782274\n",
      "8785699\n",
      "8878109\n",
      "8965655\n",
      "8998595\n",
      "9029107\n",
      "9109601\n",
      "9116374\n",
      "9119891\n",
      "9142222\n",
      "9161107\n",
      "9218290\n",
      "9338958\n",
      "9392071\n",
      "9397853\n",
      "9542118\n",
      "9621029\n",
      "9634093\n",
      "9641782\n",
      "9659240\n",
      "9662993\n",
      "9669418\n",
      "9671945\n",
      "9745132\n",
      "9812581\n"
     ]
    }
   ],
   "source": [
    "import datetime\n",
    "# 合并甲氨蝶呤tdm检测信息\n",
    "# 所有tdm检测都认为是稳态检测。\n",
    "temp_list=[]\n",
    "for i in np.unique(df_Tcms_gene['case_no']):\n",
    "    print(i)\n",
    "    # 稳态 丙戊酸 temp\n",
    "    temp_steady=df_Tcms_gene[df_Tcms_gene['case_no']==i]\n",
    "    temp_steady=temp_steady.sort_values(['case_no','分裂日期'])\n",
    "    temp_steady=temp_steady.reset_index(drop=True)\n",
    "    \n",
    "    # tdm temp\n",
    "    temp_tdm=df_test_Tcms_choose[df_test_Tcms_choose['case_no']==i]\n",
    "    temp_tdm=temp_tdm.sort_values(['case_no','test_date'])\n",
    "    temp_tdm=temp_tdm.reset_index(drop=True)\n",
    "    \n",
    "    # tdm都认为是稳态浓度，不考虑3天稳态\n",
    "    temp_steady['test_result']=np.nan\n",
    "    for j in range(temp_tdm.shape[0]):\n",
    "        # 提取tdm检测日期\n",
    "        tdm_date=pd.to_datetime(temp_tdm.loc[j,'tdm_date'])\n",
    "#         print(tdm_date)\n",
    "#         # 提取稳态前tdm前3天用药\n",
    "#         temp_before_drug=temp_before[(pd.to_datetime(temp_before['分裂日期'])<=tdm_date-datetime.timedelta(days=1))&\n",
    "#                                     (pd.to_datetime(temp_before['分裂日期'])>=tdm_date-datetime.timedelta(days=3))]\n",
    "        # 提取tdm前3天用药\n",
    "        temp_steady_drug=temp_steady[(pd.to_datetime(temp_steady['分裂日期'])<=tdm_date-datetime.timedelta(days=1)) &\n",
    "                                    (pd.to_datetime(temp_steady['分裂日期'])>=tdm_date-datetime.timedelta(days=4))]\n",
    "        # 如果稳态前和稳态时用药有变化，则舍弃tdm数据，否则，并入到Tcms用药数据中\n",
    "#         if temp_before_drug.shape[0] != temp_steady_drug.shape[0]:\n",
    "#             continue\n",
    "#         else:\n",
    "        if temp_steady_drug.shape[0]>0:\n",
    "            # 获取最近用药的索引\n",
    "            index=temp_steady_drug.index.tolist()[-1]\n",
    "            if pd.isnull(temp_steady.loc[index,'test_result']):\n",
    "                temp_steady.loc[index,'tdm_date']=temp_tdm.loc[j,'tdm_date']\n",
    "                temp_steady.loc[index,'test_result']=temp_tdm.loc[j,'test_result']\n",
    "    temp_list.append(temp_steady)"
   ]
  },
  {
   "cell_type": "code",
   "execution_count": 216,
   "metadata": {},
   "outputs": [
    {
     "data": {
      "text/html": [
       "<div>\n",
       "<style scoped>\n",
       "    .dataframe tbody tr th:only-of-type {\n",
       "        vertical-align: middle;\n",
       "    }\n",
       "\n",
       "    .dataframe tbody tr th {\n",
       "        vertical-align: top;\n",
       "    }\n",
       "\n",
       "    .dataframe thead th {\n",
       "        text-align: right;\n",
       "    }\n",
       "</style>\n",
       "<table border=\"1\" class=\"dataframe\">\n",
       "  <thead>\n",
       "    <tr style=\"text-align: right;\">\n",
       "      <th></th>\n",
       "      <th>patient_id</th>\n",
       "      <th>case_no</th>\n",
       "      <th>long_d_order</th>\n",
       "      <th>drug_name</th>\n",
       "      <th>drug_spec</th>\n",
       "      <th>dosage</th>\n",
       "      <th>frequency</th>\n",
       "      <th>start_datetime</th>\n",
       "      <th>end_datetime</th>\n",
       "      <th>statusdesc</th>\n",
       "      <th>...</th>\n",
       "      <th>体重</th>\n",
       "      <th>BMI</th>\n",
       "      <th>高血压</th>\n",
       "      <th>糖尿病</th>\n",
       "      <th>肝炎</th>\n",
       "      <th>surgery_date</th>\n",
       "      <th>术后时间</th>\n",
       "      <th>基因型</th>\n",
       "      <th>test_result</th>\n",
       "      <th>tdm_date</th>\n",
       "    </tr>\n",
       "  </thead>\n",
       "  <tbody>\n",
       "    <tr>\n",
       "      <th>0</th>\n",
       "      <td>7445835</td>\n",
       "      <td>9812581</td>\n",
       "      <td>1</td>\n",
       "      <td>他克莫司胶囊(赛福开)[0.5mg*50粒]</td>\n",
       "      <td>0.5mg*50粒</td>\n",
       "      <td>1</td>\n",
       "      <td>2</td>\n",
       "      <td>2020-07-31 10:54:04</td>\n",
       "      <td>2020-08-10 18:33:03</td>\n",
       "      <td>停止</td>\n",
       "      <td>...</td>\n",
       "      <td>45.4</td>\n",
       "      <td>20.07</td>\n",
       "      <td>0</td>\n",
       "      <td>0</td>\n",
       "      <td>0</td>\n",
       "      <td>NaN</td>\n",
       "      <td>NaN</td>\n",
       "      <td>AG</td>\n",
       "      <td>NaN</td>\n",
       "      <td>NaN</td>\n",
       "    </tr>\n",
       "    <tr>\n",
       "      <th>1</th>\n",
       "      <td>7445835</td>\n",
       "      <td>9812581</td>\n",
       "      <td>1</td>\n",
       "      <td>他克莫司胶囊(赛福开)[0.5mg*50粒]</td>\n",
       "      <td>0.5mg*50粒</td>\n",
       "      <td>1</td>\n",
       "      <td>2</td>\n",
       "      <td>2020-07-31 10:54:04</td>\n",
       "      <td>2020-08-10 18:33:03</td>\n",
       "      <td>停止</td>\n",
       "      <td>...</td>\n",
       "      <td>45.4</td>\n",
       "      <td>20.07</td>\n",
       "      <td>0</td>\n",
       "      <td>0</td>\n",
       "      <td>0</td>\n",
       "      <td>NaN</td>\n",
       "      <td>NaN</td>\n",
       "      <td>AG</td>\n",
       "      <td>NaN</td>\n",
       "      <td>NaN</td>\n",
       "    </tr>\n",
       "    <tr>\n",
       "      <th>2</th>\n",
       "      <td>7445835</td>\n",
       "      <td>9812581</td>\n",
       "      <td>1</td>\n",
       "      <td>他克莫司胶囊(赛福开)[0.5mg*50粒]</td>\n",
       "      <td>0.5mg*50粒</td>\n",
       "      <td>1</td>\n",
       "      <td>2</td>\n",
       "      <td>2020-07-31 10:54:04</td>\n",
       "      <td>2020-08-10 18:33:03</td>\n",
       "      <td>停止</td>\n",
       "      <td>...</td>\n",
       "      <td>45.4</td>\n",
       "      <td>20.07</td>\n",
       "      <td>0</td>\n",
       "      <td>0</td>\n",
       "      <td>0</td>\n",
       "      <td>NaN</td>\n",
       "      <td>NaN</td>\n",
       "      <td>AG</td>\n",
       "      <td>NaN</td>\n",
       "      <td>NaN</td>\n",
       "    </tr>\n",
       "    <tr>\n",
       "      <th>3</th>\n",
       "      <td>7445835</td>\n",
       "      <td>9812581</td>\n",
       "      <td>1</td>\n",
       "      <td>他克莫司胶囊(赛福开)[0.5mg*50粒]</td>\n",
       "      <td>0.5mg*50粒</td>\n",
       "      <td>1</td>\n",
       "      <td>2</td>\n",
       "      <td>2020-07-31 10:54:04</td>\n",
       "      <td>2020-08-10 18:33:03</td>\n",
       "      <td>停止</td>\n",
       "      <td>...</td>\n",
       "      <td>45.4</td>\n",
       "      <td>20.07</td>\n",
       "      <td>0</td>\n",
       "      <td>0</td>\n",
       "      <td>0</td>\n",
       "      <td>NaN</td>\n",
       "      <td>NaN</td>\n",
       "      <td>AG</td>\n",
       "      <td>NaN</td>\n",
       "      <td>NaN</td>\n",
       "    </tr>\n",
       "    <tr>\n",
       "      <th>4</th>\n",
       "      <td>7445835</td>\n",
       "      <td>9812581</td>\n",
       "      <td>1</td>\n",
       "      <td>他克莫司胶囊(赛福开)[0.5mg*50粒]</td>\n",
       "      <td>0.5mg*50粒</td>\n",
       "      <td>1</td>\n",
       "      <td>2</td>\n",
       "      <td>2020-07-31 10:54:04</td>\n",
       "      <td>2020-08-10 18:33:03</td>\n",
       "      <td>停止</td>\n",
       "      <td>...</td>\n",
       "      <td>45.4</td>\n",
       "      <td>20.07</td>\n",
       "      <td>0</td>\n",
       "      <td>0</td>\n",
       "      <td>0</td>\n",
       "      <td>NaN</td>\n",
       "      <td>NaN</td>\n",
       "      <td>AG</td>\n",
       "      <td>NaN</td>\n",
       "      <td>NaN</td>\n",
       "    </tr>\n",
       "    <tr>\n",
       "      <th>5</th>\n",
       "      <td>7445835</td>\n",
       "      <td>9812581</td>\n",
       "      <td>1</td>\n",
       "      <td>他克莫司胶囊(赛福开)[0.5mg*50粒]</td>\n",
       "      <td>0.5mg*50粒</td>\n",
       "      <td>1</td>\n",
       "      <td>2</td>\n",
       "      <td>2020-07-31 10:54:04</td>\n",
       "      <td>2020-08-10 18:33:03</td>\n",
       "      <td>停止</td>\n",
       "      <td>...</td>\n",
       "      <td>45.4</td>\n",
       "      <td>20.07</td>\n",
       "      <td>0</td>\n",
       "      <td>0</td>\n",
       "      <td>0</td>\n",
       "      <td>NaN</td>\n",
       "      <td>NaN</td>\n",
       "      <td>AG</td>\n",
       "      <td>NaN</td>\n",
       "      <td>NaN</td>\n",
       "    </tr>\n",
       "    <tr>\n",
       "      <th>6</th>\n",
       "      <td>7445835</td>\n",
       "      <td>9812581</td>\n",
       "      <td>1</td>\n",
       "      <td>他克莫司胶囊(赛福开)[0.5mg*50粒]</td>\n",
       "      <td>0.5mg*50粒</td>\n",
       "      <td>1</td>\n",
       "      <td>2</td>\n",
       "      <td>2020-07-31 10:54:04</td>\n",
       "      <td>2020-08-10 18:33:03</td>\n",
       "      <td>停止</td>\n",
       "      <td>...</td>\n",
       "      <td>45.4</td>\n",
       "      <td>20.07</td>\n",
       "      <td>0</td>\n",
       "      <td>0</td>\n",
       "      <td>0</td>\n",
       "      <td>NaN</td>\n",
       "      <td>NaN</td>\n",
       "      <td>AG</td>\n",
       "      <td>NaN</td>\n",
       "      <td>NaN</td>\n",
       "    </tr>\n",
       "    <tr>\n",
       "      <th>7</th>\n",
       "      <td>7445835</td>\n",
       "      <td>9812581</td>\n",
       "      <td>1</td>\n",
       "      <td>他克莫司胶囊(赛福开)[0.5mg*50粒]</td>\n",
       "      <td>0.5mg*50粒</td>\n",
       "      <td>1</td>\n",
       "      <td>2</td>\n",
       "      <td>2020-07-31 10:54:04</td>\n",
       "      <td>2020-08-10 18:33:03</td>\n",
       "      <td>停止</td>\n",
       "      <td>...</td>\n",
       "      <td>45.4</td>\n",
       "      <td>20.07</td>\n",
       "      <td>0</td>\n",
       "      <td>0</td>\n",
       "      <td>0</td>\n",
       "      <td>NaN</td>\n",
       "      <td>NaN</td>\n",
       "      <td>AG</td>\n",
       "      <td>NaN</td>\n",
       "      <td>NaN</td>\n",
       "    </tr>\n",
       "    <tr>\n",
       "      <th>8</th>\n",
       "      <td>7445835</td>\n",
       "      <td>9812581</td>\n",
       "      <td>1</td>\n",
       "      <td>他克莫司胶囊(赛福开)[0.5mg*50粒]</td>\n",
       "      <td>0.5mg*50粒</td>\n",
       "      <td>1</td>\n",
       "      <td>2</td>\n",
       "      <td>2020-07-31 10:54:04</td>\n",
       "      <td>2020-08-10 18:33:03</td>\n",
       "      <td>停止</td>\n",
       "      <td>...</td>\n",
       "      <td>45.4</td>\n",
       "      <td>20.07</td>\n",
       "      <td>0</td>\n",
       "      <td>0</td>\n",
       "      <td>0</td>\n",
       "      <td>NaN</td>\n",
       "      <td>NaN</td>\n",
       "      <td>AG</td>\n",
       "      <td>NaN</td>\n",
       "      <td>NaN</td>\n",
       "    </tr>\n",
       "    <tr>\n",
       "      <th>9</th>\n",
       "      <td>7445835</td>\n",
       "      <td>9812581</td>\n",
       "      <td>1</td>\n",
       "      <td>他克莫司胶囊(赛福开)[0.5mg*50粒]</td>\n",
       "      <td>0.5mg*50粒</td>\n",
       "      <td>1</td>\n",
       "      <td>2</td>\n",
       "      <td>2020-07-31 10:54:04</td>\n",
       "      <td>2020-08-10 18:33:03</td>\n",
       "      <td>停止</td>\n",
       "      <td>...</td>\n",
       "      <td>45.4</td>\n",
       "      <td>20.07</td>\n",
       "      <td>0</td>\n",
       "      <td>0</td>\n",
       "      <td>0</td>\n",
       "      <td>NaN</td>\n",
       "      <td>NaN</td>\n",
       "      <td>AG</td>\n",
       "      <td>2.0</td>\n",
       "      <td>2020-08-10</td>\n",
       "    </tr>\n",
       "    <tr>\n",
       "      <th>10</th>\n",
       "      <td>7445835</td>\n",
       "      <td>9812581</td>\n",
       "      <td>1</td>\n",
       "      <td>他克莫司胶囊(赛福开)[0.5mg*50粒]</td>\n",
       "      <td>0.5mg*50粒</td>\n",
       "      <td>1</td>\n",
       "      <td>2</td>\n",
       "      <td>2020-07-31 10:54:04</td>\n",
       "      <td>2020-08-10 18:33:03</td>\n",
       "      <td>停止</td>\n",
       "      <td>...</td>\n",
       "      <td>45.4</td>\n",
       "      <td>20.07</td>\n",
       "      <td>0</td>\n",
       "      <td>0</td>\n",
       "      <td>0</td>\n",
       "      <td>NaN</td>\n",
       "      <td>NaN</td>\n",
       "      <td>AG</td>\n",
       "      <td>NaN</td>\n",
       "      <td>NaN</td>\n",
       "    </tr>\n",
       "  </tbody>\n",
       "</table>\n",
       "<p>11 rows × 29 columns</p>\n",
       "</div>"
      ],
      "text/plain": [
       "    patient_id  case_no long_d_order               drug_name  drug_spec  \\\n",
       "0      7445835  9812581            1  他克莫司胶囊(赛福开)[0.5mg*50粒]  0.5mg*50粒   \n",
       "1      7445835  9812581            1  他克莫司胶囊(赛福开)[0.5mg*50粒]  0.5mg*50粒   \n",
       "2      7445835  9812581            1  他克莫司胶囊(赛福开)[0.5mg*50粒]  0.5mg*50粒   \n",
       "3      7445835  9812581            1  他克莫司胶囊(赛福开)[0.5mg*50粒]  0.5mg*50粒   \n",
       "4      7445835  9812581            1  他克莫司胶囊(赛福开)[0.5mg*50粒]  0.5mg*50粒   \n",
       "5      7445835  9812581            1  他克莫司胶囊(赛福开)[0.5mg*50粒]  0.5mg*50粒   \n",
       "6      7445835  9812581            1  他克莫司胶囊(赛福开)[0.5mg*50粒]  0.5mg*50粒   \n",
       "7      7445835  9812581            1  他克莫司胶囊(赛福开)[0.5mg*50粒]  0.5mg*50粒   \n",
       "8      7445835  9812581            1  他克莫司胶囊(赛福开)[0.5mg*50粒]  0.5mg*50粒   \n",
       "9      7445835  9812581            1  他克莫司胶囊(赛福开)[0.5mg*50粒]  0.5mg*50粒   \n",
       "10     7445835  9812581            1  他克莫司胶囊(赛福开)[0.5mg*50粒]  0.5mg*50粒   \n",
       "\n",
       "   dosage frequency      start_datetime        end_datetime statusdesc  ...  \\\n",
       "0       1         2 2020-07-31 10:54:04 2020-08-10 18:33:03         停止  ...   \n",
       "1       1         2 2020-07-31 10:54:04 2020-08-10 18:33:03         停止  ...   \n",
       "2       1         2 2020-07-31 10:54:04 2020-08-10 18:33:03         停止  ...   \n",
       "3       1         2 2020-07-31 10:54:04 2020-08-10 18:33:03         停止  ...   \n",
       "4       1         2 2020-07-31 10:54:04 2020-08-10 18:33:03         停止  ...   \n",
       "5       1         2 2020-07-31 10:54:04 2020-08-10 18:33:03         停止  ...   \n",
       "6       1         2 2020-07-31 10:54:04 2020-08-10 18:33:03         停止  ...   \n",
       "7       1         2 2020-07-31 10:54:04 2020-08-10 18:33:03         停止  ...   \n",
       "8       1         2 2020-07-31 10:54:04 2020-08-10 18:33:03         停止  ...   \n",
       "9       1         2 2020-07-31 10:54:04 2020-08-10 18:33:03         停止  ...   \n",
       "10      1         2 2020-07-31 10:54:04 2020-08-10 18:33:03         停止  ...   \n",
       "\n",
       "      体重    BMI 高血压 糖尿病 肝炎  surgery_date  术后时间  基因型  test_result    tdm_date  \n",
       "0   45.4  20.07   0   0  0           NaN   NaN   AG          NaN         NaN  \n",
       "1   45.4  20.07   0   0  0           NaN   NaN   AG          NaN         NaN  \n",
       "2   45.4  20.07   0   0  0           NaN   NaN   AG          NaN         NaN  \n",
       "3   45.4  20.07   0   0  0           NaN   NaN   AG          NaN         NaN  \n",
       "4   45.4  20.07   0   0  0           NaN   NaN   AG          NaN         NaN  \n",
       "5   45.4  20.07   0   0  0           NaN   NaN   AG          NaN         NaN  \n",
       "6   45.4  20.07   0   0  0           NaN   NaN   AG          NaN         NaN  \n",
       "7   45.4  20.07   0   0  0           NaN   NaN   AG          NaN         NaN  \n",
       "8   45.4  20.07   0   0  0           NaN   NaN   AG          NaN         NaN  \n",
       "9   45.4  20.07   0   0  0           NaN   NaN   AG          2.0  2020-08-10  \n",
       "10  45.4  20.07   0   0  0           NaN   NaN   AG          NaN         NaN  \n",
       "\n",
       "[11 rows x 29 columns]"
      ]
     },
     "execution_count": 216,
     "metadata": {},
     "output_type": "execute_result"
    }
   ],
   "source": [
    "temp_steady"
   ]
  },
  {
   "cell_type": "code",
   "execution_count": 217,
   "metadata": {},
   "outputs": [
    {
     "data": {
      "text/html": [
       "<div>\n",
       "<style scoped>\n",
       "    .dataframe tbody tr th:only-of-type {\n",
       "        vertical-align: middle;\n",
       "    }\n",
       "\n",
       "    .dataframe tbody tr th {\n",
       "        vertical-align: top;\n",
       "    }\n",
       "\n",
       "    .dataframe thead th {\n",
       "        text-align: right;\n",
       "    }\n",
       "</style>\n",
       "<table border=\"1\" class=\"dataframe\">\n",
       "  <thead>\n",
       "    <tr style=\"text-align: right;\">\n",
       "      <th></th>\n",
       "      <th>test_record_id</th>\n",
       "      <th>patient_id</th>\n",
       "      <th>case_no</th>\n",
       "      <th>test_date</th>\n",
       "      <th>project_name</th>\n",
       "      <th>test_result</th>\n",
       "      <th>result_unit</th>\n",
       "      <th>is_normal</th>\n",
       "      <th>refer_scope</th>\n",
       "      <th>synonym</th>\n",
       "      <th>tdm_date</th>\n",
       "    </tr>\n",
       "  </thead>\n",
       "  <tbody>\n",
       "    <tr>\n",
       "      <th>0</th>\n",
       "      <td>800008523628||Y001||1</td>\n",
       "      <td>7445835</td>\n",
       "      <td>9812581</td>\n",
       "      <td>2020-08-10 09:23:00</td>\n",
       "      <td>他克莫司药物浓度监测</td>\n",
       "      <td>2.0</td>\n",
       "      <td>ng/ml</td>\n",
       "      <td>N</td>\n",
       "      <td>NaN</td>\n",
       "      <td>FK506</td>\n",
       "      <td>2020-08-10</td>\n",
       "    </tr>\n",
       "  </tbody>\n",
       "</table>\n",
       "</div>"
      ],
      "text/plain": [
       "          test_record_id  patient_id  case_no            test_date  \\\n",
       "0  800008523628||Y001||1     7445835  9812581  2020-08-10 09:23:00   \n",
       "\n",
       "  project_name  test_result result_unit is_normal refer_scope synonym  \\\n",
       "0   他克莫司药物浓度监测          2.0       ng/ml         N         NaN   FK506   \n",
       "\n",
       "     tdm_date  \n",
       "0  2020-08-10  "
      ]
     },
     "execution_count": 217,
     "metadata": {},
     "output_type": "execute_result"
    }
   ],
   "source": [
    "temp_tdm"
   ]
  },
  {
   "cell_type": "code",
   "execution_count": 218,
   "metadata": {},
   "outputs": [],
   "source": [
    "df_Tcms_tdm = pd.concat(temp_list,axis=0).reset_index(drop=True)\n",
    "# df_Tcms_tdm = df_Tcms_tdm.drop_duplicates().reset_index(drop=True)\n",
    "del temp_list"
   ]
  },
  {
   "cell_type": "code",
   "execution_count": 219,
   "metadata": {},
   "outputs": [
    {
     "name": "stdout",
     "output_type": "stream",
     "text": [
      "(1136, 29)\n",
      "99\n",
      "126\n"
     ]
    }
   ],
   "source": [
    "print(df_Tcms_tdm.shape)\n",
    "print(df_Tcms_tdm['patient_id'].nunique())\n",
    "print(df_Tcms_tdm['case_no'].nunique())"
   ]
  },
  {
   "cell_type": "code",
   "execution_count": 220,
   "metadata": {},
   "outputs": [
    {
     "data": {
      "text/plain": [
       "Index(['patient_id', 'case_no', 'long_d_order', 'drug_name', 'drug_spec',\n",
       "       'dosage', 'frequency', 'start_datetime', 'end_datetime', 'statusdesc',\n",
       "       '日剂量', 'start_date', 'end_date', '分裂日期', '起始标签', '时间标签', 'gender',\n",
       "       'age', '身高', '体重', 'BMI', '高血压', '糖尿病', '肝炎', 'surgery_date', '术后时间',\n",
       "       '基因型', 'test_result', 'tdm_date'],\n",
       "      dtype='object')"
      ]
     },
     "execution_count": 220,
     "metadata": {},
     "output_type": "execute_result"
    }
   ],
   "source": [
    "df_Tcms_tdm.columns"
   ]
  },
  {
   "cell_type": "code",
   "execution_count": 221,
   "metadata": {},
   "outputs": [],
   "source": [
    "# 保存添加tdm检测的甲氨蝶呤用药\n",
    "writer=pd.ExcelWriter(project_path+'/data/processed_data/df_7.1_添加tdm检测.xlsx')\n",
    "df_Tcms_tdm.to_excel(writer)\n",
    "writer.save()"
   ]
  },
  {
   "cell_type": "markdown",
   "metadata": {},
   "source": [
    "## 删除tdm为空的数据"
   ]
  },
  {
   "cell_type": "code",
   "execution_count": 222,
   "metadata": {},
   "outputs": [],
   "source": [
    "# 如果当前或前一条数据没有tdm，则删除\n",
    "temp_list=[]\n",
    "for i in df_Tcms_tdm.case_no.unique():\n",
    "    temp=df_Tcms_tdm[df_Tcms_tdm['case_no']==i]\n",
    "    temp=temp.sort_values(['case_no','分裂日期']).reset_index(drop=True)\n",
    "    temp['target_日剂量']=np.nan\n",
    "    # 打个标签\n",
    "    # 他克莫司半衰期最长43小时\n",
    "    for j in range(temp.shape[0]-1):\n",
    "        if ((pd.notnull(temp.loc[j,'test_result']) & pd.isnull(temp.loc[j+1,'test_result'])) &\n",
    "            ((pd.to_datetime(temp.loc[j,'分裂日期'])+datetime.timedelta(days=2))>=pd.to_datetime(temp.loc[j+1,'分裂日期']))):\n",
    "            temp.loc[j,'target_日剂量']=temp.loc[j+1,'日剂量']\n",
    "    # 提取有效用药数据\n",
    "    temp_choose=temp[temp['target_日剂量'].notnull()]\n",
    "    temp_list.append(temp_choose)"
   ]
  },
  {
   "cell_type": "code",
   "execution_count": 223,
   "metadata": {},
   "outputs": [],
   "source": [
    "# 排序\n",
    "df_Tcms_tdm_choose=pd.concat(temp_list,axis=0)\n",
    "del temp_list\n",
    "df_Tcms_tdm_choose=df_Tcms_tdm_choose.sort_values(['case_no','分裂日期']).reset_index(drop=True)"
   ]
  },
  {
   "cell_type": "code",
   "execution_count": 224,
   "metadata": {},
   "outputs": [
    {
     "name": "stdout",
     "output_type": "stream",
     "text": [
      "(156, 30)\n",
      "86\n",
      "109\n"
     ]
    }
   ],
   "source": [
    "print(df_Tcms_tdm_choose.shape)\n",
    "print(df_Tcms_tdm_choose['patient_id'].nunique())\n",
    "print(df_Tcms_tdm_choose['case_no'].nunique())"
   ]
  },
  {
   "cell_type": "code",
   "execution_count": 225,
   "metadata": {},
   "outputs": [],
   "source": [
    "# 保存tdm非空的用药\n",
    "df_Tcms_tdm_choose.to_excel(project_path+'/data/processed_data/df_7.2_Tcms_tdm_dosage_choose.xlsx')"
   ]
  },
  {
   "cell_type": "markdown",
   "metadata": {},
   "source": [
    "## 统计前后剂量差"
   ]
  },
  {
   "cell_type": "code",
   "execution_count": 226,
   "metadata": {},
   "outputs": [],
   "source": [
    "# 统计前后剂量差是否过大\n",
    "for j in range(df_Tcms_tdm_choose.shape[0]):\n",
    "    df_Tcms_tdm_choose.loc[j,'前后剂量差']=df_Tcms_tdm_choose.loc[j,'target_日剂量']-df_Tcms_tdm_choose.loc[j,'日剂量']"
   ]
  },
  {
   "cell_type": "code",
   "execution_count": 227,
   "metadata": {},
   "outputs": [
    {
     "name": "stdout",
     "output_type": "stream",
     "text": [
      "(156, 31)\n",
      "86\n",
      "109\n"
     ]
    }
   ],
   "source": [
    "print(df_Tcms_tdm_choose.shape)\n",
    "print(df_Tcms_tdm_choose['patient_id'].nunique())\n",
    "print(df_Tcms_tdm_choose['case_no'].nunique())"
   ]
  },
  {
   "cell_type": "code",
   "execution_count": 228,
   "metadata": {},
   "outputs": [],
   "source": [
    "# 保存tdm非空的用药\n",
    "df_Tcms_tdm_choose.to_excel(project_path+'/data/processed_data/df_7.3_统计前后剂量差.xlsx')"
   ]
  },
  {
   "cell_type": "code",
   "execution_count": 229,
   "metadata": {},
   "outputs": [
    {
     "data": {
      "text/plain": [
       "2.0    35\n",
       "3.0    23\n",
       "1.0    22\n",
       "1.5    19\n",
       "4.0    17\n",
       "2.5    11\n",
       "0.5     8\n",
       "5.0     8\n",
       "4.5     3\n",
       "5.5     2\n",
       "6.0     2\n",
       "3.5     2\n",
       "4.2     1\n",
       "1.8     1\n",
       "1.2     1\n",
       "3.2     1\n",
       "Name: target_日剂量, dtype: int64"
      ]
     },
     "execution_count": 229,
     "metadata": {},
     "output_type": "execute_result"
    }
   ],
   "source": [
    "df_Tcms_tdm_choose['target_日剂量'].value_counts()"
   ]
  },
  {
   "cell_type": "markdown",
   "metadata": {},
   "source": [
    "# 增加联合用药"
   ]
  },
  {
   "cell_type": "markdown",
   "metadata": {},
   "source": [
    "## 提取联合用药"
   ]
  },
  {
   "cell_type": "code",
   "execution_count": 230,
   "metadata": {},
   "outputs": [],
   "source": [
    "# 提取患者的联合用药\n",
    "df_drug_other=df_doctor_order[~ df_doctor_order['drug_name'].str.contains('他克莫司|葡萄糖|氯化钠')]\n",
    "# 患者限定\n",
    "df_drug_other=df_drug_other[df_drug_other['case_no'].isin(df_Tcms_tdm_choose['case_no'].unique())]\n",
    "df_drug_other=df_drug_other.reset_index(drop=True)"
   ]
  },
  {
   "cell_type": "code",
   "execution_count": 231,
   "metadata": {},
   "outputs": [
    {
     "name": "stdout",
     "output_type": "stream",
     "text": [
      "(33899, 10)\n",
      "86\n"
     ]
    }
   ],
   "source": [
    "print(df_drug_other.shape)\n",
    "print(df_drug_other['patient_id'].nunique())"
   ]
  },
  {
   "cell_type": "code",
   "execution_count": 232,
   "metadata": {
    "scrolled": true
   },
   "outputs": [
    {
     "data": {
      "text/html": [
       "<div>\n",
       "<style scoped>\n",
       "    .dataframe tbody tr th:only-of-type {\n",
       "        vertical-align: middle;\n",
       "    }\n",
       "\n",
       "    .dataframe tbody tr th {\n",
       "        vertical-align: top;\n",
       "    }\n",
       "\n",
       "    .dataframe thead th {\n",
       "        text-align: right;\n",
       "    }\n",
       "</style>\n",
       "<table border=\"1\" class=\"dataframe\">\n",
       "  <thead>\n",
       "    <tr style=\"text-align: right;\">\n",
       "      <th></th>\n",
       "      <th>patient_id</th>\n",
       "      <th>case_no</th>\n",
       "      <th>long_d_order</th>\n",
       "      <th>drug_name</th>\n",
       "      <th>drug_spec</th>\n",
       "      <th>dosage</th>\n",
       "      <th>frequency</th>\n",
       "      <th>start_datetime</th>\n",
       "      <th>end_datetime</th>\n",
       "      <th>statusdesc</th>\n",
       "    </tr>\n",
       "  </thead>\n",
       "  <tbody>\n",
       "    <tr>\n",
       "      <th>0</th>\n",
       "      <td>7406367</td>\n",
       "      <td>3964305</td>\n",
       "      <td>0</td>\n",
       "      <td>血脂四项（CHO,TG,HDL-C,LDL-C）</td>\n",
       "      <td>NaN</td>\n",
       "      <td>NaN</td>\n",
       "      <td>ONCE</td>\n",
       "      <td>2018-07-10 17:05:05</td>\n",
       "      <td>NaN</td>\n",
       "      <td>执行</td>\n",
       "    </tr>\n",
       "    <tr>\n",
       "      <th>1</th>\n",
       "      <td>7406367</td>\n",
       "      <td>3964305</td>\n",
       "      <td>0</td>\n",
       "      <td>梅毒螺旋体特异抗体(电化学发光法)</td>\n",
       "      <td>NaN</td>\n",
       "      <td>NaN</td>\n",
       "      <td>ONCE</td>\n",
       "      <td>2018-07-10 17:05:05</td>\n",
       "      <td>NaN</td>\n",
       "      <td>执行</td>\n",
       "    </tr>\n",
       "    <tr>\n",
       "      <th>2</th>\n",
       "      <td>7406367</td>\n",
       "      <td>3964305</td>\n",
       "      <td>0</td>\n",
       "      <td>静脉输液(其它药物集中配置)</td>\n",
       "      <td>NaN</td>\n",
       "      <td>NaN</td>\n",
       "      <td>ONCE</td>\n",
       "      <td>2018-07-13 12:15:13</td>\n",
       "      <td>NaN</td>\n",
       "      <td>核实</td>\n",
       "    </tr>\n",
       "    <tr>\n",
       "      <th>3</th>\n",
       "      <td>7406367</td>\n",
       "      <td>3964305</td>\n",
       "      <td>0</td>\n",
       "      <td>一次性无菌注射器（20ML)</td>\n",
       "      <td>NaN</td>\n",
       "      <td>NaN</td>\n",
       "      <td>ONCE</td>\n",
       "      <td>2018-07-13 12:15:13</td>\n",
       "      <td>NaN</td>\n",
       "      <td>核实</td>\n",
       "    </tr>\n",
       "    <tr>\n",
       "      <th>4</th>\n",
       "      <td>7406367</td>\n",
       "      <td>3964305</td>\n",
       "      <td>0</td>\n",
       "      <td>呋塞米注射液(南国)[2ml*1支]</td>\n",
       "      <td>2ml*1支</td>\n",
       "      <td>40mg</td>\n",
       "      <td>ONCE</td>\n",
       "      <td>2018-07-13 12:15:13</td>\n",
       "      <td>NaN</td>\n",
       "      <td>核实</td>\n",
       "    </tr>\n",
       "    <tr>\n",
       "      <th>...</th>\n",
       "      <td>...</td>\n",
       "      <td>...</td>\n",
       "      <td>...</td>\n",
       "      <td>...</td>\n",
       "      <td>...</td>\n",
       "      <td>...</td>\n",
       "      <td>...</td>\n",
       "      <td>...</td>\n",
       "      <td>...</td>\n",
       "      <td>...</td>\n",
       "    </tr>\n",
       "    <tr>\n",
       "      <th>33894</th>\n",
       "      <td>7445835</td>\n",
       "      <td>9812581</td>\n",
       "      <td>0</td>\n",
       "      <td>静脉输液(住院)</td>\n",
       "      <td>NaN</td>\n",
       "      <td>NaN</td>\n",
       "      <td>ONCE</td>\n",
       "      <td>2020-07-27 17:27:02</td>\n",
       "      <td>NaN</td>\n",
       "      <td>核实</td>\n",
       "    </tr>\n",
       "    <tr>\n",
       "      <th>33895</th>\n",
       "      <td>7445835</td>\n",
       "      <td>9812581</td>\n",
       "      <td>0</td>\n",
       "      <td>一次性使用精密过滤输液器南京IS-JL-5.0</td>\n",
       "      <td>NaN</td>\n",
       "      <td>NaN</td>\n",
       "      <td>ONCE</td>\n",
       "      <td>2020-07-27 17:27:02</td>\n",
       "      <td>NaN</td>\n",
       "      <td>核实</td>\n",
       "    </tr>\n",
       "    <tr>\n",
       "      <th>33896</th>\n",
       "      <td>7445835</td>\n",
       "      <td>9812581</td>\n",
       "      <td>0</td>\n",
       "      <td>会诊申请</td>\n",
       "      <td>NaN</td>\n",
       "      <td>NaN</td>\n",
       "      <td>NaN</td>\n",
       "      <td>2020-07-27 17:30:25</td>\n",
       "      <td>NaN</td>\n",
       "      <td>核实</td>\n",
       "    </tr>\n",
       "    <tr>\n",
       "      <th>33897</th>\n",
       "      <td>7445835</td>\n",
       "      <td>9812581</td>\n",
       "      <td>0</td>\n",
       "      <td>预冲式冲管注射器(10ml)(威高)</td>\n",
       "      <td>NaN</td>\n",
       "      <td>NaN</td>\n",
       "      <td>ONCE</td>\n",
       "      <td>2020-07-28 08:37:08</td>\n",
       "      <td>NaN</td>\n",
       "      <td>核实</td>\n",
       "    </tr>\n",
       "    <tr>\n",
       "      <th>33898</th>\n",
       "      <td>7445835</td>\n",
       "      <td>9812581</td>\n",
       "      <td>0</td>\n",
       "      <td>奥美拉唑钠冻干粉针(奥西康)[40mg*1支]</td>\n",
       "      <td>40mg*1支</td>\n",
       "      <td>25mg</td>\n",
       "      <td>ONCE</td>\n",
       "      <td>2020-07-28 08:49:02</td>\n",
       "      <td>NaN</td>\n",
       "      <td>核实</td>\n",
       "    </tr>\n",
       "  </tbody>\n",
       "</table>\n",
       "<p>33899 rows × 10 columns</p>\n",
       "</div>"
      ],
      "text/plain": [
       "       patient_id  case_no  long_d_order                 drug_name drug_spec  \\\n",
       "0         7406367  3964305             0  血脂四项（CHO,TG,HDL-C,LDL-C）       NaN   \n",
       "1         7406367  3964305             0         梅毒螺旋体特异抗体(电化学发光法)       NaN   \n",
       "2         7406367  3964305             0            静脉输液(其它药物集中配置)       NaN   \n",
       "3         7406367  3964305             0            一次性无菌注射器（20ML)       NaN   \n",
       "4         7406367  3964305             0        呋塞米注射液(南国)[2ml*1支]    2ml*1支   \n",
       "...           ...      ...           ...                       ...       ...   \n",
       "33894     7445835  9812581             0                  静脉输液(住院)       NaN   \n",
       "33895     7445835  9812581             0   一次性使用精密过滤输液器南京IS-JL-5.0       NaN   \n",
       "33896     7445835  9812581             0                      会诊申请       NaN   \n",
       "33897     7445835  9812581             0        预冲式冲管注射器(10ml)(威高)       NaN   \n",
       "33898     7445835  9812581             0   奥美拉唑钠冻干粉针(奥西康)[40mg*1支]   40mg*1支   \n",
       "\n",
       "      dosage frequency       start_datetime end_datetime statusdesc  \n",
       "0        NaN      ONCE  2018-07-10 17:05:05          NaN         执行  \n",
       "1        NaN      ONCE  2018-07-10 17:05:05          NaN         执行  \n",
       "2        NaN      ONCE  2018-07-13 12:15:13          NaN         核实  \n",
       "3        NaN      ONCE  2018-07-13 12:15:13          NaN         核实  \n",
       "4       40mg      ONCE  2018-07-13 12:15:13          NaN         核实  \n",
       "...      ...       ...                  ...          ...        ...  \n",
       "33894    NaN      ONCE  2020-07-27 17:27:02          NaN         核实  \n",
       "33895    NaN      ONCE  2020-07-27 17:27:02          NaN         核实  \n",
       "33896    NaN       NaN  2020-07-27 17:30:25          NaN         核实  \n",
       "33897    NaN      ONCE  2020-07-28 08:37:08          NaN         核实  \n",
       "33898   25mg      ONCE  2020-07-28 08:49:02          NaN         核实  \n",
       "\n",
       "[33899 rows x 10 columns]"
      ]
     },
     "execution_count": 232,
     "metadata": {},
     "output_type": "execute_result"
    }
   ],
   "source": [
    "df_drug_other"
   ]
  },
  {
   "cell_type": "code",
   "execution_count": 233,
   "metadata": {},
   "outputs": [],
   "source": [
    "df_drug_other.to_excel(project_path+'/data/processed_data/df_8.1_drug_other.xlsx')"
   ]
  },
  {
   "cell_type": "markdown",
   "metadata": {},
   "source": [
    "## 统计联合用药频数"
   ]
  },
  {
   "cell_type": "code",
   "execution_count": 234,
   "metadata": {},
   "outputs": [
    {
     "name": "stdout",
     "output_type": "stream",
     "text": [
      "(390, 2)\n"
     ]
    }
   ],
   "source": [
    "# 统计用药频数，由业务人员确定选用哪些联合用药。\n",
    "# 联合用药时间限定：结束时间>=用药前3天内+开始时间<=tdm检测前，取交集\n",
    "df_Tcms_drug_other=df_Tcms_tdm_choose.copy()\n",
    "df_Tcms_drug_other['case_no']=df_Tcms_drug_other['case_no'].astype('int')\n",
    "temp_list=[]\n",
    "for i in range(df_Tcms_drug_other.shape[0]):\n",
    "    case_no=df_Tcms_drug_other.loc[i,'case_no']\n",
    "    # 联合用药\n",
    "    drug_other=df_drug_other[df_drug_other['case_no']==case_no]\n",
    "    drug_other=drug_other.reset_index(drop=True)\n",
    "    # 分裂联合用药日期\n",
    "    drug_other['start_date']=drug_other['start_datetime'].apply(lambda x: pd.to_datetime(str(x).split(' ')[0])) \n",
    "    drug_other['end_date']=drug_other['end_datetime'].apply(lambda x: pd.to_datetime(str(x).split(' ')[0])) \n",
    "    # 时间限定：用药前-tdm检测前\n",
    "    drug_time=df_Tcms_drug_other.loc[i,'分裂日期']\n",
    "    tdm_time=df_Tcms_drug_other.loc[i,'tdm_date']\n",
    "    # 提取用药前3天内-tdm前的联合用药。\n",
    "    drug_other_1=drug_other[(drug_other['end_date']>=pd.to_datetime(tdm_time)-datetime.timedelta(days=4)) &\n",
    "                         (drug_other['start_date']<=pd.to_datetime(tdm_time))]\n",
    "    temp_list.append(drug_other_1)\n",
    "\n",
    "df_drug_other_choose = pd.concat(temp_list,axis=0)\n",
    "del temp_list\n",
    "df_drug_other_choose=df_drug_other_choose.drop_duplicates().reset_index(drop=True)\n",
    "drug_name_counts=df_drug_other_choose.drug_name.value_counts()\n",
    "df_drug_name_counts=pd.DataFrame(data={'药物名称':drug_name_counts.index,\n",
    "                                     '频次':drug_name_counts.values})\n",
    "print(df_drug_name_counts.shape)\n",
    "# 保存联合用药名\n",
    "df_drug_name_counts.to_excel(project_path+'/data/processed_data/df_8.2_统计联合用药频数.xlsx')"
   ]
  },
  {
   "cell_type": "markdown",
   "metadata": {},
   "source": [
    "## 合并联合用药"
   ]
  },
  {
   "cell_type": "code",
   "execution_count": 235,
   "metadata": {},
   "outputs": [],
   "source": [
    "# 业务人员给定的联合用药\n",
    "tang=['地塞米松','甲泼尼龙','泼尼松','可的松']\n",
    "zhizi=['奥美拉唑','泮托拉唑','艾普拉唑','雷贝拉唑','兰索拉唑','雷尼替丁']\n",
    "gai=['硝苯地平','氨氯地平','尼群地平','非洛地平','地尔硫卓']\n",
    "other_immu=['环孢素','吗替麦考酚酯','环磷酰胺','硫唑嘌呤','甲氨蝶呤']\n",
    "antibiotic=['克拉霉素','阿奇霉素']"
   ]
  },
  {
   "cell_type": "code",
   "execution_count": 236,
   "metadata": {},
   "outputs": [],
   "source": [
    "df_tang=df_drug_other[df_drug_other.drug_name.str.contains('地塞米松|甲泼尼龙|泼尼松|可的松')]\n",
    "df_tang.to_excel(project_path+'/data/processed_data/df_tang.xlsx')"
   ]
  },
  {
   "cell_type": "code",
   "execution_count": 237,
   "metadata": {},
   "outputs": [],
   "source": [
    "df_zhizi=df_drug_other[df_drug_other.drug_name.str.contains('奥美拉唑|泮托拉唑|艾普拉唑|雷贝拉唑|兰索拉唑|雷尼替丁')]\n",
    "df_zhizi.to_excel(project_path+'/data/processed_data/df_zhizi.xlsx')"
   ]
  },
  {
   "cell_type": "code",
   "execution_count": 238,
   "metadata": {},
   "outputs": [],
   "source": [
    "df_gai=df_drug_other[df_drug_other.drug_name.str.contains('硝苯地平|氨氯地平|尼群地平|非洛地平|地尔硫卓')]\n",
    "df_gai.to_excel(project_path+'/data/processed_data/df_gai.xlsx')"
   ]
  },
  {
   "cell_type": "code",
   "execution_count": 239,
   "metadata": {},
   "outputs": [],
   "source": [
    "df_other_immu=df_drug_other[df_drug_other.drug_name.str.contains('环孢素|吗替麦考酚酯|环磷酰胺|硫唑嘌呤|甲氨蝶呤')]\n",
    "df_other_immu.to_excel(project_path+'/data/processed_data/df_other_immu.xlsx')"
   ]
  },
  {
   "cell_type": "code",
   "execution_count": 263,
   "metadata": {},
   "outputs": [],
   "source": [
    "df_behavior_therapy=df_drug_other[df_drug_other.drug_name.str.contains('克拉霉素|阿奇霉素')]\n",
    "df_behavior_therapy.to_excel(project_path+'/data/processed_data/df_behavior_therapy.xlsx')"
   ]
  },
  {
   "cell_type": "code",
   "execution_count": 264,
   "metadata": {},
   "outputs": [],
   "source": [
    "# 联合用药时间限定：结束时间>=用药前3天内+开始时间<=tdm检测前，取交集\n",
    "df_Tcms_drug_other=df_Tcms_tdm_choose.copy()\n",
    "df_Tcms_drug_other=df_Tcms_drug_other.reset_index(drop=True)\n",
    "for i in range(df_Tcms_drug_other.shape[0]):\n",
    "    case_no=df_Tcms_drug_other.loc[i,'case_no']\n",
    "    # 联合用药\n",
    "    drug_other=df_drug_other[df_drug_other['case_no']==case_no]\n",
    "    drug_other=drug_other.reset_index(drop=True)\n",
    "    # 分裂联合用药日期\n",
    "    drug_other['start_date']=drug_other['start_datetime'].apply(lambda x: pd.to_datetime(str(x).split(' ')[0])) \n",
    "    drug_other['end_date']=drug_other['end_datetime'].apply(lambda x: pd.to_datetime(str(x).split(' ')[0])) \n",
    "    # 结束时间>=用药前3天内+开始时间<=tdm检测前，取交集\n",
    "    drug_time=df_Tcms_drug_other.loc[i,'分裂日期']\n",
    "    tdm_time=df_Tcms_drug_other.loc[i,'tdm_date']\n",
    "    drug_other_1=drug_other[(drug_other['end_date']>=pd.to_datetime(tdm_time)-datetime.timedelta(days=4)) &\n",
    "                         (drug_other['start_date']<=pd.to_datetime(tdm_time))]\n",
    "    # 联合用药列表\n",
    "    drug_other_list=drug_other_1.drug_name.unique()\n",
    "    # 联合用药转置\n",
    "    drug_name=['糖皮质激素','质子泵抑制剂','钙离子阻抗剂','其他免疫抑制剂','克拉霉素']\n",
    "    drug_name_list=[tang,zhizi,gai,other_immu,antibiotic]\n",
    "    for name,name_list in zip(drug_name,drug_name_list):\n",
    "        match_value=[1 if re.match(x,y) else 0 for x in name_list for y in drug_other_list]\n",
    "        if np.sum(match_value)>0:\n",
    "            df_Tcms_drug_other.loc[i,name]=1\n",
    "        else:\n",
    "            df_Tcms_drug_other.loc[i,name]=0"
   ]
  },
  {
   "cell_type": "code",
   "execution_count": 265,
   "metadata": {},
   "outputs": [
    {
     "name": "stdout",
     "output_type": "stream",
     "text": [
      "(156, 36)\n",
      "86\n"
     ]
    }
   ],
   "source": [
    "print(df_Tcms_drug_other.shape)\n",
    "print(df_Tcms_drug_other['patient_id'].nunique())"
   ]
  },
  {
   "cell_type": "code",
   "execution_count": 266,
   "metadata": {},
   "outputs": [],
   "source": [
    "# 时间限定的联合用药\n",
    "df_Tcms_drug_other.to_excel(project_path+'/data/processed_data/df_8.3_合并联合用药.xlsx')"
   ]
  },
  {
   "cell_type": "markdown",
   "metadata": {},
   "source": [
    "# 合并其他相关检测"
   ]
  },
  {
   "cell_type": "markdown",
   "metadata": {},
   "source": [
    "## 提取其他检测"
   ]
  },
  {
   "cell_type": "code",
   "execution_count": 267,
   "metadata": {},
   "outputs": [],
   "source": [
    "# 提取甲氨蝶呤患者的所有检测\n",
    "df_test_other=df_test[df_test['case_no'].isin(df_Tcms_drug_other['case_no'].unique())]"
   ]
  },
  {
   "cell_type": "code",
   "execution_count": 268,
   "metadata": {},
   "outputs": [],
   "source": [
    "# 提取患者的其他检测\n",
    "df_test_other = df_test_other[~ df_test_other['project_name'].str.contains('他克莫司')]\n",
    "df_test_other = df_test_other.reset_index(drop=True)"
   ]
  },
  {
   "cell_type": "code",
   "execution_count": 269,
   "metadata": {},
   "outputs": [
    {
     "data": {
      "text/plain": [
       "test_record_id    False\n",
       "patient_id        False\n",
       "case_no           False\n",
       "test_date         False\n",
       "project_name      False\n",
       "test_result       False\n",
       "result_unit        True\n",
       "is_normal          True\n",
       "refer_scope        True\n",
       "synonym            True\n",
       "dtype: bool"
      ]
     },
     "execution_count": 269,
     "metadata": {},
     "output_type": "execute_result"
    }
   ],
   "source": [
    "df_test_other.isnull().any()"
   ]
  },
  {
   "cell_type": "code",
   "execution_count": 270,
   "metadata": {},
   "outputs": [
    {
     "name": "stdout",
     "output_type": "stream",
     "text": [
      "(43202, 10)\n",
      "86\n"
     ]
    }
   ],
   "source": [
    "print(df_test_other.shape)\n",
    "print(df_test_other['patient_id'].nunique())"
   ]
  },
  {
   "cell_type": "code",
   "execution_count": 271,
   "metadata": {},
   "outputs": [],
   "source": [
    "# 保存其他检测\n",
    "df_test_other.to_csv(project_path+'/data/processed_data/df_9.1_test_other.csv')"
   ]
  },
  {
   "cell_type": "markdown",
   "metadata": {},
   "source": [
    "## 统计其他检测项频数"
   ]
  },
  {
   "cell_type": "code",
   "execution_count": 272,
   "metadata": {},
   "outputs": [],
   "source": [
    "df_test_other_name=pd.DataFrame(df_test_other['project_name'].value_counts())"
   ]
  },
  {
   "cell_type": "code",
   "execution_count": 273,
   "metadata": {},
   "outputs": [],
   "source": [
    "writer=pd.ExcelWriter(project_path+'/data/processed_data/df_9.2_统计其他检测项频数.xlsx')\n",
    "df_test_other_name.to_excel(writer)\n",
    "writer.save()"
   ]
  },
  {
   "cell_type": "markdown",
   "metadata": {},
   "source": [
    "## 合并其他检测"
   ]
  },
  {
   "cell_type": "code",
   "execution_count": 274,
   "metadata": {},
   "outputs": [],
   "source": [
    "def judge_float(x):\n",
    "    try:\n",
    "        a=float(x)\n",
    "        return a\n",
    "    except:\n",
    "        return np.NaN"
   ]
  },
  {
   "cell_type": "code",
   "execution_count": 275,
   "metadata": {},
   "outputs": [],
   "source": [
    "df_Tcms_test_other=df_Tcms_drug_other.copy()\n",
    "# 将用药后不良反应发生前的最近一次其他检测转置到一行中\n",
    "for i in range(df_Tcms_test_other.shape[0]):\n",
    "    case_no=df_Tcms_test_other.loc[i,'case_no']\n",
    "    drug_time=df_Tcms_test_other.loc[i,'分裂日期']\n",
    "    tdm_date=df_Tcms_test_other.loc[i,'tdm_date']\n",
    "    # case_no的其他检测\n",
    "    test_other= df_test_other[df_test_other['case_no']==case_no]\n",
    "    test_other=test_other.reset_index(drop=True)\n",
    "    test_other['test_date']=test_other['test_date'].apply(lambda x: pd.to_datetime(str(x).split(' ')[0])) # 分裂检测日期\n",
    "    # 取用药后-不良反应发生前的其他检测，此案例中start_datetime>tdm_date-1。\n",
    "    test_other_1=test_other[(test_other['test_date']>=pd.to_datetime(tdm_date)-datetime.timedelta(days=4))&\n",
    "                            (test_other['test_date']<=tdm_date)]\n",
    "    # 取最近的一次其他检测\n",
    "    test_other_1=test_other_1.sort_values(['test_date'])\n",
    "    test_other_1=test_other_1.drop_duplicates(['project_name'],keep='last')\n",
    "    test_other_1=test_other_1.reset_index(drop=True)\n",
    "    \n",
    "    # 检验项转置为表头\n",
    "    if test_other_1.shape[0]>0:\n",
    "        test_other_1['test_result']=test_other_1['test_result'].apply(judge_float)\n",
    "        test_other_pivot=test_other_1.pivot_table('test_result',['case_no'], 'project_name')\n",
    "        test_other_pivot=test_other_pivot.reset_index(drop=True)\n",
    "        for j in test_other_pivot.columns[1:]:\n",
    "            df_Tcms_test_other.loc[i,j]=test_other_pivot.loc[0,j]\n",
    "#     break\n",
    "#     if case_no == '410308':\n",
    "#         print(temp.loc[0,'start_datetime'])\n",
    "#         print(temp.loc[0,'bmd_time'])\n",
    "#         print(test_other_1)\n",
    "#         print(test_other_2[test_other_2['project_name']=='肌酐(干式)'])\n",
    "#         break"
   ]
  },
  {
   "cell_type": "code",
   "execution_count": 276,
   "metadata": {},
   "outputs": [
    {
     "name": "stdout",
     "output_type": "stream",
     "text": [
      "(156, 405)\n",
      "86\n"
     ]
    }
   ],
   "source": [
    "print(df_Tcms_test_other.shape)\n",
    "print(df_Tcms_test_other['patient_id'].nunique())"
   ]
  },
  {
   "cell_type": "code",
   "execution_count": 277,
   "metadata": {},
   "outputs": [],
   "source": [
    "# 合并其他检测\n",
    "writer=pd.ExcelWriter(project_path+'/data/processed_data/df_9.3_合并其他检测.xlsx')\n",
    "df_Tcms_test_other.to_excel(writer)\n",
    "writer.save()"
   ]
  },
  {
   "cell_type": "markdown",
   "metadata": {},
   "source": [
    "## 删除缺失率超过50%的列"
   ]
  },
  {
   "cell_type": "code",
   "execution_count": 278,
   "metadata": {},
   "outputs": [
    {
     "data": {
      "text/plain": [
       "Index(['patient_id', 'case_no', 'long_d_order', 'drug_name', 'drug_spec',\n",
       "       'dosage', 'frequency', 'start_datetime', 'end_datetime', 'statusdesc',\n",
       "       ...\n",
       "       '抗β2糖蛋白I型IgA抗体定量', '抗β2糖蛋白I型IgG抗体定量', '抗β2糖蛋白I型IgM抗体定量', 'JC病毒定量',\n",
       "       '多瘤病毒定量', '超敏C反应蛋白', '-MicroR', '同型半胱氨酸', '24h尿微量白蛋白测定',\n",
       "       '乙肝病毒定量（FQ-HBV-DNA）'],\n",
       "      dtype='object', length=405)"
      ]
     },
     "execution_count": 278,
     "metadata": {},
     "output_type": "execute_result"
    }
   ],
   "source": [
    "df_Tcms_test_other.columns"
   ]
  },
  {
   "cell_type": "code",
   "execution_count": 279,
   "metadata": {},
   "outputs": [
    {
     "name": "stdout",
     "output_type": "stream",
     "text": [
      "surgery_date\n",
      "术后时间\n",
      "基因型\n",
      "促甲状腺素\n",
      "免疫球蛋白A\n",
      "免疫球蛋白G\n",
      "免疫球蛋白M\n",
      "尿a1-微球蛋白测定\n",
      "尿a2-巨球蛋白测定\n",
      "尿β2微球蛋白测定\n",
      "尿免疫球蛋白定量测定\n",
      "尿微量白蛋白测定\n",
      "尿渗量\n",
      "尿红细胞位相\n",
      "尿转铁蛋白测定\n",
      "尿轻链Kappa定量\n",
      "尿轻链Lambda定量\n",
      "形态分析：均一型\n",
      "形态分析：多形型\n",
      "游离T3\n",
      "游离T4\n",
      "甲状三碘原氨酸\n",
      "甲状腺素\n",
      "皮质醇(日0时)\n",
      "皮质醇(次日8时)\n",
      "葡萄糖(2H)\n",
      "血清免疫球蛋白G4测定\n",
      "血清总补体\n",
      "补体成份3\n",
      "补体成份4\n",
      "24h尿量\n",
      "尿总蛋白浓度\n",
      "Hb A2\n",
      "异丙醇试验\n",
      "热溶血试验\n",
      "直接抗人球蛋白试验\n",
      "红细胞包涵体检查\n",
      "红细胞渗透脆性试验\n",
      "葡萄糖6-磷酸脱氢酶活性\n",
      "蔗糖溶血试验\n",
      "血清酸化溶血试验\n",
      "间接抗人球蛋白试验\n",
      "C反应蛋白\n",
      "EB病毒定量\n",
      "丙肝抗体\n",
      "乙肝病毒E抗体\n",
      "乙肝病毒E抗原\n",
      "乙肝病毒核心抗体\n",
      "乙肝病毒表面抗体\n",
      "乙肝病毒表面抗原（定性）\n",
      "前-脑利尿肽\n",
      "巨细胞病毒定量\n",
      "总蛋白浓度\n",
      "抗中性粒细胞胞浆抗体\n",
      "梅毒螺旋体特异性抗体[电化学发光法]\n",
      "淋巴细胞培养+干扰素(基础水平N)\n",
      "淋巴细胞培养+干扰素（刺激水平T）\n",
      "真菌D-葡聚糖（1-3）-β-D\n",
      "糖化血红蛋白\n",
      "红细胞沉降率测定\n",
      "结核杆菌γ-干扰素释放试验(T-N)\n",
      "铁蛋白\n",
      "降钙素原\n",
      "A.GD\n",
      "A1.GI\n",
      "B.GD\n",
      "B.GI\n",
      "C.F\n",
      "CTL.GD\n",
      "D.RH\n",
      "E.F\n",
      "I.IAC\n",
      "II.IAC\n",
      "III.IAC\n",
      "不饱和铁结合力\n",
      "丙型肝炎病毒抗体[电化学发光]\n",
      "中荧光比值网织红细胞\n",
      "乙肝病毒表面抗原\n",
      "二氧化碳分压\n",
      "低荧光比值网织红细胞\n",
      "修正二氧化碳分压\n",
      "修正氧分压\n",
      "修正酸碱度\n",
      "动脉血红蛋白浓度\n",
      "可溶性转铁蛋白受体\n",
      "实际碳酸氢根\n",
      "小动脉氧含量\n",
      "幼稚网织红细胞\n",
      "当前大气压\n",
      "总铁结合力\n",
      "抗RNP抗体定量\n",
      "抗Sm抗体定量\n",
      "抗体筛查试验\n",
      "抗双链DNA抗体测定\n",
      "抗心磷脂抗体IgG\n",
      "抗心磷脂抗体IgM\n",
      "抗核抗体测定\n",
      "抗磷脂酶A2受体抗体IgG检测\n",
      "标准碳酸氢根\n",
      "氧分压\n",
      "氧合血红蛋白百分率\n",
      "氧饱和度\n",
      "狼疮初筛/狼疮确认\n",
      "狼疮抗凝物质初筛试验\n",
      "狼疮抗凝物质确认试验\n",
      "病人体温\n",
      "碳氧合血红蛋白百分率\n",
      "细胞内碱剩余\n",
      "细胞外碱剩余\n",
      "网织红细胞百分比\n",
      "网织红细胞计数\n",
      "肺泡气氧分压\n",
      "艾滋病病毒抗体\n",
      "转铁蛋白\n",
      "转铁蛋白饱和度\n",
      "还原血红蛋白百分率\n",
      "铁离子\n",
      "霉酚酸药物浓度监测\n",
      "高荧光比值网织红细胞\n",
      "高铁血红蛋白百分率\n",
      "r-谷氨酰基转移酶\n",
      "前白蛋白\n",
      "岩藻糖苷酶\n",
      "总胆汁酸\n",
      "碱性磷酸酶\n",
      "胆碱脂酶\n",
      "伏立康唑药物浓度监测\n",
      "尿微量白蛋白总量\n",
      "尿白蛋白\n",
      "肌红蛋白定量\n",
      "超敏肌钙蛋白I定量\n",
      "雷帕霉素（西罗莫司）药物浓度监测\n",
      "乙型肝炎e抗体测定\n",
      "乙型肝炎e抗原测定\n",
      "乙型肝炎核心抗体测定\n",
      "乙型肝炎表面抗体测定\n",
      "乙型肝炎表面抗原测定\n",
      "全段甲状旁腺激素测定\n",
      "尿可滴定酸测定\n",
      "尿氨测定\n",
      "尿碳酸氢盐（HCO3-）测定\n",
      "尿酸碱度测定\n",
      "抗肾小球基底膜抗体定量\n",
      "抗蛋白酶3抗体定量\n",
      "抗骨髓过氧化物酶抗体定量\n",
      "癌胚抗原\n",
      "糖类抗原CA-125\n",
      "胃癌相关抗原\n",
      "胃肠癌相关抗原\n",
      "尿kappa轻链\n",
      "尿lambda轻链\n",
      "尿轻链比值\n",
      "K轻链\n",
      "K轻链/L轻链\n",
      "L轻链\n",
      "fPSA/tPSA\n",
      "总前列腺特异抗原\n",
      "游离前列腺特异性抗原测定\n",
      "神经元特异性烯醇化酶\n",
      "非小细胞肺癌相关抗原\n",
      "鳞状细胞癌相关抗原\n",
      "24h尿氯定量\n",
      "24h尿肌酐定量\n",
      "24h尿蛋白定量\n",
      "24h尿钙定量\n",
      "24h尿钠定量\n",
      "24h尿钾定量\n",
      "24h尿镁定量\n",
      "尿肌酐\n",
      "β2-微球蛋白\n",
      "催乳素\n",
      "免疫球蛋白(E)\n",
      "卵泡刺激素\n",
      "孕酮\n",
      "睾酮\n",
      "雌二醇\n",
      "黄体生成素\n",
      "乙肝病毒定量\n",
      "甲胎蛋白\n",
      "糖类抗原CA-153\n",
      "B淋巴细胞\n",
      "NK(自然杀伤细胞)\n",
      "T4/T8比值\n",
      "T细胞亚群\n",
      "促肾上腺皮质激素\n",
      "全段甲状旁腺素\n",
      "尿白蛋白/尿肌酐\n",
      "总T细胞\n",
      "抑制T细胞诱导亚群\n",
      "抗DNA酶B\n",
      "抗链球菌溶血素\"O\"\n",
      "皮质醇(日8时)\n",
      "调节T细胞\n",
      "辅助T细胞诱导亚群\n",
      "β－胶原降解产物\n",
      "总Ⅰ型胶原氨基端延长\n",
      "骨钙素N端中分子片段\n",
      "皮质醇\n",
      "血浆肾素活性测定\n",
      "血管紧张素Ⅰ测定37℃\n",
      "血管紧张素Ⅰ测定4℃\n",
      "血管紧张素Ⅱ测定\n",
      "醛固酮/肾素活性\n",
      "醛固酮测定\n",
      "CK-MB定量\n",
      "淀粉酶\n",
      "脂肪酶\n",
      "血浆蛋白C活性测定\n",
      "血浆蛋白S活性测定\n",
      "尿微量白蛋白/尿肌酐比值\n",
      "尿肌酐测定\n",
      "高敏肌钙蛋白T\n",
      "C13幽门螺杆菌检测\n",
      "Sm/RNP定量\n",
      "Sm抗体定量\n",
      "双链DNA抗体定量\n",
      "总维生素D\n",
      "抗SSA抗体\n",
      "抗SSB抗体\n",
      "抗α胞衬蛋白IgG抗体\n",
      "抗核抗体定量\n",
      "淀粉样蛋白A\n",
      "类风湿因子\n",
      "血渗量\n",
      "促甲状腺受体自身抗体\n",
      "尿沉渣镜检红细胞\n",
      "抗甲状腺球蛋白抗体\n",
      "抗甲状腺过氧化物酶\n",
      "尿沉渣镜检白细胞\n",
      "50%氧饱和度时氧分压\n",
      "24h尿尿酸定量\n",
      "24h尿无机磷定量\n",
      "脂蛋白a\n",
      "葡萄糖(1H)\n",
      "血清载脂蛋白E测定\n",
      "载脂蛋白A\n",
      "载脂蛋白B\n",
      "载脂蛋白比值\n",
      "24小时尿肌酐清除率\n",
      "尿β2微球蛋白\n",
      "T3-T4-T8\n",
      "T4-T4RA-T4RO\n",
      "抗核抗体\n",
      "白蛋白质量法\n",
      "小而密低密度脂蛋白胆固醇\n",
      "抗凝血酶Ⅲ活性测定\n",
      "胰岛素样生长因子\n",
      "24h尿葡萄糖定量\n",
      "B细胞绝对计数\n",
      "CD4绝对计数\n",
      "IL-2膜受体\n",
      "NK细胞绝对计数\n",
      "T+B+NK\n",
      "T4细胞绝对计数\n",
      "T8-T8(28+)-T8(28-)\n",
      "T8细胞绝对计数\n",
      "免疫抑制T细胞亚群\n",
      "双阳性T细胞/总T细胞\n",
      "双阴性T细胞/总T细胞\n",
      "干扰素-γ\n",
      "总T细胞绝对计数\n",
      "杀伤T细胞亚群\n",
      "白细胞介素-10\n",
      "白细胞介素-17\n",
      "白细胞介素-2\n",
      "白细胞介素-4\n",
      "白细胞介素-6\n",
      "肿瘤坏死因子-a\n",
      "调节T细胞/T4细胞\n",
      "调节T细胞绝对计数\n",
      "肾小球性蛋白\n",
      "肾小管性蛋白\n",
      "皮质醇(日16时)\n",
      "皮质醇(日20时)\n",
      "皮质醇(次日2时)\n",
      "EB病毒早期抗原IgA抗体\n",
      "EB病毒核抗原IgG抗体\n",
      "EB病毒衣壳抗原IgA抗体\n",
      "EB病毒衣壳抗原IgG抗体\n",
      "EB病毒衣壳抗原IgM抗体\n",
      "叶酸测定\n",
      "血清维生素B12测定\n",
      "肿瘤坏死因子测定\n",
      "-IG#\n",
      "-IG%\n",
      "-LYZ\n",
      "-NESFL\n",
      "-NEWX\n",
      "纤维蛋白降解产物定量\n",
      "抗β2糖蛋白I型IgA抗体定量\n",
      "抗β2糖蛋白I型IgG抗体定量\n",
      "抗β2糖蛋白I型IgM抗体定量\n",
      "JC病毒定量\n",
      "多瘤病毒定量\n",
      "超敏C反应蛋白\n",
      "-MicroR\n",
      "同型半胱氨酸\n",
      "24h尿微量白蛋白测定\n",
      "乙肝病毒定量（FQ-HBV-DNA）\n"
     ]
    }
   ],
   "source": [
    "# 删除缺失超过50%的检测\n",
    "for i in df_Tcms_test_other.columns:\n",
    "    x=df_Tcms_test_other[i].isnull().sum()\n",
    "    per_x = x/df_Tcms_test_other.shape[0]  \n",
    "    if per_x >= 0.5:\n",
    "        print(i)\n",
    "        del df_Tcms_test_other[i]"
   ]
  },
  {
   "cell_type": "code",
   "execution_count": 280,
   "metadata": {},
   "outputs": [
    {
     "name": "stdout",
     "output_type": "stream",
     "text": [
      "(156, 106)\n",
      "86\n"
     ]
    }
   ],
   "source": [
    "print(df_Tcms_test_other.shape)\n",
    "print(df_Tcms_test_other['patient_id'].nunique())"
   ]
  },
  {
   "cell_type": "code",
   "execution_count": 281,
   "metadata": {},
   "outputs": [],
   "source": [
    "# 保存删除缺失率后的数据\n",
    "writer=pd.ExcelWriter(project_path+'/data/processed_data/df_9.4_删除缺失超过50%的列.xlsx')\n",
    "df_Tcms_test_other.to_excel(writer)\n",
    "writer.save()"
   ]
  },
  {
   "cell_type": "code",
   "execution_count": 282,
   "metadata": {},
   "outputs": [
    {
     "data": {
      "text/plain": [
       "2.0    35\n",
       "3.0    23\n",
       "1.0    22\n",
       "1.5    19\n",
       "4.0    17\n",
       "2.5    11\n",
       "0.5     8\n",
       "5.0     8\n",
       "4.5     3\n",
       "5.5     2\n",
       "6.0     2\n",
       "3.5     2\n",
       "4.2     1\n",
       "1.8     1\n",
       "1.2     1\n",
       "3.2     1\n",
       "Name: target_日剂量, dtype: int64"
      ]
     },
     "execution_count": 282,
     "metadata": {},
     "output_type": "execute_result"
    }
   ],
   "source": [
    "df_Tcms_test_other.target_日剂量.value_counts()"
   ]
  },
  {
   "cell_type": "markdown",
   "metadata": {},
   "source": [
    "## 人工删除没有意义的指标"
   ]
  },
  {
   "cell_type": "code",
   "execution_count": 283,
   "metadata": {},
   "outputs": [],
   "source": [
    "del df_Tcms_test_other['国际标准比率']\n",
    "del df_Tcms_test_other['尿管型(仪器定量)']\n",
    "del df_Tcms_test_other['尿酵母菌']\n",
    "del df_Tcms_test_other['总二氧化碳']\n",
    "\n",
    "del df_Tcms_test_other['无机磷']\n",
    "del df_Tcms_test_other['总钙']\n",
    "del df_Tcms_test_other['氯离子']\n",
    "del df_Tcms_test_other['葡萄糖']\n",
    "del df_Tcms_test_other['钠离子']\n",
    "del df_Tcms_test_other['钾离子']\n",
    "del df_Tcms_test_other['镁离子']"
   ]
  },
  {
   "cell_type": "code",
   "execution_count": 284,
   "metadata": {},
   "outputs": [],
   "source": [
    "df_Tcms_test_other.to_excel(project_path+'/data/processed_data/df_9.5_人工删除没有意义的指标.xlsx')"
   ]
  },
  {
   "cell_type": "code",
   "execution_count": 285,
   "metadata": {},
   "outputs": [
    {
     "data": {
      "text/plain": [
       "2.0    35\n",
       "3.0    23\n",
       "1.0    22\n",
       "1.5    19\n",
       "4.0    17\n",
       "2.5    11\n",
       "0.5     8\n",
       "5.0     8\n",
       "4.5     3\n",
       "5.5     2\n",
       "6.0     2\n",
       "3.5     2\n",
       "4.2     1\n",
       "1.8     1\n",
       "1.2     1\n",
       "3.2     1\n",
       "Name: target_日剂量, dtype: int64"
      ]
     },
     "execution_count": 285,
     "metadata": {},
     "output_type": "execute_result"
    }
   ],
   "source": [
    "df_Tcms_test_other.target_日剂量.value_counts()"
   ]
  },
  {
   "cell_type": "code",
   "execution_count": null,
   "metadata": {},
   "outputs": [],
   "source": []
  }
 ],
 "metadata": {
  "kernelspec": {
   "display_name": "Python 3",
   "language": "python",
   "name": "python3"
  },
  "language_info": {
   "codemirror_mode": {
    "name": "ipython",
    "version": 3
   },
   "file_extension": ".py",
   "mimetype": "text/x-python",
   "name": "python",
   "nbconvert_exporter": "python",
   "pygments_lexer": "ipython3",
   "version": "3.6.8"
  },
  "toc": {
   "base_numbering": 1,
   "nav_menu": {},
   "number_sections": true,
   "sideBar": true,
   "skip_h1_title": false,
   "title_cell": "Table of Contents",
   "title_sidebar": "Contents",
   "toc_cell": false,
   "toc_position": {
    "height": "902.4px",
    "left": "39px",
    "top": "124.956px",
    "width": "409.594px"
   },
   "toc_section_display": true,
   "toc_window_display": true
  },
  "varInspector": {
   "cols": {
    "lenName": 16,
    "lenType": 16,
    "lenVar": 40
   },
   "kernels_config": {
    "python": {
     "delete_cmd_postfix": "",
     "delete_cmd_prefix": "del ",
     "library": "var_list.py",
     "varRefreshCmd": "print(var_dic_list())"
    },
    "r": {
     "delete_cmd_postfix": ") ",
     "delete_cmd_prefix": "rm(",
     "library": "var_list.r",
     "varRefreshCmd": "cat(var_dic_list()) "
    }
   },
   "types_to_exclude": [
    "module",
    "function",
    "builtin_function_or_method",
    "instance",
    "_Feature"
   ],
   "window_display": false
  }
 },
 "nbformat": 4,
 "nbformat_minor": 2
}
