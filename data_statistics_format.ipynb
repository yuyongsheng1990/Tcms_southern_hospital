{
 "cells": [
  {
   "cell_type": "code",
   "execution_count": 16,
   "metadata": {},
   "outputs": [],
   "source": [
    "# 规范化变量统计"
   ]
  },
  {
   "cell_type": "code",
   "execution_count": 16,
   "metadata": {},
   "outputs": [],
   "source": [
    "# 导入程序包\n",
    "import pandas as pd\n",
    "import numpy as np\n",
    "\n",
    "import re\n",
    "import sys\n",
    "import os\n",
    "project_path = os.getcwd()"
   ]
  },
  {
   "cell_type": "markdown",
   "metadata": {},
   "source": [
    "# 变量统计"
   ]
  },
  {
   "cell_type": "code",
   "execution_count": 19,
   "metadata": {},
   "outputs": [],
   "source": [
    "df_model=pd.read_excel(project_path+'/data/df_修改剂量_model_data_importance_stat.xlsx')\n",
    "if 'Unnamed: 0' in df_model.columns:\n",
    "    df_model = df_model.drop(['Unnamed: 0'], axis=1)"
   ]
  },
  {
   "cell_type": "code",
   "execution_count": 20,
   "metadata": {},
   "outputs": [
    {
     "data": {
      "text/plain": [
       "(121, 41)"
      ]
     },
     "execution_count": 20,
     "metadata": {},
     "output_type": "execute_result"
    }
   ],
   "source": [
    "df_model.shape"
   ]
  },
  {
   "cell_type": "code",
   "execution_count": 21,
   "metadata": {},
   "outputs": [
    {
     "data": {
      "text/plain": [
       "Index(['target_日剂量', '体重', '钙离子阻抗剂', '尿酸', '日剂量', '肌酐', '乳酸脱氢酶', '总胆红素', 'age',\n",
       "       'BMI', '身高', '天门冬氨酸氨基转移酶', '甘油三酯', '糖尿病', '中性粒细胞总数', '直接胆红素', '心型肌酸激酶',\n",
       "       '凝血酶原活动度', '胱抑素-C', '平均红细胞血红蛋白量', '尿素', '血小板分布宽度', '血红蛋白测定',\n",
       "       '高密度脂蛋白胆固醇', '酸碱浓度', '肌酸激酶', '低密度脂蛋白胆固醇', '总胆固醇', '中性粒细胞百分数',\n",
       "       'a-羟丁酸脱氢酶', '淋巴细胞百分数', '平均RBC血红蛋白浓度', '嗜碱性粒细胞百分数', 'test_result',\n",
       "       '大型血小板比值', '平均血小板容积', '高血压', '糖皮质激素', 'gender', '其他免疫抑制剂', '质子泵抑制剂'],\n",
       "      dtype='object')"
      ]
     },
     "execution_count": 21,
     "metadata": {},
     "output_type": "execute_result"
    }
   ],
   "source": [
    "df_model.columns"
   ]
  },
  {
   "cell_type": "code",
   "execution_count": 49,
   "metadata": {},
   "outputs": [],
   "source": [
    "# 选取变量\n",
    "discrete_col = ['target_日剂量','钙离子阻抗剂','糖尿病','高血压','糖皮质激素','gender','其他免疫抑制剂','质子泵抑制剂']\n",
    "continuous_col=[x for x in df_model.columns if x not in discrete_col]"
   ]
  },
  {
   "cell_type": "markdown",
   "metadata": {},
   "source": [
    "## 分类变量统计"
   ]
  },
  {
   "cell_type": "code",
   "execution_count": 50,
   "metadata": {
    "scrolled": true
   },
   "outputs": [
    {
     "name": "stdout",
     "output_type": "stream",
     "text": [
      "target_日剂量\n",
      "1.0\n",
      "1.5\n",
      "2.0\n",
      "2.5\n",
      "3.0\n",
      "4.0\n",
      "钙离子阻抗剂\n",
      "是\n",
      "否\n",
      "糖尿病\n",
      "是\n",
      "否\n",
      "高血压\n",
      "是\n",
      "否\n",
      "糖皮质激素\n",
      "是\n",
      "否\n",
      "gender\n",
      "男\n",
      "女\n",
      "其他免疫抑制剂\n",
      "是\n",
      "否\n",
      "质子泵抑制剂\n",
      "是\n",
      "否\n"
     ]
    }
   ],
   "source": [
    "# 求分类变量比例\n",
    "df_discrete_stat=pd.DataFrame(columns=['变量名称','所有事件(%d)' % df_model.shape[0],'缺失率(%)'])\n",
    "for i in discrete_col:\n",
    "    print(i)\n",
    "    # 缺失率\n",
    "    if df_model[i].isnull().sum()==0:\n",
    "        miss_rate='0%'\n",
    "    else:\n",
    "        miss_rate=df_model[i].isnull().sum()/df_model.shape[0]\n",
    "        miss_rate=\"%.2f%%\" % (miss_rate * 100)      # 百分数输出\n",
    "    df_discrete_stat.loc[df_discrete_stat.shape[0],['变量名称','缺失率(%)']]=[i+'，n(%)',miss_rate]\n",
    "    \n",
    "    # 分类变量单独统计\n",
    "    name_list=[]\n",
    "    num_perc_list=[]\n",
    "    df_model_stat=df_model[df_model[i].notnull()].sort_values([i],ascending=True)\n",
    "    \n",
    "    # 二分类还是多分类变量\n",
    "    if df_model_stat[i].nunique() <=2:\n",
    "        if re.match('gender|性别',i):\n",
    "            name_list=['男','女']\n",
    "        else:\n",
    "            name_list=['是','否']\n",
    "        for name,value in zip(name_list,[1,0]):\n",
    "            print(name)\n",
    "            num=df_model_stat[df_model_stat[i]==value].shape[0]\n",
    "            percent=num/df_model.shape[0]\n",
    "            percent=\"%.2f%%\" % (percent * 100)\n",
    "            num_percent=str(num)+'('+percent+')'\n",
    "            num_perc_list.append(num_percent)\n",
    "    else:\n",
    "        for value in sorted(df_model_stat[i].unique()):\n",
    "            print(value)\n",
    "            name_list.append(value)\n",
    "            num=df_model_stat[df_model_stat[i]==value].shape[0]\n",
    "            percent=num/df_model.shape[0]\n",
    "            percent=\"%.2f%%\" % (percent * 100)\n",
    "            num_percent=str(num)+'('+percent+')'\n",
    "            num_perc_list.append(num_percent)\n",
    "        \n",
    "        \n",
    "    df_temp = pd.DataFrame(data={'变量名称':name_list,\n",
    "                                 '所有事件(%d)' % df_model.shape[0]:num_perc_list})\n",
    "\n",
    "    df_discrete_stat=pd.concat([df_discrete_stat,df_temp],axis=0)\n",
    "    df_discrete_stat=df_discrete_stat.reset_index(drop=True)"
   ]
  },
  {
   "cell_type": "code",
   "execution_count": 51,
   "metadata": {},
   "outputs": [
    {
     "data": {
      "text/plain": [
       "['是', '否']"
      ]
     },
     "execution_count": 51,
     "metadata": {},
     "output_type": "execute_result"
    }
   ],
   "source": [
    "name_list"
   ]
  },
  {
   "cell_type": "code",
   "execution_count": 52,
   "metadata": {},
   "outputs": [],
   "source": [
    "# 保存分类变量统计\n",
    "df_discrete_stat.to_excel(project_path+'/data/stat/df_2.1_分类变量统计_importance.xlsx')"
   ]
  },
  {
   "cell_type": "markdown",
   "metadata": {},
   "source": [
    "## 连续变量统计"
   ]
  },
  {
   "cell_type": "code",
   "execution_count": 53,
   "metadata": {},
   "outputs": [],
   "source": [
    "# 统计全变量体系各变量的平均数、上下四分位数、缺失率\n",
    "feature_quarter_list=[]\n",
    "mean_quarter_list=[]\n",
    "feature_std_list=[]\n",
    "mean_std_list=[]\n",
    "miss_list=[]\n",
    "for i in continuous_col:\n",
    "    # 计算上下四分位、均值、标准差\n",
    "    try:\n",
    "        data = df_model[i].astype('float')\n",
    "        stat_result = pd.DataFrame(data.describe())\n",
    "        mean_value=stat_result.loc['mean',i]\n",
    "        up_quarter=stat_result.loc['25%',i]\n",
    "        down_quarter=stat_result.loc['75%',i]\n",
    "        std_value=stat_result.loc['std',i]\n",
    "    except:\n",
    "        mean_value=np.nan\n",
    "        up_quarter=np.nan\n",
    "        down_quarter=np.nan\n",
    "    # 计算缺失率\n",
    "    if df_model[i].isnull().sum()==0:\n",
    "        miss_rate='0%'\n",
    "    else:\n",
    "        miss_rate=df_model[i].isnull().sum()/df_model.shape[0]\n",
    "        miss_rate=\"%.2f%%\" % (miss_rate * 100)      # 百分数输出\n",
    "    miss_list.append(miss_rate)\n",
    "    # mean(quarter)\n",
    "    feature_quarter_list.append(i+'，mean（IQR）')\n",
    "    mean_quarter_list.append('%.2f(%.2f-%.2f)' % (mean_value,up_quarter,down_quarter))\n",
    "    # mean(std)\n",
    "    feature_std_list.append(i+'，mean±std')\n",
    "    mean_std_list.append('%.2f±%.2f' % (mean_value,std_value))"
   ]
  },
  {
   "cell_type": "code",
   "execution_count": 54,
   "metadata": {},
   "outputs": [],
   "source": [
    "df_continuous_quarter=pd.DataFrame(data={'特征':feature_quarter_list,\n",
    "                        'mean_quarter_list':mean_quarter_list,\n",
    "                        'miss_list':miss_list})\n",
    "df_continuous_std=pd.DataFrame(data={'特征':feature_std_list,\n",
    "                        'mean_std_list':mean_std_list,\n",
    "                        'miss_list':miss_list})"
   ]
  },
  {
   "cell_type": "code",
   "execution_count": 55,
   "metadata": {},
   "outputs": [],
   "source": [
    "df_continous_stat=pd.concat([df_continuous_quarter,df_continuous_std],axis=1)\n",
    "# 保存连续变量统计\n",
    "df_continous_stat.to_excel(project_path+'/data/stat/df_2.2_连续变量统计_importance.xlsx')"
   ]
  },
  {
   "cell_type": "code",
   "execution_count": null,
   "metadata": {},
   "outputs": [],
   "source": []
  }
 ],
 "metadata": {
  "kernelspec": {
   "display_name": "Python 3",
   "language": "python",
   "name": "python3"
  },
  "language_info": {
   "codemirror_mode": {
    "name": "ipython",
    "version": 3
   },
   "file_extension": ".py",
   "mimetype": "text/x-python",
   "name": "python",
   "nbconvert_exporter": "python",
   "pygments_lexer": "ipython3",
   "version": "3.6.8"
  },
  "toc": {
   "base_numbering": 1,
   "nav_menu": {},
   "number_sections": true,
   "sideBar": true,
   "skip_h1_title": false,
   "title_cell": "Table of Contents",
   "title_sidebar": "Contents",
   "toc_cell": false,
   "toc_position": {
    "height": "calc(100% - 180px)",
    "left": "10px",
    "top": "150px",
    "width": "460.8px"
   },
   "toc_section_display": true,
   "toc_window_display": true
  },
  "varInspector": {
   "cols": {
    "lenName": 16,
    "lenType": 16,
    "lenVar": 40
   },
   "kernels_config": {
    "python": {
     "delete_cmd_postfix": "",
     "delete_cmd_prefix": "del ",
     "library": "var_list.py",
     "varRefreshCmd": "print(var_dic_list())"
    },
    "r": {
     "delete_cmd_postfix": ") ",
     "delete_cmd_prefix": "rm(",
     "library": "var_list.r",
     "varRefreshCmd": "cat(var_dic_list()) "
    }
   },
   "types_to_exclude": [
    "module",
    "function",
    "builtin_function_or_method",
    "instance",
    "_Feature"
   ],
   "window_display": false
  }
 },
 "nbformat": 4,
 "nbformat_minor": 2
}
