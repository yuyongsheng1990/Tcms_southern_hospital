{
 "cells": [
  {
   "cell_type": "code",
   "execution_count": 2,
   "metadata": {},
   "outputs": [],
   "source": [
    "# 他克莫司剂量模型集成"
   ]
  },
  {
   "cell_type": "code",
   "execution_count": 1,
   "metadata": {},
   "outputs": [],
   "source": [
    "import pandas as pd\n",
    "import numpy as np\n",
    "\n",
    "import sys\n",
    "import re\n",
    "import os\n",
    "project_path = os.getcwd()"
   ]
  },
  {
   "cell_type": "markdown",
   "metadata": {},
   "source": [
    "## load data"
   ]
  },
  {
   "cell_type": "code",
   "execution_count": 2,
   "metadata": {},
   "outputs": [],
   "source": [
    "df_model =pd.read_excel(project_path +'/data/df_修改剂量_model_data_forward_模型集成.xlsx')\n",
    "if 'Unnamed: 0' in df_model.columns:\n",
    "    df_model = df_model.drop(['Unnamed: 0'], axis=1)"
   ]
  },
  {
   "cell_type": "code",
   "execution_count": 3,
   "metadata": {},
   "outputs": [
    {
     "data": {
      "text/plain": [
       "(150, 13)"
      ]
     },
     "execution_count": 3,
     "metadata": {},
     "output_type": "execute_result"
    }
   ],
   "source": [
    "df_model.shape"
   ]
  },
  {
   "cell_type": "code",
   "execution_count": 4,
   "metadata": {},
   "outputs": [
    {
     "data": {
      "text/plain": [
       "Index(['target_dosage', 'gender', 'age', 'weight', 'EH', 'DM', 'ccb',\n",
       "       'glucocorticoid', 'last_dosage', 'last_tdm', 'direct_bilirubin', 'urea',\n",
       "       'lymphocyte_ratio'],\n",
       "      dtype='object')"
      ]
     },
     "execution_count": 4,
     "metadata": {},
     "output_type": "execute_result"
    }
   ],
   "source": [
    "df_model.columns"
   ]
  },
  {
   "cell_type": "code",
   "execution_count": 5,
   "metadata": {},
   "outputs": [
    {
     "name": "stdout",
     "output_type": "stream",
     "text": [
      "2.0    32\n",
      "4.0    21\n",
      "0.0    21\n",
      "1.0    19\n",
      "5.0    17\n",
      "3.0    11\n",
      "Name: target_dosage, dtype: int64\n"
     ]
    }
   ],
   "source": [
    "# 抽取分类数据\n",
    "# 把少数样本\n",
    "df_model['target_dosage']=df_model['target_dosage'].apply(lambda x: 0 if round(float(x),1)==1 else\n",
    "                                                                1 if round(float(x),1)==1.5 else\n",
    "                                                                2 if round(float(x),1)==2 else\n",
    "                                                                3 if round(float(x),1)==2.5 else\n",
    "                                                                4 if round(float(x),1)==3 else\n",
    "                                                                5 if round(float(x),1)==4 else 6)\n",
    "# 提取分类数据\n",
    "df_model['target_dosage']=df_model['target_dosage'].astype('str')\n",
    "df_model=df_model[df_model['target_dosage'].str.contains('0|1|2|3|4|5')]\n",
    "df_model['target_dosage']=df_model['target_dosage'].astype('float')\n",
    "print(df_model.target_dosage.value_counts())"
   ]
  },
  {
   "cell_type": "code",
   "execution_count": 6,
   "metadata": {},
   "outputs": [],
   "source": [
    "discrete_col=['ccb','DM','EH','glucocorticoid','gender']\n",
    "continuous_col=[x for x in df_model.columns if x not in discrete_col]\n",
    "continuous_col.remove('target_dosage')"
   ]
  },
  {
   "cell_type": "markdown",
   "metadata": {},
   "source": [
    "## 归一化处理"
   ]
  },
  {
   "cell_type": "code",
   "execution_count": 7,
   "metadata": {},
   "outputs": [],
   "source": [
    "# 防止不同维特征数据差距过大，影响建模效果\n",
    "max_list=[]\n",
    "for i in continuous_col:\n",
    "    max_value = df_model[i].max()\n",
    "    max_list.append(max_value)\n",
    "    df_model[i]=df_model[i].apply(lambda x: round(x/max_value,3))"
   ]
  },
  {
   "cell_type": "markdown",
   "metadata": {},
   "source": [
    "## 随机森林插补"
   ]
  },
  {
   "cell_type": "code",
   "execution_count": 8,
   "metadata": {},
   "outputs": [],
   "source": [
    "# 使用随机森林对缺失值进行插补\n",
    "import pandas as pd\n",
    "pd.set_option('mode.chained_assignment', None)\n",
    "import numpy as np\n",
    "from sklearn.ensemble import RandomForestRegressor\n",
    "from sklearn.model_selection import GridSearchCV\n",
    "def missing_value_interpolation(df):\n",
    "    df = df.reset_index(drop=True)\n",
    "    # 提取存在缺失值的列名\n",
    "    missing_list = []\n",
    "    for i in df.columns:\n",
    "        if df[i].isnull().sum()>0:\n",
    "            missing_list.append(i)\n",
    "    missing_list_copy = missing_list.copy()\n",
    "    # 用该列未缺失的值训练随机森林，然后用训练好的rf预测缺失值\n",
    "    for i in range(len(missing_list)):\n",
    "        name=missing_list[0]\n",
    "        df_missing = df[missing_list_copy]\n",
    "        # 将其他列的缺失值用0表示。\n",
    "        missing_list.remove(name)\n",
    "        for j in missing_list:\n",
    "            df_missing[j]=df_missing[j].astype('str').apply(lambda x: 0 if x=='nan' else x)\n",
    "        df_missing_is = df_missing[df_missing[name].isnull()]\n",
    "        df_missing_not = df_missing[df_missing[name].notnull()]\n",
    "        y = df_missing_not[name]\n",
    "        x = df_missing_not.drop([name],axis=1)\n",
    "\n",
    "        rfr = RandomForestRegressor(n_estimators=300,\n",
    "                                    random_state=3)\n",
    "        rfr.fit(x, y)\n",
    "        #预测缺失值\n",
    "        predict = rfr.predict(df_missing_is.drop([name],axis=1))\n",
    "        #填补缺失值\n",
    "        df.loc[df[name].isnull(),name] = predict\n",
    "    return df"
   ]
  },
  {
   "cell_type": "code",
   "execution_count": 9,
   "metadata": {},
   "outputs": [],
   "source": [
    "# 插补建模数据\n",
    "df_model_cb=missing_value_interpolation(df_model)"
   ]
  },
  {
   "cell_type": "markdown",
   "metadata": {},
   "source": [
    "## SMOTE"
   ]
  },
  {
   "cell_type": "code",
   "execution_count": 10,
   "metadata": {},
   "outputs": [],
   "source": [
    "from imblearn.over_sampling import SMOTE,ADASYN \n",
    "tran_x = df_model_cb.drop(['target_dosage'],axis=1)\n",
    "tran_y = df_model_cb['target_dosage']\n",
    "sm = SMOTE(random_state=0)\n",
    "tran_x_sm,tran_y_sm = sm.fit_resample(tran_x,tran_y)"
   ]
  },
  {
   "cell_type": "markdown",
   "metadata": {},
   "source": [
    "## model"
   ]
  },
  {
   "cell_type": "code",
   "execution_count": 11,
   "metadata": {},
   "outputs": [
    {
     "data": {
      "text/plain": [
       "XGBClassifier(colsample_bytree=0.8, eta=0.1, gamma=0.5, learning_rate=0.001,\n",
       "              max_depth=5, min_child_weight=0.5, n_estimators=500, nthread=4,\n",
       "              objective='multi:softprob', random_state=3, reg_lambda=5,\n",
       "              subsample=0.8)"
      ]
     },
     "execution_count": 11,
     "metadata": {},
     "output_type": "execute_result"
    }
   ],
   "source": [
    "import xgboost\n",
    "# XGBoost模型\n",
    "xgb_model=xgboost.XGBClassifier(max_depth=5,\n",
    "                        learning_rate=0.001,\n",
    "                        n_estimators=500,\n",
    "                        min_child_weight=0.5,\n",
    "                        eta=0.1,\n",
    "                        gamma=0.5,\n",
    "                        reg_lambda=5,\n",
    "                        subsample=0.8,\n",
    "                        colsample_bytree=0.8,\n",
    "                        nthread=4,\n",
    "                        scale_pos_weight=1,\n",
    "                        random_state=3)\n",
    "xgb_model.fit(tran_x_sm,tran_y_sm)"
   ]
  },
  {
   "cell_type": "markdown",
   "metadata": {},
   "source": [
    "## save model"
   ]
  },
  {
   "cell_type": "code",
   "execution_count": 14,
   "metadata": {},
   "outputs": [],
   "source": [
    "import pickle\n",
    "pickle.dump(xgb_model,open(project_path+'/data/result/xgb_model.pkl','wb'))"
   ]
  },
  {
   "cell_type": "markdown",
   "metadata": {},
   "source": [
    "## predict dosage"
   ]
  },
  {
   "cell_type": "code",
   "execution_count": 15,
   "metadata": {},
   "outputs": [],
   "source": [
    "gender=1\n",
    "age=32\n",
    "weight=65\n",
    "EH=0\n",
    "DM=0\n",
    "ccb=0\n",
    "glucocorticoid=1\n",
    "last_dosage=2\n",
    "last_tdm=12.5\n",
    "direct_bilirubin=1.8\n",
    "urea=14.4\n",
    "lymphocyte_ratio=29.7"
   ]
  },
  {
   "cell_type": "code",
   "execution_count": 16,
   "metadata": {},
   "outputs": [],
   "source": [
    "# 连续变量归一化处理\n",
    "age=round(age/73,3)\n",
    "weight=round(weight/117.6,3)\n",
    "last_dosage=round(last_dosage/6,3)\n",
    "last_tdm=round(last_tdm/30,3)\n",
    "direct_bilirubin=round(direct_bilirubin/8.8,3)\n",
    "urea=round(urea/36.1,3)\n",
    "lymphocyte_ratio=round(lymphocyte_ratio/71.8)"
   ]
  },
  {
   "cell_type": "code",
   "execution_count": 17,
   "metadata": {},
   "outputs": [],
   "source": [
    "df_test=pd.DataFrame(data={'gender':[gender],\n",
    "                          'age':[age],\n",
    "                          'weight':[weight],\n",
    "                          'EH':[EH],\n",
    "                          'DM':[DM],\n",
    "                          'ccb':[ccb],\n",
    "                          'glucocorticoid':[glucocorticoid],\n",
    "                          'last_dosage':[last_dosage],\n",
    "                          'last_tdm':[last_tdm],\n",
    "                          'direct_bilirubin':[direct_bilirubin],\n",
    "                          'urea':[urea],\n",
    "                          'lymphocyte_ratio':[lymphocyte_ratio]})"
   ]
  },
  {
   "cell_type": "code",
   "execution_count": 18,
   "metadata": {},
   "outputs": [],
   "source": [
    "# 重新加载预测模型\n",
    "import xgboost\n",
    "pre_model=pickle.load(open(project_path+'/data/result/xgb_model.pkl','rb'))"
   ]
  },
  {
   "cell_type": "code",
   "execution_count": 19,
   "metadata": {},
   "outputs": [
    {
     "data": {
      "text/plain": [
       "XGBClassifier(colsample_bytree=0.8, eta=0.1, gamma=0.5, learning_rate=0.001,\n",
       "              max_depth=5, min_child_weight=0.5, missing=nan, n_estimators=500,\n",
       "              nthread=4, objective='multi:softprob', random_state=3,\n",
       "              reg_lambda=5, subsample=0.8)"
      ]
     },
     "execution_count": 19,
     "metadata": {},
     "output_type": "execute_result"
    }
   ],
   "source": [
    "pre_model"
   ]
  },
  {
   "cell_type": "code",
   "execution_count": 20,
   "metadata": {},
   "outputs": [],
   "source": [
    "pre=pre_model.predict(df_test)"
   ]
  },
  {
   "cell_type": "code",
   "execution_count": 21,
   "metadata": {},
   "outputs": [
    {
     "data": {
      "text/plain": [
       "array([2.])"
      ]
     },
     "execution_count": 21,
     "metadata": {},
     "output_type": "execute_result"
    }
   ],
   "source": [
    "pre"
   ]
  },
  {
   "cell_type": "code",
   "execution_count": 22,
   "metadata": {},
   "outputs": [],
   "source": [
    "# 标签转换为日剂量\n",
    "if pre[0]==0:\n",
    "    dosage='1mg'\n",
    "elif pre[0]==1:\n",
    "    dosage='1.5mg'\n",
    "elif pre[0]==2:\n",
    "    dosage='2mg'\n",
    "elif pre[0]==3:\n",
    "    dosage.append('2.5mg')\n",
    "elif pre[0]==4:\n",
    "    dosage.append('3mg')\n",
    "elif pre[0]==5:\n",
    "    dosage.append('4mg')"
   ]
  },
  {
   "cell_type": "code",
   "execution_count": 23,
   "metadata": {},
   "outputs": [
    {
     "data": {
      "text/plain": [
       "'2mg'"
      ]
     },
     "execution_count": 23,
     "metadata": {},
     "output_type": "execute_result"
    }
   ],
   "source": [
    "dosage"
   ]
  },
  {
   "cell_type": "code",
   "execution_count": null,
   "metadata": {},
   "outputs": [],
   "source": []
  }
 ],
 "metadata": {
  "kernelspec": {
   "display_name": "Python 3",
   "language": "python",
   "name": "python3"
  },
  "language_info": {
   "codemirror_mode": {
    "name": "ipython",
    "version": 3
   },
   "file_extension": ".py",
   "mimetype": "text/x-python",
   "name": "python",
   "nbconvert_exporter": "python",
   "pygments_lexer": "ipython3",
   "version": "3.6.8"
  },
  "toc": {
   "base_numbering": 1,
   "nav_menu": {},
   "number_sections": true,
   "sideBar": true,
   "skip_h1_title": false,
   "title_cell": "Table of Contents",
   "title_sidebar": "Contents",
   "toc_cell": false,
   "toc_position": {},
   "toc_section_display": true,
   "toc_window_display": true
  },
  "varInspector": {
   "cols": {
    "lenName": 16,
    "lenType": 16,
    "lenVar": 40
   },
   "kernels_config": {
    "python": {
     "delete_cmd_postfix": "",
     "delete_cmd_prefix": "del ",
     "library": "var_list.py",
     "varRefreshCmd": "print(var_dic_list())"
    },
    "r": {
     "delete_cmd_postfix": ") ",
     "delete_cmd_prefix": "rm(",
     "library": "var_list.r",
     "varRefreshCmd": "cat(var_dic_list()) "
    }
   },
   "types_to_exclude": [
    "module",
    "function",
    "builtin_function_or_method",
    "instance",
    "_Feature"
   ],
   "window_display": false
  }
 },
 "nbformat": 4,
 "nbformat_minor": 2
}
